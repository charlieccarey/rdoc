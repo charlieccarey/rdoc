{
 "cells": [
  {
   "cell_type": "markdown",
   "metadata": {},
   "source": [
    "# deepdive arousal sentences per annotator"
   ]
  },
  {
   "cell_type": "code",
   "execution_count": 174,
   "metadata": {
    "collapsed": true
   },
   "outputs": [],
   "source": [
    "import os"
   ]
  },
  {
   "cell_type": "markdown",
   "metadata": {},
   "source": [
    "## create the same schema to be used for each user"
   ]
  },
  {
   "cell_type": "code",
   "execution_count": 193,
   "metadata": {
    "collapsed": false
   },
   "outputs": [
    {
     "name": "stdout",
     "output_type": "stream",
     "text": [
      "mkdir: /Users/ccarey/Documents/Projects/NAMI/rdoc/tasks/sources_arousal: File exists\n",
      "/Users/ccarey/Documents/Projects/NAMI/rdoc/tasks/sources_arousal\n"
     ]
    }
   ],
   "source": [
    "%mkdir '/Users/ccarey/Documents/Projects/NAMI/rdoc/tasks/sources_arousal'\n",
    "%cd '/Users/ccarey/Documents/Projects/NAMI/rdoc/tasks/sources_arousal'\n",
    "\n",
    "schema = \"\"\"DROP TABLE IF EXISTS _raw_sentences CASCADE;\n",
    "CREATE TABLE _raw_sentences (\n",
    "    sentence_id TEXT,\n",
    "    sentence TEXT,\n",
    "    terms TEXT\n",
    "    );\n",
    "\n",
    "DROP TABLE IF EXISTS _annotated_sentences CASCADE;\n",
    "CREATE TABLE _annotated_sentences(\n",
    "  sentence_id TEXT,\n",
    "  words TEXT[],\n",
    "  has_term BOOLEAN,\n",
    "  id BIGINT   -- reserved for DeepDive\n",
    "  );\n",
    "\n",
    "DROP TABLE IF EXISTS _extracted_features CASCADE;\n",
    "  CREATE TABLE _extracted_features (\n",
    "  sentence_id TEXT,\n",
    "  feature TEXT\n",
    "  );\n",
    "\"\"\"\n",
    "\n",
    "with open('schema.sql', 'w') as f:\n",
    "    f.write(schema)"
   ]
  },
  {
   "cell_type": "markdown",
   "metadata": {},
   "source": [
    "## setup deepdive app for each annotator\n",
    "creating per annotator : \n",
    "- the app directory\n",
    "- the schema\n",
    "- an input directory (for preprocessed data)\n",
    "  + we have done a lot of preprocessing to get files here.\n",
    "  + Could arguably have instead parsed to get bags of words etc. using user defined functions in deepdive extractors.\n",
    "- input/init.sh\n",
    "  + run when 'deepdive initdb'\n",
    "  + loads our initical database tables.\n",
    "    - _raw_sentences\n",
    "    - _annotated_sentences # bags of lemmas and bilemmas...\n",
    "- a deepdive.conf file.\n",
    "  + This just has the inference rules in place\n",
    "- a udf directory (user defined functions aka scripts that deepdive will run in extractors)\n",
    "  + we would put extraction scripts here but we did so much preprocessing into input files."
   ]
  },
  {
   "cell_type": "code",
   "execution_count": 202,
   "metadata": {
    "collapsed": false
   },
   "outputs": [
    {
     "name": "stdout",
     "output_type": "stream",
     "text": [
      "mkdir: /Users/ccarey/Documents/Projects/NAMI/rdoc/tasks/deepdive_app/arousal_JL: File exists\n",
      "/Users/ccarey/Documents/Projects/NAMI/rdoc/tasks/deepdive_app/arousal_JL\n",
      "mkdir: ./input: File exists\n",
      "mkdir: ./udf: File exists\n",
      "mkdir: /Users/ccarey/Documents/Projects/NAMI/rdoc/tasks/deepdive_app/arousal_MK: File exists\n",
      "/Users/ccarey/Documents/Projects/NAMI/rdoc/tasks/deepdive_app/arousal_MK\n",
      "mkdir: ./input: File exists\n",
      "mkdir: ./udf: File exists\n",
      "mkdir: /Users/ccarey/Documents/Projects/NAMI/rdoc/tasks/deepdive_app/arousal_TC: File exists\n",
      "/Users/ccarey/Documents/Projects/NAMI/rdoc/tasks/deepdive_app/arousal_TC\n",
      "mkdir: ./input: File exists\n",
      "mkdir: ./udf: File exists\n",
      "mkdir: /Users/ccarey/Documents/Projects/NAMI/rdoc/tasks/deepdive_app/arousal_CC: File exists\n",
      "/Users/ccarey/Documents/Projects/NAMI/rdoc/tasks/deepdive_app/arousal_CC\n",
      "mkdir: ./input: File exists\n",
      "mkdir: ./udf: File exists\n"
     ]
    }
   ],
   "source": [
    "app_bn='/Users/ccarey/Documents/Projects/NAMI/rdoc/tasks/deepdive_app/arousal'\n",
    "annotators = ['JL','MK', 'TC', 'CC']\n",
    "for a in annotators:\n",
    "    app_dir = app_bn + '_' + a\n",
    "    %mkdir {app_dir}\n",
    "    %cd $app_dir\n",
    "    h = 'postgresql://localhost/arousal_' + a\n",
    "    !echo {h} > ./db.url\n",
    "    %cp '/Users/ccarey/Documents/Projects/NAMI/rdoc/tasks/sources_arousal/schema.sql' ./\n",
    "    %cp '/Users/ccarey/Documents/Projects/NAMI/rdoc/tasks/sources_arousal/deepdive.conf' ./\n",
    "    %mkdir ./input\n",
    "    %cp '/Users/ccarey/Documents/Projects/NAMI/rdoc/tasks/sources_arousal/init.sh' ./input/\n",
    "    !chmod +x './input/init.sh'\n",
    "    %mkdir ./udf\n",
    "    %cp '/Users/ccarey/Documents/Projects/NAMI/rdoc/tasks/sources_arousal/dd_extract_features.py' ./udf/"
   ]
  },
  {
   "cell_type": "code",
   "execution_count": 165,
   "metadata": {
    "collapsed": false
   },
   "outputs": [
    {
     "data": {
      "text/plain": [
       "u'/Users/ccarey/Documents/Projects/NAMI/rdoc/tasks/deepdive_app/arousal_CC'"
      ]
     },
     "execution_count": 165,
     "metadata": {},
     "output_type": "execute_result"
    }
   ],
   "source": [
    "%pwd"
   ]
  },
  {
   "cell_type": "markdown",
   "metadata": {},
   "source": [
    "## populating the input directory with preprocessed data from annotations.\n",
    "\n",
    "### The sentences and indication they are +/- for topic\n",
    "For each annotator for topic 'arousal' we are generating a single raw_sentences file composed from:\n",
    "- positive sentences for topic\n",
    "- negative sentences for topic\n",
    "- neutral sentences for topic... '\\N' indicates null for postgres.\n",
    "\n",
    "'some text\\tTRUE'\n",
    "\n",
    "'other text\\tFALSE'"
   ]
  },
  {
   "cell_type": "code",
   "execution_count": 145,
   "metadata": {
    "collapsed": false
   },
   "outputs": [
    {
     "data": {
      "text/plain": [
       "u'/Users/ccarey/Documents/Projects/NAMI/rdoc/tasks/deepdive_app/arousal_CC'"
      ]
     },
     "execution_count": 145,
     "metadata": {},
     "output_type": "execute_result"
    }
   ],
   "source": [
    "%pwd"
   ]
  },
  {
   "cell_type": "code",
   "execution_count": 207,
   "metadata": {
    "collapsed": false
   },
   "outputs": [
    {
     "name": "stdout",
     "output_type": "stream",
     "text": [
      "/Users/ccarey/Documents/Projects/NAMI/rdoc/tasks/deepdive_app/arousal_JL\n",
      "/Users/ccarey/Documents/Projects/NAMI/rdoc/results/annotations_processed/AR_JL_pos\n",
      "      91 ./input/tmp_neg\n",
      "      64 ./input/tmp_not_pos\n",
      "     303 ./input/tmp_pos\n",
      "     458 total\n",
      "/Users/ccarey/Documents/Projects/NAMI/rdoc/tasks/deepdive_app/arousal_MK\n",
      "/Users/ccarey/Documents/Projects/NAMI/rdoc/results/annotations_processed/AR_MK_pos\n",
      "     166 ./input/tmp_neg\n",
      "     211 ./input/tmp_not_pos\n",
      "     201 ./input/tmp_pos\n",
      "     578 total\n",
      "/Users/ccarey/Documents/Projects/NAMI/rdoc/tasks/deepdive_app/arousal_TC\n",
      "/Users/ccarey/Documents/Projects/NAMI/rdoc/results/annotations_processed/AR_TC_pos\n",
      "      62 ./input/tmp_neg\n",
      "     267 ./input/tmp_not_pos\n",
      "     155 ./input/tmp_pos\n",
      "     484 total\n",
      "/Users/ccarey/Documents/Projects/NAMI/rdoc/tasks/deepdive_app/arousal_CC\n",
      "/Users/ccarey/Documents/Projects/NAMI/rdoc/results/annotations_processed/AR_CC_pos\n",
      "       0 ./input/tmp_neg\n",
      "       0 ./input/tmp_not_pos\n",
      "       0 ./input/tmp_pos\n",
      "       0 total\n"
     ]
    }
   ],
   "source": [
    "app_bn='/Users/ccarey/Documents/Projects/NAMI/rdoc/tasks/deepdive_app/arousal'\n",
    "annotators = ['JL','MK', 'TC', 'CC']\n",
    "\n",
    "for a in annotators:\n",
    "    app_dir = app_bn + '_' + a\n",
    "    %cd {app_dir}\n",
    "    input_dir = os.path.join(app_dir, 'input')\n",
    "    pos_sent = '/Users/ccarey/Documents/Projects/NAMI/rdoc/results/annotations_processed/AR_' + a + '_pos'\n",
    "    not_pos_sent = '/Users/ccarey/Documents/Projects/NAMI/rdoc/results/annotations_processed/AR_' + a + '_not_pos'\n",
    "    neg_sent = '/Users/ccarey/Documents/Projects/NAMI/rdoc/results/annotations_processed/AR_' + a + '_neg'\n",
    "    print(pos_sent)# create raw_sentences from positive and negative sentences.\n",
    "    # 1   An example sentence...   TRUE  # + arousal\n",
    "    # 222 Another sentence....     FALSE # - arousal\n",
    "    !sed 's/$/\\tt/' $pos_sent > ./input/tmp_pos\n",
    "    !sed 's/$/\\tf/' $neg_sent > ./input/tmp_neg\n",
    "    !sed 's/$/\\t\\\\N/' $not_pos_sent > ./input/tmp_not_pos\n",
    "    !wc -l ./input/tmp* \n",
    "    %cat ./input/tmp* | cat -n | sed 's/^[ ]*//' > ./input/raw_sentences    "
   ]
  },
  {
   "cell_type": "code",
   "execution_count": 136,
   "metadata": {
    "collapsed": false
   },
   "outputs": [
    {
     "data": {
      "text/plain": [
       "u'/Users/ccarey/Documents/Projects/NAMI/rdoc/tasks/deepdive_app/arousal_CC'"
      ]
     },
     "execution_count": 136,
     "metadata": {},
     "output_type": "execute_result"
    }
   ],
   "source": [
    "%pwd"
   ]
  },
  {
   "cell_type": "markdown",
   "metadata": {},
   "source": [
    "### NLP: The bags of words from the same sentences, and in the same order."
   ]
  },
  {
   "cell_type": "markdown",
   "metadata": {},
   "source": [
    "#### Use spacy to do NLP parsing into bags of words etc."
   ]
  },
  {
   "cell_type": "code",
   "execution_count": 89,
   "metadata": {
    "collapsed": true
   },
   "outputs": [],
   "source": [
    "import io\n",
    "import codecs\n",
    "from spacy.en import English\n",
    "nlp = English(parser=True, tagger=True) # so we can sentence parse"
   ]
  },
  {
   "cell_type": "code",
   "execution_count": 90,
   "metadata": {
    "collapsed": true
   },
   "outputs": [],
   "source": [
    "def spacy_split_sentences(text):\n",
    "    sentences = []\n",
    "    #doc = nlp(text.decode('utf8')) #\"This is a sentence. Here's another...\".decode('utf8'))\n",
    "    doc = nlp(text) #\"This is a sentence. Here's another...\".decode('utf8'))\n",
    "    for span in doc.sents:\n",
    "        #sentences.append(u''.join(doc[i].string for i in range(span.start, span.end)).encode('utf-8').strip())\n",
    "        sentences.append(''.join(doc[i].string for i in range(span.start, span.end)))#.strip())\n",
    "    return(sentences)"
   ]
  },
  {
   "cell_type": "code",
   "execution_count": 91,
   "metadata": {
    "collapsed": true
   },
   "outputs": [],
   "source": [
    "def spacy_lemma_gt_len(text, length=2):\n",
    "    '''Create bag of unique lemmas, requiring lemma length > length\n",
    "    \n",
    "    Note: setting length to 1 may mess up our postgres arrays as we would\n",
    "    get commas here, unless we were to quote everything.\n",
    "    '''\n",
    "    tokens = []\n",
    "    #doc = nlp(text.decode('utf8')) #\"This is a sentence. Here's another...\".decode('utf8'))\n",
    "    parsed_data = nlp(text) #\"This is a sentence. Here's another...\".decode('utf8'))\n",
    "    for token in parsed_data:\n",
    "        if len(token.lemma_) > length:\n",
    "            tokens.append(token.lemma_.lower())\n",
    "    return(list(set(tokens)))"
   ]
  },
  {
   "cell_type": "code",
   "execution_count": 92,
   "metadata": {
    "collapsed": true
   },
   "outputs": [],
   "source": [
    "def spacy_lemma_biwords_gt_len(text, length=3):\n",
    "    '''Create bag of unique bi-lemmas, requiring lemma length > length\n",
    "    \n",
    "    We are crudely eliminating any bi-lemmas that have commas in them to save us in loading postgres arrays.\n",
    "    '''\n",
    "    biwords = []\n",
    "    parsed_data = nlp(text)\n",
    "    skip_chars = [',', '\"', \"'\"]\n",
    "    for i in range(1, len(parsed_data) - 1):\n",
    "        skip = False\n",
    "        biword = u'{} {}'.format(parsed_data[i].lemma_.lower(), parsed_data[i+1].lemma_.lower())\n",
    "        if (parsed_data[i].lemma_ in skip_chars or parsed_data[i+1].lemma_ in skip_chars):\n",
    "            skip = True\n",
    "        if len(biword) > length and not skip:\n",
    "            biwords.append(biword)\n",
    "    return(list(set(biwords)))"
   ]
  },
  {
   "cell_type": "code",
   "execution_count": 93,
   "metadata": {
    "collapsed": true
   },
   "outputs": [],
   "source": [
    "def to_lemmas_and_lemma_biwords(sentence, lemma_len=2, bi_lemma_len=4):\n",
    "    lemma = spacy_lemma_gt_len(sentence, length=lemma_len)\n",
    "    lemma_biwords = spacy_lemma_biwords_gt_len(sentence, length=bi_lemma_len)\n",
    "    return(lemma + lemma_biwords)"
   ]
  },
  {
   "cell_type": "markdown",
   "metadata": {},
   "source": [
    "#### Cleaning the sentences from raw sentences and creating bags of words, biwords\n",
    "sentence_id    sentence    is_topic\n",
    "\n",
    "To:\n",
    "\n",
    "sentence_id    bags_of_lemmas   is_topic   '\\N'"
   ]
  },
  {
   "cell_type": "code",
   "execution_count": 248,
   "metadata": {
    "collapsed": false
   },
   "outputs": [
    {
     "name": "stdout",
     "output_type": "stream",
     "text": [
      "/Users/ccarey/Documents/Projects/NAMI/rdoc/tasks/deepdive_app/arousal_JL/input\n",
      "588\n",
      "/Users/ccarey/Documents/Projects/NAMI/rdoc/tasks/deepdive_app/arousal_MK/input\n",
      "578\n",
      "/Users/ccarey/Documents/Projects/NAMI/rdoc/tasks/deepdive_app/arousal_TC/input\n",
      "484\n",
      "/Users/ccarey/Documents/Projects/NAMI/rdoc/tasks/deepdive_app/arousal_CC/input\n",
      "0\n"
     ]
    }
   ],
   "source": [
    "#app_bn='/Users/ccarey/Documents/Projects/NAMI/rdoc/tasks/deepdive_app/arousal'\n",
    "app_bn='/Users/ccarey/Documents/Projects/NAMI/rdoc/tasks/deepdive_app/arousal'\n",
    "for a in annotators:\n",
    "    app_dir = app_bn + '_' + a\n",
    "    input_dir = os.path.join(app_dir, 'input')\n",
    "    %cd {input_dir}\n",
    "    bags_of_lemmas = []\n",
    "    with codecs.open('raw_sentences', mode='r', encoding='utf-8') as f:\n",
    "        sents = f.read().splitlines()\n",
    "        print(len(sents))\n",
    "        for s in sents:\n",
    "            ss = s.split('\\t')\n",
    "            s_id, s_sent, s_is_topic = ss[0], ss[1], ss[2]\n",
    "            s_sent = s_sent.replace('{{', '').replace('}}', '').strip()\n",
    "            lbw = to_lemmas_and_lemma_biwords(s_sent)\n",
    "            lbw = ', '.join(lbw)\n",
    "            lbw = u'{{{}}}'.format(lbw) # This is for postgres array format\n",
    "            bags_of_lemmas.append('\\t'.join([s_id, lbw, s_is_topic, '\\N'])) # '\\N' null for postgres\n",
    "    with codecs.open('./annotated_sentences', 'w', encoding='utf-8') as f:\n",
    "        for b in bags_of_lemmas:\n",
    "            f.write(b + '\\n')"
   ]
  },
  {
   "cell_type": "markdown",
   "metadata": {},
   "source": [
    "## Deepdive init through run\n",
    "initdb requires but does not use the deepdive.conf file.\n",
    "\n",
    "It sets up the application and database based on db.url and schema.sql\n",
    "\n",
    "Using the init.sh, loads the first couple tables into database.\n",
    "\n",
    "APP_HOME is already set by time deepdive runs the input/init.sh file."
   ]
  },
  {
   "cell_type": "markdown",
   "metadata": {},
   "source": [
    "### input/init.sh file"
   ]
  },
  {
   "cell_type": "raw",
   "metadata": {},
   "source": [
    "# maybe some of the code we were using to combine our input into raw_sentences?\n",
    "\n",
    "# start populating deepdive tables\n",
    "\n",
    "# raw sentences\n",
    "\n",
    "deepdive sql \"COPY _raw_sentences FROM STDIN\" < ${APP_HOME}\"/input/raw_sentences\"\n",
    "\n",
    "# bags of lemmas we processed by nlp within our jupyter notebook.\n",
    "\n",
    "# should maybe pull this out to its own parser in future.\n",
    "# but if we do, want to load nlp in spacy.)\n",
    "# (i.e. examine how deepdive will work through chunks)\n",
    "\n",
    "deepdive sql \"COPY _annotated_sentences FROM STDIN\" < ${APP_HOME}\"/input/annotated_sentences\""
   ]
  },
  {
   "cell_type": "code",
   "execution_count": 205,
   "metadata": {
    "collapsed": false
   },
   "outputs": [
    {
     "name": "stdout",
     "output_type": "stream",
     "text": [
      "Initializing deepdive for JL\n",
      "/Users/ccarey/Documents/Projects/NAMI/rdoc/tasks/deepdive_app/arousal_JL\n",
      "NOTICE:  table \"_raw_sentences\" does not exist, skipping\n",
      "DROP TABLE\n",
      "CREATE TABLE\n",
      "NOTICE:  table \"_annotated_sentences\" does not exist, skipping\n",
      "DROP TABLE\n",
      "CREATE TABLE\n",
      "NOTICE:  table \"_extracted_features\" does not exist, skipping\n",
      "DROP TABLE\n",
      "CREATE TABLE\n",
      "COPY 458\n",
      "COPY 458\n",
      "Initializing deepdive for MK\n",
      "/Users/ccarey/Documents/Projects/NAMI/rdoc/tasks/deepdive_app/arousal_MK\n",
      "NOTICE:  table \"_raw_sentences\" does not exist, skipping\n",
      "DROP TABLE\n",
      "CREATE TABLE\n",
      "NOTICE:  table \"_annotated_sentences\" does not exist, skipping\n",
      "DROP TABLE\n",
      "CREATE TABLE\n",
      "NOTICE:  table \"_extracted_features\" does not exist, skipping\n",
      "DROP TABLE\n",
      "CREATE TABLE\n",
      "COPY 578\n",
      "COPY 578\n",
      "Initializing deepdive for TC\n",
      "/Users/ccarey/Documents/Projects/NAMI/rdoc/tasks/deepdive_app/arousal_TC\n",
      "NOTICE:  table \"_raw_sentences\" does not exist, skipping\n",
      "DROP TABLE\n",
      "CREATE TABLE\n",
      "NOTICE:  table \"_annotated_sentences\" does not exist, skipping\n",
      "DROP TABLE\n",
      "CREATE TABLE\n",
      "NOTICE:  table \"_extracted_features\" does not exist, skipping\n",
      "DROP TABLE\n",
      "CREATE TABLE\n",
      "COPY 484\n",
      "COPY 484\n",
      "Initializing deepdive for CC\n",
      "/Users/ccarey/Documents/Projects/NAMI/rdoc/tasks/deepdive_app/arousal_CC\n",
      "NOTICE:  table \"_raw_sentences\" does not exist, skipping\n",
      "DROP TABLE\n",
      "CREATE TABLE\n",
      "NOTICE:  table \"_annotated_sentences\" does not exist, skipping\n",
      "DROP TABLE\n",
      "CREATE TABLE\n",
      "NOTICE:  table \"_extracted_features\" does not exist, skipping\n",
      "DROP TABLE\n",
      "CREATE TABLE\n",
      "COPY 0\n",
      "COPY 0\n"
     ]
    }
   ],
   "source": [
    "app_bn='/Users/ccarey/Documents/Projects/NAMI/rdoc/tasks/deepdive_app/arousal'\n",
    "for a in annotators:\n",
    "    print('Initializing deepdive for {}'.format(a))\n",
    "    app_dir = app_bn + '_' + a\n",
    "    %cd {app_dir}\n",
    "    !deepdive initdb\n",
    "    run_result = !deepdive run"
   ]
  },
  {
   "cell_type": "markdown",
   "metadata": {},
   "source": [
    "### review initial loading of deepdive database (MK as annotator)\n",
    "init.sh script should have filled the _raw_sentences and _annotated_sentences."
   ]
  },
  {
   "cell_type": "code",
   "execution_count": 188,
   "metadata": {
    "collapsed": false
   },
   "outputs": [
    {
     "name": "stdout",
     "output_type": "stream",
     "text": [
      "/Users/ccarey/Documents/Projects/NAMI/rdoc/tasks/deepdive_app/arousal_MK\n"
     ]
    }
   ],
   "source": [
    "%cd '/Users/ccarey/Documents/Projects/NAMI/rdoc/tasks/deepdive_app/arousal_MK'"
   ]
  },
  {
   "cell_type": "code",
   "execution_count": 189,
   "metadata": {
    "collapsed": false
   },
   "outputs": [
    {
     "name": "stdout",
     "output_type": "stream",
     "text": [
      "                                            List of relations\r\n",
      " Schema |                       Name                       |   Type   | Owner  |    Size    | Description \r\n",
      "--------+--------------------------------------------------+----------+--------+------------+-------------\r\n",
      " public | _annotated_sentences                             | table    | ccarey | 776 kB     | \r\n",
      " public | _annotated_sentences_has_term_calibration        | view     | ccarey | 0 bytes    | \r\n",
      " public | _annotated_sentences_has_term_inference          | view     | ccarey | 0 bytes    | \r\n",
      " public | _annotated_sentences_has_term_inference_bucketed | view     | ccarey | 0 bytes    | \r\n",
      " public | _extracted_features                              | table    | ccarey | 1040 kB    | \r\n",
      " public | _raw_sentences                                   | table    | ccarey | 152 kB     | \r\n",
      " public | dd__annotated_sentences_has_term_cardinality     | table    | ccarey | 16 kB      | \r\n",
      " public | dd__annotated_sentences_vtype                    | table    | ccarey | 32 kB      | \r\n",
      " public | dd_factor_sequence                               | sequence | ccarey | 8192 bytes | \r\n",
      " public | dd_graph_factormeta                              | table    | ccarey | 16 kB      | \r\n",
      " public | dd_graph_variables_holdout                       | table    | ccarey | 8192 bytes | \r\n",
      " public | dd_graph_variables_observation                   | table    | ccarey | 0 bytes    | \r\n",
      " public | dd_graph_weights                                 | table    | ccarey | 1016 kB    | \r\n",
      " public | dd_inference_result_variables                    | table    | ccarey | 40 kB      | \r\n",
      " public | dd_inference_result_variables_mapped_weights     | view     | ccarey | 0 bytes    | \r\n",
      " public | dd_inference_result_weights                      | table    | ccarey | 528 kB     | \r\n",
      " public | dd_inference_result_weights_mapping              | view     | ccarey | 0 bytes    | \r\n",
      " public | dd_query_is_associated_to_rdoc_term              | table    | ccarey | 2448 kB    | \r\n",
      " public | dd_variable_sequence                             | sequence | ccarey | 8192 bytes | \r\n",
      " public | dd_weight_sequence                               | sequence | ccarey | 8192 bytes | \r\n",
      " public | dd_weights_is_associated_to_rdoc_term            | table    | ccarey | 1480 kB    | \r\n",
      "(21 rows)\r\n",
      "\r\n"
     ]
    }
   ],
   "source": [
    "!deepdive sql '\\d+'"
   ]
  },
  {
   "cell_type": "code",
   "execution_count": 190,
   "metadata": {
    "collapsed": false
   },
   "outputs": [
    {
     "name": "stdout",
     "output_type": "stream",
     "text": [
      "   578\n",
      "   578\n"
     ]
    }
   ],
   "source": [
    "raw_count = !deepdive sql 'select count(*) from _raw_sentences'\n",
    "annot_count = !deepdive sql 'select count(*) from _raw_sentences'\n",
    "print(raw_count[2])\n",
    "print(annot_count[2])"
   ]
  },
  {
   "cell_type": "code",
   "execution_count": 191,
   "metadata": {
    "collapsed": false
   },
   "outputs": [
    {
     "name": "stdout",
     "output_type": "stream",
     "text": [
      " sentence_id |                                                                             sentence                                                                             | terms \n",
      "-------------+------------------------------------------------------------------------------------------------------------------------------------------------------------------+-------\n",
      " 1           | {{Active inference provides a simple and neurobiologically plausible account of how action and perception are coupled in producing (Bayes) optimal behaviour. }} | f\n",
      " 2           | {{This can be seen most easily as minimising prediction error: we can either change our predictions to explain sensory input through perception. }}              | f\n",
      " 3           | {{Alternatively, we can actively change sensory input to fulfil our predictions. }}                                                                              | f\n",
      "(3 rows)\n",
      "\n",
      " sentence_id |                                                                                    words                                                                                     | has_term | id  \n",
      "-------------+------------------------------------------------------------------------------------------------------------------------------------------------------------------------------+----------+-----\n",
      " 192         | {expectancy,and,motivation,relapse,quit,relate,smoke,\"expectancy be\",\"be relate\",\"and relapse\",\"quit and\",\"relapse .\",\"motivation to\",\"to quit\",\"to motivation\",\"relate to\"} |          | 192\n",
      " 223         | {and,off,clinical,optimal,during,subsequently,setting,\"clinical setting\",\"during off\",\"optimal on\",\"( clinical\",\"setting )\",\"and optimal\",\"off and\"}                         |          | 222\n",
      " 243         | {clinicaltrials.gov,nct00233194,\": nct00233194\",\"nct00233194 .\"}                                                                                                             |          | 243\n",
      "(3 rows)\n",
      "\n"
     ]
    }
   ],
   "source": [
    "!deepdive sql 'select * from _raw_sentences limit 3'\n",
    "!deepdive sql 'select * from _annotated_sentences limit 3'"
   ]
  },
  {
   "cell_type": "markdown",
   "metadata": {},
   "source": [
    "### examine output plots\n",
    "TC example, small negative training set."
   ]
  },
  {
   "cell_type": "code",
   "execution_count": 208,
   "metadata": {
    "collapsed": true
   },
   "outputs": [],
   "source": [
    "from IPython.display import Image"
   ]
  },
  {
   "cell_type": "code",
   "execution_count": 211,
   "metadata": {
    "collapsed": false
   },
   "outputs": [
    {
     "data": {
      "image/png": "[encoded data removed]",
      "text/plain": [
       "<IPython.core.display.Image object>"
      ]
     },
     "execution_count": 211,
     "metadata": {},
     "output_type": "execute_result"
    }
   ],
   "source": [
    "Image(filename = '/Users/ccarey/Documents/Projects/NAMI/rdoc/documentation_figures/_annotated_sentences.has_term_TC.png')"
   ]
  },
  {
   "cell_type": "raw",
   "metadata": {},
   "source": [
    "# TC\n",
    "      62 ./input/tmp_neg\n",
    "     267 ./input/tmp_not_pos\n",
    "     155 ./input/tmp_pos\n",
    "     484 total"
   ]
  },
  {
   "cell_type": "raw",
   "metadata": {},
   "source": [
    "# Contents of _Annotated_sentences.has_term.tsv\n",
    "# start end unlabeled  True (1 bin)  False (0 bin)\n",
    "# sum unlabeled = 307 (267 unlabeled + 40 labeled)\n",
    "# sum TRUE = 24\n",
    "# sum FALSE = 16\n",
    "# --- BEGIN ACTUAL CONTENTS ----\n",
    "0.00\t0.10\t4\t0\t2\n",
    "0.10\t0.20\t2\t0\t1\n",
    "0.20\t0.30\t6\t0\t4\n",
    "0.30\t0.40\t6\t0\t0\n",
    "0.40\t0.50\t12\t0\t1\n",
    "0.50\t0.60\t22\t0\t2\n",
    "0.60\t0.70\t30\t2\t1\n",
    "0.70\t0.80\t47\t4\t3\n",
    "0.80\t0.90\t49\t1\t1\n",
    "0.90\t1.00\t129\t17\t1"
   ]
  },
  {
   "cell_type": "code",
   "execution_count": 215,
   "metadata": {
    "collapsed": false
   },
   "outputs": [
    {
     "data": {
      "image/png": "[encoded data removed]",
      "text/plain": [
       "<IPython.core.display.Image object>"
      ]
     },
     "execution_count": 215,
     "metadata": {},
     "output_type": "execute_result"
    }
   ],
   "source": [
    "# MK\n",
    "Image(filename = '/Users/ccarey/Documents/Projects/NAMI/rdoc/documentation_figures/_annotated_sentences.has_term_MK.png')"
   ]
  },
  {
   "cell_type": "markdown",
   "metadata": {},
   "source": [
    "### few training set on left side, desire more negative examples"
   ]
  },
  {
   "cell_type": "raw",
   "metadata": {},
   "source": [
    "# MK\n",
    "     166 ./input/tmp_neg\n",
    "     211 ./input/tmp_not_pos\n",
    "     201 ./input/tmp_pos\n",
    "     578 total"
   ]
  },
  {
   "cell_type": "raw",
   "metadata": {},
   "source": [
    "# MK\n",
    "0.00\t0.10\t10\t0\t9\n",
    "0.10\t0.20\t12\t1\t8\n",
    "0.20\t0.30\t14\t0\t4\n",
    "0.30\t0.40\t15\t1\t2\n",
    "0.40\t0.50\t23\t1\t5\n",
    "0.50\t0.60\t28\t2\t3\n",
    "0.60\t0.70\t40\t1\t1\n",
    "0.70\t0.80\t31\t5\t2\n",
    "0.80\t0.90\t39\t7\t0\n",
    "0.90\t1.00\t88\t37\t0"
   ]
  },
  {
   "cell_type": "markdown",
   "metadata": {},
   "source": [
    "### JL has few negative examples and fewer negative predictions"
   ]
  },
  {
   "cell_type": "raw",
   "metadata": {},
   "source": [
    "# JL\n",
    "      91 ./input/tmp_neg\n",
    "      64 ./input/tmp_not_pos\n",
    "     303 ./input/tmp_pos\n",
    "     458 total"
   ]
  },
  {
   "cell_type": "code",
   "execution_count": 254,
   "metadata": {
    "collapsed": false
   },
   "outputs": [
    {
     "data": {
      "image/png": "[encoded data removed]",
      "text/plain": [
       "<IPython.core.display.Image object>"
      ]
     },
     "execution_count": 254,
     "metadata": {},
     "output_type": "execute_result"
    }
   ],
   "source": [
    "# JL\n",
    "Image(filename = '/Users/ccarey/Documents/Projects/NAMI/rdoc/documentation_figures/_annotated_sentences.has_term_JL_91_neg.png')"
   ]
  },
  {
   "cell_type": "markdown",
   "metadata": {},
   "source": [
    "## Rerunning JL SET giving it more negative examples helps a bit."
   ]
  },
  {
   "cell_type": "code",
   "execution_count": null,
   "metadata": {
    "collapsed": true
   },
   "outputs": [],
   "source": [
    "%cd ../arousal_JL/input/\n",
    "%mv tmp_neg _tmp_neg_bkup\n",
    "%mv raw_sentences _raw_sentences_bkup\n",
    "%cp ../../arousal_MK/input/tmp_neg ./"
   ]
  },
  {
   "cell_type": "code",
   "execution_count": 226,
   "metadata": {
    "collapsed": false
   },
   "outputs": [
    {
     "name": "stdout",
     "output_type": "stream",
     "text": [
      "/Users/ccarey/Documents/Projects/NAMI/rdoc/tasks/deepdive_app/arousal_JL\n",
      "     166 ./input/tmp_neg\r\n",
      "      64 ./input/tmp_not_pos\r\n",
      "     303 ./input/tmp_pos\r\n",
      "     533 total\r\n"
     ]
    }
   ],
   "source": [
    "%cd /Users/ccarey/Documents/Projects/NAMI/rdoc/tasks/deepdive_app/arousal_JL\n",
    "!wc -l ./input/tmp* \n",
    "%cat ./input/tmp* | cat -n | sed 's/^[ ]*//' > ./input/raw_sentences"
   ]
  },
  {
   "cell_type": "code",
   "execution_count": 228,
   "metadata": {
    "collapsed": false
   },
   "outputs": [],
   "source": [
    "# Rerun the bag of words to generate the new annotated sentences for JL then...\n",
    "# bag of words step left us in wrong directory, so move back in to JL\n",
    "%cd /Users/ccarey/Documents/Projects/NAMI/rdoc/tasks/deepdive_app/arousal_JL\n",
    "init_results = !deepdive initdb\n",
    "run_results = !deepdive run"
   ]
  },
  {
   "cell_type": "code",
   "execution_count": 251,
   "metadata": {
    "collapsed": false
   },
   "outputs": [
    {
     "data": {
      "image/png": "[encoded data removed]",
      "text/plain": [
       "<IPython.core.display.Image object>"
      ]
     },
     "execution_count": 251,
     "metadata": {},
     "output_type": "execute_result"
    }
   ],
   "source": [
    "Image(filename = '/Users/ccarey/Documents/Projects/NAMI/rdoc/documentation_figures/_annotated_sentences.has_term_JL2_166_neg.png')"
   ]
  },
  {
   "cell_type": "markdown",
   "metadata": {},
   "source": [
    "### Create new negative set"
   ]
  },
  {
   "cell_type": "code",
   "execution_count": 244,
   "metadata": {
    "collapsed": false
   },
   "outputs": [
    {
     "name": "stdout",
     "output_type": "stream",
     "text": [
      "/Users/ccarey/Documents/Projects/NAMI/rdoc/results/annotations_processed\n",
      "/Users/ccarey/Documents/Projects/NAMI/rdoc/tasks/deepdive_app/arousal_JL\n",
      "     221 ./input/tmp_neg\n",
      "      64 ./input/tmp_not_pos\n",
      "     303 ./input/tmp_pos\n",
      "     588 total\n"
     ]
    }
   ],
   "source": [
    "%cd /Users/ccarey/Documents/Projects/NAMI/rdoc/results/annotations_processed\n",
    "%cp [AL][^R]*/*/*.txt all_non_arousal/ # yes we are overwriting some, doesn't matter\n",
    "!cat all_non_arousal/*.txt | sed '/^$/d' > ../../tasks/deepdive_app/arousal_JL/input/new_neg\n",
    "%cd ../../tasks/deepdive_app/arousal_JL\n",
    "!sed 's/$/\\tf/' input/new_neg > ./input/tmp_neg\n",
    "!wc -l ./input/tmp* "
   ]
  },
  {
   "cell_type": "code",
   "execution_count": 246,
   "metadata": {
    "collapsed": false
   },
   "outputs": [],
   "source": [
    "%cat ./input/tmp* | cat -n | sed 's/^[ ]*//' > ./input/raw_sentences  "
   ]
  },
  {
   "cell_type": "code",
   "execution_count": 249,
   "metadata": {
    "collapsed": false
   },
   "outputs": [
    {
     "data": {
      "text/plain": [
       "u'/Users/ccarey/Documents/Projects/NAMI/rdoc/tasks/deepdive_app/arousal_CC/input'"
      ]
     },
     "execution_count": 249,
     "metadata": {},
     "output_type": "execute_result"
    }
   ],
   "source": [
    "%pwd"
   ]
  },
  {
   "cell_type": "code",
   "execution_count": 250,
   "metadata": {
    "collapsed": false
   },
   "outputs": [
    {
     "name": "stdout",
     "output_type": "stream",
     "text": [
      "/Users/ccarey/Documents/Projects/NAMI/rdoc/tasks/deepdive_app/arousal_JL\n"
     ]
    }
   ],
   "source": [
    "# rerun bag of words step, then...\n",
    "%cd /Users/ccarey/Documents/Projects/NAMI/rdoc/tasks/deepdive_app/arousal_JL\n",
    "results_init = !deepdive initdb\n",
    "results_run = !deepdive run"
   ]
  },
  {
   "cell_type": "code",
   "execution_count": 253,
   "metadata": {
    "collapsed": false
   },
   "outputs": [
    {
     "data": {
      "image/png": "[encoded data removed]",
      "text/plain": [
       "<IPython.core.display.Image object>"
      ]
     },
     "execution_count": 253,
     "metadata": {},
     "output_type": "execute_result"
    }
   ],
   "source": [
    "Image(filename = '/Users/ccarey/Documents/Projects/NAMI/rdoc/documentation_figures/_annotated_sentences.has_term_JL3_221_neg.png')"
   ]
  },
  {
   "cell_type": "code",
   "execution_count": null,
   "metadata": {
    "collapsed": true
   },
   "outputs": [],
   "source": []
  }
 ],
 "metadata": {
  "kernelspec": {
   "display_name": "Python 2",
   "language": "python",
   "name": "python2"
  },
  "language_info": {
   "codemirror_mode": {
    "name": "ipython",
    "version": 2
   },
   "file_extension": ".py",
   "mimetype": "text/x-python",
   "name": "python",
   "nbconvert_exporter": "python",
   "pygments_lexer": "ipython2",
   "version": "2.7.10"
  }
 },
 "nbformat": 4,
 "nbformat_minor": 0
}
