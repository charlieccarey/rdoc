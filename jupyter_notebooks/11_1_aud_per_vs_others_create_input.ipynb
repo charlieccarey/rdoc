{
 "cells": [
  {
   "cell_type": "markdown",
   "metadata": {},
   "source": [
    "# Generate DeepDive input data for each of several experiments"
   ]
  },
  {
   "cell_type": "markdown",
   "metadata": {},
   "source": [
    "## The steps in our deepdive app creation.\n",
    "\n",
    "**We are mainly interested in step 1.2 listed below in this current notebook.**\n",
    "\n",
    "1) Setup input data:\n",
    "  - 1.1 setup input files of sentences with labels\n",
    "    - these serve as source data or a parts list for each specific app.\n",
    "    - raw with labels\n",
    "    - NLP processed or annotated for topic at hand with labels.\n",
    "      - This is where bag of words is performed.\n",
    "  - 1.2 setup app specific combinations of the raw or annotated sentences.\n",
    "    - these will later be copied into our deepdive apps input folder.\n",
    "\n",
    "2) Edit master templates as necessary:\n",
    "  - edit input.sh if necessary (we haven't needed to yet.)\n",
    "\n",
    "3) Copy and modify deepdive templates and input data to create an app.\n",
    "    - cc_setup_deepdive template_source_dir topic app_name num_training num_test\n",
    "    - mkdir\n",
    "    - copy template files\n",
    "    - assign app url\n",
    "    - copy input data files (the sentence or abstract combinations above)\n",
    "\n",
    "4) Run deepdive and our reporting scripts for our app.\n",
    "    - cc_run_and_stats_on_deepdive\n",
    "    - deepdive initdb\n",
    "    - deepdive run\n",
    "    - sql extract confusion matrix based stats\n",
    "    - R graph stats\n",
    "    - sql report top terms"
   ]
  },
  {
   "cell_type": "markdown",
   "metadata": {},
   "source": [
    "## App specific input data creation.\n",
    "\n",
    "Goal is to combine sentences from various topic-label sets into single input files per app.\n",
    "\n",
    "Nomenclature of experiment is:\n",
    "\n",
    "    Positive_training__vs__Negative_training__pdx__topredictset\n",
    "\n",
    "Thus:\n",
    "\n",
    "    Auditory_1000__vs__Arousal_1000__pdx__un_Aro_156\n",
    "\n",
    "Means 1000 each of Auditory Perception as True labels, Arousal as False labels, another arousal set with 156 as unknowns."
   ]
  },
  {
   "cell_type": "markdown",
   "metadata": {},
   "source": [
    "### recall, all our pieces are as follows\n",
    "With (true, false, nulled) and (annotated, raw) versions of each.\n",
    "\n",
    "The sentences (actually abstracts) were already parsed and labeled in notebook 10_3_design_deepdive_wrapper.ipynb"
   ]
  },
  {
   "cell_type": "code",
   "execution_count": 9,
   "metadata": {
    "collapsed": false
   },
   "outputs": [
    {
     "name": "stdout",
     "output_type": "stream",
     "text": [
      "/Users/ccarey/Documents/Projects/NAMI/rdoc/tasks/task_data_sentences\n"
     ]
    }
   ],
   "source": [
    "%cd '/Users/ccarey/Documents/Projects/NAMI/rdoc/tasks/task_data_sentences'"
   ]
  },
  {
   "cell_type": "code",
   "execution_count": 10,
   "metadata": {
    "collapsed": false
   },
   "outputs": [
    {
     "name": "stdout",
     "output_type": "stream",
     "text": [
      "     154 ./all_sentences/annotated_sentences_arousal_156_false\r\n",
      "    1000 ./all_sentences/annotated_sentences_arousal_1_1000_false\r\n",
      "    1000 ./all_sentences/annotated_sentences_arousal_2_1000_false\r\n",
      "     146 ./all_sentences/annotated_sentences_auditory_146_false\r\n",
      "    1000 ./all_sentences/annotated_sentences_auditory_1_1000_false\r\n",
      "    1000 ./all_sentences/annotated_sentences_auditory_2_1000_false\r\n",
      "    1000 ./all_sentences/annotated_sentences_disease_1_1000_false\r\n",
      "    1000 ./all_sentences/annotated_sentences_psyc_1_1000_false\r\n"
     ]
    }
   ],
   "source": [
    "!find ./all_sentences -type f -name \"annotated*false\" | parallel wc -l {} | sort -k2"
   ]
  },
  {
   "cell_type": "markdown",
   "metadata": {},
   "source": [
    "Note the arousal_156 set was really trimmed to 154."
   ]
  },
  {
   "cell_type": "markdown",
   "metadata": {},
   "source": [
    "## Create input data for Question 1: With small 'truth' set and larger 'false' set, test effect of distance of the 'false' set. \n",
    "\n",
    "Given a limited set of positives and a large set of negatives, how is performance dictated by the distance.\n",
    "\n",
    "Where distance is proxied by 'disease >> Psyc >> Arousal' distance away from our training set.\n",
    "\n",
    "    - Auditory_146__vs__Arousal_1_1000__pdx__un_Aro_156\n",
    "      - and is the 'non-group' correctly predicted.\n",
    "    - Auditory_146__vs__Arousal_1_1000__pdx__un_Aud_1_1000\n",
    "      - and is the 'group' correctly predicted.\n",
    "    - Auditory_146__vs__Disease_1000__pdx__un_Aud_1_1000\n",
    "    - Auditory_146__vs__Psyc_1000__pdx__un_Aud_1_1000"
   ]
  },
  {
   "cell_type": "code",
   "execution_count": 28,
   "metadata": {
    "collapsed": false
   },
   "outputs": [
    {
     "name": "stdout",
     "output_type": "stream",
     "text": [
      "mkdir: Auditory_146__vs__Arousal_1_1000__pdx__un_Aro_154: File exists\n",
      "mkdir: Auditory_146__vs__Arousal_1_1000__pdx__un_Aud_1_1000: File exists\n",
      "mkdir: Auditory_146__vs__Psyc_1000__pdx__un_Aud_1_1000: File exists\n",
      "mkdir: Auditory_146__vs__Disease_1000__pdx__un_Aud_1_1000: File exists\n"
     ]
    }
   ],
   "source": [
    "%mkdir Auditory_146__vs__Arousal_1_1000__pdx__un_Aro_154\n",
    "%mkdir Auditory_146__vs__Arousal_1_1000__pdx__un_Aud_1_1000\n",
    "%mkdir Auditory_146__vs__Psyc_1000__pdx__un_Aud_1_1000\n",
    "%mkdir Auditory_146__vs__Disease_1000__pdx__un_Aud_1_1000"
   ]
  },
  {
   "cell_type": "code",
   "execution_count": 31,
   "metadata": {
    "collapsed": true
   },
   "outputs": [],
   "source": [
    "# Auditory_146__vs__Arousal_1_1000__pdx__un_Aro_154\n",
    "\n",
    "raw_sources = ('./all_sentences/raw_sentences_auditory_146_true '\n",
    "               './all_sentences/raw_sentences_arousal_1_1000_false '\n",
    "               './all_sentences/raw_sentences_arousal_156_nulled '\n",
    "               './all_sentences/raw_sentences_auditory_146_nulled '\n",
    "               './all_sentences/raw_sentences_arousal_1_1000_nulled')\n",
    "!cat {raw_sources} > 'Auditory_146__vs__Arousal_1_1000__pdx__un_Aro_154/raw_sentences'\n",
    "\n",
    "annotated_sources = ('./all_sentences/annotated_sentences_auditory_146_true '\n",
    "               './all_sentences/annotated_sentences_arousal_1_1000_false '\n",
    "               './all_sentences/annotated_sentences_arousal_156_nulled '\n",
    "               './all_sentences/annotated_sentences_auditory_146_nulled '\n",
    "               './all_sentences/annotated_sentences_arousal_1_1000_nulled')\n",
    "#annotated_sources\n",
    "!cat {annotated_sources} > 'Auditory_146__vs__Arousal_1_1000__pdx__un_Aro_154/annotated_sentences'"
   ]
  },
  {
   "cell_type": "code",
   "execution_count": 32,
   "metadata": {
    "collapsed": false
   },
   "outputs": [],
   "source": [
    "# Auditory_146__vs__Arousal_1_1000__pdx__un_Aud_1_1000\n",
    "raw_sources = ('./all_sentences/raw_sentences_auditory_146_true '\n",
    "               './all_sentences/raw_sentences_arousal_1_1000_false '\n",
    "               './all_sentences/raw_sentences_auditory_1_1000_nulled '\n",
    "               './all_sentences/raw_sentences_auditory_146_nulled '\n",
    "               './all_sentences/raw_sentences_arousal_1_1000_nulled')\n",
    "!cat {raw_sources} > 'Auditory_146__vs__Arousal_1_1000__pdx__un_Aud_1_1000/raw_sentences'\n",
    "\n",
    "annotated_sources = ('./all_sentences/annotated_sentences_auditory_146_true '\n",
    "               './all_sentences/annotated_sentences_arousal_1_1000_false '\n",
    "               './all_sentences/annotated_sentences_auditory_1_1000_nulled '\n",
    "               './all_sentences/annotated_sentences_auditory_146_nulled '\n",
    "               './all_sentences/annotated_sentences_arousal_1_1000_nulled')\n",
    "!cat {annotated_sources} > 'Auditory_146__vs__Arousal_1_1000__pdx__un_Aud_1_1000/annotated_sentences'"
   ]
  },
  {
   "cell_type": "code",
   "execution_count": 33,
   "metadata": {
    "collapsed": true
   },
   "outputs": [],
   "source": [
    "# Auditory_146__vs__Psyc_1000__pdx__un_Aud_1_1000\n",
    "raw_sources = ('./all_sentences/raw_sentences_auditory_146_true '\n",
    "               './all_sentences/raw_sentences_psyc_1_1000_false '\n",
    "               './all_sentences/raw_sentences_auditory_1_1000_nulled '\n",
    "               './all_sentences/raw_sentences_auditory_146_nulled '\n",
    "               './all_sentences/raw_sentences_psyc_1_1000_nulled')\n",
    "!cat {raw_sources} > 'Auditory_146__vs__Psyc_1000__pdx__un_Aud_1_1000/raw_sentences'\n",
    "\n",
    "annotated_sources = ('./all_sentences/annotated_sentences_auditory_146_true '\n",
    "               './all_sentences/annotated_sentences_psyc_1_1000_false '\n",
    "               './all_sentences/annotated_sentences_auditory_1_1000_nulled '\n",
    "               './all_sentences/annotated_sentences_auditory_146_nulled '\n",
    "               './all_sentences/annotated_sentences_psyc_1_1000_nulled')\n",
    "!cat {annotated_sources} > 'Auditory_146__vs__Psyc_1000__pdx__un_Aud_1_1000/annotated_sentences'"
   ]
  },
  {
   "cell_type": "code",
   "execution_count": 34,
   "metadata": {
    "collapsed": true
   },
   "outputs": [],
   "source": [
    "# Auditory_146__vs__Disease_1000__pdx__un_Aud_1_1000\n",
    "raw_sources = ('./all_sentences/raw_sentences_auditory_146_true '\n",
    "               './all_sentences/raw_sentences_disease_1_1000_false '\n",
    "               './all_sentences/raw_sentences_auditory_1_1000_nulled '\n",
    "               './all_sentences/raw_sentences_auditory_146_nulled '\n",
    "               './all_sentences/raw_sentences_disease_1_1000_nulled')\n",
    "!cat {raw_sources} > 'Auditory_146__vs__Disease_1000__pdx__un_Aud_1_1000/raw_sentences'\n",
    "\n",
    "annotated_sources = ('./all_sentences/annotated_sentences_auditory_146_true '\n",
    "               './all_sentences/annotated_sentences_disease_1_1000_false '\n",
    "               './all_sentences/annotated_sentences_auditory_1_1000_nulled '\n",
    "               './all_sentences/annotated_sentences_auditory_146_nulled '\n",
    "               './all_sentences/annotated_sentences_disease_1_1000_nulled')\n",
    "!cat {annotated_sources} > 'Auditory_146__vs__Disease_1000__pdx__un_Aud_1_1000/annotated_sentences'"
   ]
  },
  {
   "cell_type": "markdown",
   "metadata": {},
   "source": [
    "## Create input data for Question 2: Do we get substantially better with larger 'truth' set and large 'false' set.\n",
    "\n",
    "Given a limited set of positives and a large set of negatives, how is performance dictated by the distance.\n",
    "\n",
    "Where distance is proxied by 'disease >> Psyc >> Arousal' distance away from our training set.\n",
    "\n",
    "    - Auditory_2_1000__vs__Arousal_1_1000__pdx__un_Aro_156\n",
    "      - and is the 'non-group' correctly predicted.\n",
    "    - Auditory_2_1000__vs__Arousal_1_1000__pdx__un_Aud_1_1000\n",
    "      - and is the 'group' correctly predicted.\n",
    "    - Auditory_2_1000__vs__Disease_1000__pdx__un_Aud_1_1000\n",
    "    - Auditory_2_1000__vs__Psyc_1000__pdx__un_Aud_1_1000"
   ]
  },
  {
   "cell_type": "code",
   "execution_count": 30,
   "metadata": {
    "collapsed": false
   },
   "outputs": [
    {
     "name": "stdout",
     "output_type": "stream",
     "text": [
      "mkdir: Auditory_2_1000__vs__Arousal_1_1000__pdx__un_Aud_1_1000: File exists\n",
      "mkdir: Auditory_2_1000__vs__Disease_1000__pdx__un_Aud_1_1000: File exists\n",
      "mkdir: Auditory_2_1000__vs__Psyc_1000__pdx__un_Aud_1_1000: File exists\n"
     ]
    }
   ],
   "source": [
    "%mkdir Auditory_2_1000__vs__Arousal_1_1000__pdx__un_Aro_154\n",
    "%mkdir Auditory_2_1000__vs__Arousal_1_1000__pdx__un_Aud_1_1000\n",
    "%mkdir Auditory_2_1000__vs__Disease_1000__pdx__un_Aud_1_1000\n",
    "%mkdir Auditory_2_1000__vs__Psyc_1000__pdx__un_Aud_1_1000"
   ]
  },
  {
   "cell_type": "code",
   "execution_count": 35,
   "metadata": {
    "collapsed": true
   },
   "outputs": [],
   "source": [
    "# Auditory_2_1000__vs__Arousal_1_1000__pdx__un_Aro_154\n",
    "\n",
    "raw_sources = ('./all_sentences/raw_sentences_auditory_2_1000_true '\n",
    "               './all_sentences/raw_sentences_arousal_1_1000_false '\n",
    "               './all_sentences/raw_sentences_arousal_156_nulled '\n",
    "               './all_sentences/raw_sentences_auditory_2_1000_nulled '\n",
    "               './all_sentences/raw_sentences_arousal_1_1000_nulled')\n",
    "!cat {raw_sources} > 'Auditory_2_1000__vs__Arousal_1_1000__pdx__un_Aro_154/raw_sentences'\n",
    "\n",
    "annotated_sources = ('./all_sentences/annotated_sentences_auditory_2_1000_true '\n",
    "               './all_sentences/annotated_sentences_arousal_1_1000_false '\n",
    "               './all_sentences/annotated_sentences_arousal_156_nulled '\n",
    "               './all_sentences/annotated_sentences_auditory_2_1000_nulled '\n",
    "               './all_sentences/annotated_sentences_arousal_1_1000_nulled')\n",
    "#annotated_sources\n",
    "!cat {annotated_sources} > 'Auditory_2_1000__vs__Arousal_1_1000__pdx__un_Aro_154/annotated_sentences'"
   ]
  },
  {
   "cell_type": "code",
   "execution_count": 36,
   "metadata": {
    "collapsed": true
   },
   "outputs": [],
   "source": [
    "# Auditory_2_1000__vs__Arousal_1_1000__pdx__un_Aud_1_1000\n",
    "raw_sources = ('./all_sentences/raw_sentences_auditory_2_1000_true '\n",
    "               './all_sentences/raw_sentences_arousal_1_1000_false '\n",
    "               './all_sentences/raw_sentences_auditory_1_1000_nulled '\n",
    "               './all_sentences/raw_sentences_auditory_2_1000_nulled '\n",
    "               './all_sentences/raw_sentences_arousal_1_1000_nulled')\n",
    "!cat {raw_sources} > 'Auditory_2_1000__vs__Arousal_1_1000__pdx__un_Aud_1_1000/raw_sentences'\n",
    "\n",
    "annotated_sources = ('./all_sentences/annotated_sentences_auditory_2_1000_true '\n",
    "               './all_sentences/annotated_sentences_arousal_1_1000_false '\n",
    "               './all_sentences/annotated_sentences_auditory_1_1000_nulled '\n",
    "               './all_sentences/annotated_sentences_auditory_2_1000_nulled '\n",
    "               './all_sentences/annotated_sentences_arousal_1_1000_nulled')\n",
    "!cat {annotated_sources} > 'Auditory_2_1000__vs__Arousal_1_1000__pdx__un_Aud_1_1000/annotated_sentences'"
   ]
  },
  {
   "cell_type": "code",
   "execution_count": 37,
   "metadata": {
    "collapsed": true
   },
   "outputs": [],
   "source": [
    "# Auditory_2_1000__vs__Psyc_1000__pdx__un_Aud_1_1000\n",
    "raw_sources = ('./all_sentences/raw_sentences_auditory_2_1000_true '\n",
    "               './all_sentences/raw_sentences_psyc_1_1000_false '\n",
    "               './all_sentences/raw_sentences_auditory_1_1000_nulled '\n",
    "               './all_sentences/raw_sentences_auditory_2_1000_nulled '\n",
    "               './all_sentences/raw_sentences_psyc_1_1000_nulled')\n",
    "!cat {raw_sources} > 'Auditory_2_1000__vs__Psyc_1000__pdx__un_Aud_1_1000/raw_sentences'\n",
    "\n",
    "annotated_sources = ('./all_sentences/annotated_sentences_auditory_2_1000_true '\n",
    "               './all_sentences/annotated_sentences_psyc_1_1000_false '\n",
    "               './all_sentences/annotated_sentences_auditory_1_1000_nulled '\n",
    "               './all_sentences/annotated_sentences_auditory_2_1000_nulled '\n",
    "               './all_sentences/annotated_sentences_psyc_1_1000_nulled')\n",
    "!cat {annotated_sources} > 'Auditory_2_1000__vs__Psyc_1000__pdx__un_Aud_1_1000/annotated_sentences'"
   ]
  },
  {
   "cell_type": "code",
   "execution_count": 38,
   "metadata": {
    "collapsed": true
   },
   "outputs": [],
   "source": [
    "# Auditory_2_1000__vs__Disease_1000__pdx__un_Aud_1_1000\n",
    "raw_sources = ('./all_sentences/raw_sentences_auditory_2_1000_true '\n",
    "               './all_sentences/raw_sentences_disease_1_1000_false '\n",
    "               './all_sentences/raw_sentences_auditory_1_1000_nulled '\n",
    "               './all_sentences/raw_sentences_auditory_2_1000_nulled '\n",
    "               './all_sentences/raw_sentences_disease_1_1000_nulled')\n",
    "!cat {raw_sources} > 'Auditory_2_1000__vs__Disease_1000__pdx__un_Aud_1_1000/raw_sentences'\n",
    "\n",
    "annotated_sources = ('./all_sentences/annotated_sentences_auditory_2_1000_true '\n",
    "               './all_sentences/annotated_sentences_disease_1_1000_false '\n",
    "               './all_sentences/annotated_sentences_auditory_1_1000_nulled '\n",
    "               './all_sentences/annotated_sentences_auditory_2_1000_nulled '\n",
    "               './all_sentences/annotated_sentences_disease_1_1000_nulled')\n",
    "!cat {annotated_sources} > 'Auditory_2_1000__vs__Disease_1000__pdx__un_Aud_1_1000/annotated_sentences'"
   ]
  }
 ],
 "metadata": {
  "kernelspec": {
   "display_name": "Python 2",
   "language": "python",
   "name": "python2"
  },
  "language_info": {
   "codemirror_mode": {
    "name": "ipython",
    "version": 2
   },
   "file_extension": ".py",
   "mimetype": "text/x-python",
   "name": "python",
   "nbconvert_exporter": "python",
   "pygments_lexer": "ipython2",
   "version": "2.7.10"
  }
 },
 "nbformat": 4,
 "nbformat_minor": 0
}
