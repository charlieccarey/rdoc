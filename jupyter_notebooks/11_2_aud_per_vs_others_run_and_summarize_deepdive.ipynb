{
 "cells": [
  {
   "cell_type": "markdown",
   "metadata": {},
   "source": [
    "# Evaluate DeepDive with Auditory Perception using several training set types.\n",
    "\n",
    "We are using Auditory Perception as it is a known MeSH term and therefore was easy to retrieve programatically from PubMed.\n",
    "\n",
    "When documents retrieved by Auditory Perception were reviewed by annotators, they were all or nearly all identified as 'Relevant to Auditory Perception', thereby making a pretty clean test set with or without annotator oversight.\n",
    "\n",
    "## Main questions addressed.\n",
    "*Q1* Qualitatively, how substantial is the effect of increasing the distance of the negative training set?\n",
    "\n",
    "*H1* We expect incresed distance to increase specificity of the desired class, and reduce false postives from the undesired class(es).\n",
    "\n",
    "*Q2* Qualitatively, does increasing the desired class size vastly improve specificity and reduce false positives?\n",
    "\n",
    "*H2* We expect more training data will dramatically improve our test measures."
   ]
  },
  {
   "cell_type": "markdown",
   "metadata": {},
   "source": [
    "## Start Server"
   ]
  },
  {
   "cell_type": "code",
   "execution_count": 1,
   "metadata": {
    "collapsed": false
   },
   "outputs": [
    {
     "name": "stdout",
     "output_type": "stream",
     "text": [
      "pg_ctl: another server might be running; trying to start server anyway\r\n",
      "server starting\r\n"
     ]
    }
   ],
   "source": [
    "!pg_ctl -D /usr/local/var/postgres -l /usr/local/var/postgres/server.log start # deepdive"
   ]
  },
  {
   "cell_type": "markdown",
   "metadata": {},
   "source": [
    "## experiments we are running"
   ]
  },
  {
   "cell_type": "code",
   "execution_count": 2,
   "metadata": {
    "collapsed": false
   },
   "outputs": [],
   "source": [
    "import os\n",
    "import shutil\n",
    "import errno\n",
    "import glob\n",
    "\n",
    "dd_sent_sources = '/Users/ccarey/Documents/Projects/NAMI/rdoc/tasks/task_data_sentences'\n",
    "dd_app_dir = '/Users/ccarey/Documents/Projects/NAMI/rdoc/tasks/deepdive_app'\n",
    "templates = '/Users/ccarey/Documents/Projects/NAMI/rdoc/tasks/templates_deepdive_app_bagofwords/'\n",
    "\n",
    "conf_matrix_r_src = '/Users/ccarey/Documents/Projects/NAMI/rdoc/scripts/report_dd_confusion_matrix.R' # creates tsv and pdf reports.\n"
   ]
  },
  {
   "cell_type": "code",
   "execution_count": 33,
   "metadata": {
    "collapsed": true
   },
   "outputs": [],
   "source": [
    "def create_dd_app(template_dir, app_name, input_raw, input_annotated):\n",
    "    '''Sets up a DeepDive app based and populates the input data'''\n",
    "    try:\n",
    "        shutil.copytree(template_dir, app_name)\n",
    "    except OSError as err:\n",
    "        print(\"Error copying {} to {}: {}\".format(template_dir, app_name, err))\n",
    "    # create / overwrite unique postgres db name for this app:\n",
    "    with open(os.path.join(app_name, 'db.url'), 'w') as f:\n",
    "        f.write('postgresql://localhost/{}\\n'.format(app_name))\n",
    "    try:\n",
    "        shutil.copyfile(input_raw, os.path.join(app_name, 'input', 'raw_sentences'))\n",
    "    except OSError as err:\n",
    "        print(\"Error copying raw sentences: {}\".format(err))\n",
    "    try:\n",
    "        shutil.copyfile(input_annotated, os.path.join(app_name, 'input', 'annotated_sentences'))\n",
    "    except OSError as err:\n",
    "        print(\"Error copying annotated sentences: {}\".format(err))\n",
    "\n",
    "def my_dd_table_sql_str():\n",
    "    '''Used to populate cc_all_predictions.tsv or such table in \n",
    "    deepdive app.\n",
    "    \n",
    "    That tsv file in turn is used by our confusion matrix R Script to\n",
    "    generate stats and plots from our deepdive apps.\n",
    "    '''\n",
    "    cmd = ('SELECT a.has_term, r.terms, a.sentence_id, expectation '\n",
    "           'FROM '\n",
    "           '_annotated_sentences_has_term_inference as a JOIN '\n",
    "           '_raw_sentences as r ON '\n",
    "           'a.sentence_id = r.sentence_id '\n",
    "           'ORDER BY a.sentence_id')\n",
    "    return(cmd)\n"
   ]
  },
  {
   "cell_type": "markdown",
   "metadata": {},
   "source": [
    "## Q1. experiments: smaller 'true' training set, different distances of 'false' training sets."
   ]
  },
  {
   "cell_type": "markdown",
   "metadata": {},
   "source": [
    "### Create deepdive apps for Q1 named according to their input data."
   ]
  },
  {
   "cell_type": "code",
   "execution_count": 20,
   "metadata": {
    "collapsed": false
   },
   "outputs": [
    {
     "name": "stdout",
     "output_type": "stream",
     "text": [
      "/Users/ccarey/Documents/Projects/NAMI/rdoc/tasks/deepdive_app\n",
      "/Users/ccarey/Documents/Projects/NAMI/rdoc/tasks/deepdive_app\n"
     ]
    }
   ],
   "source": [
    "# all apps must be at depth = 1, in a deepdive_app home directory, in our case 'deepdive_app/'\n",
    "print(dd_app_dir)\n",
    "%cd $dd_app_dir"
   ]
  },
  {
   "cell_type": "code",
   "execution_count": 21,
   "metadata": {
    "collapsed": false
   },
   "outputs": [
    {
     "name": "stdout",
     "output_type": "stream",
     "text": [
      "Creating deepdive_app Auditory_146__vs__Arousal_1_1000__pdx__un_Aro_154 at : /Users/ccarey/Documents/Projects/NAMI/rdoc/tasks/deepdive_app\n",
      "Creating deepdive_app Auditory_146__vs__Arousal_1_1000__pdx__un_Aud_1_1000 at : /Users/ccarey/Documents/Projects/NAMI/rdoc/tasks/deepdive_app\n",
      "Creating deepdive_app Auditory_146__vs__Disease_1000__pdx__un_Aud_1_1000 at : /Users/ccarey/Documents/Projects/NAMI/rdoc/tasks/deepdive_app\n",
      "Creating deepdive_app Auditory_146__vs__Psyc_1000__pdx__un_Aud_1_1000 at : /Users/ccarey/Documents/Projects/NAMI/rdoc/tasks/deepdive_app\n"
     ]
    }
   ],
   "source": [
    "sources_q1 = !ls -d {dd_sent_sources}/Auditory_146*\n",
    "\n",
    "for s in sources_q1:\n",
    "    app_name = os.path.basename(s)\n",
    "    print('Creating deepdive_app {} at : {}'.format(app_name, os.getcwd()))\n",
    "    create_dd_app(template_dir=templates, \n",
    "                  app_name=app_name,\n",
    "                  input_raw=os.path.join(s, 'raw_sentences'),\n",
    "                  input_annotated=os.path.join(s, 'annotated_sentences'))"
   ]
  },
  {
   "cell_type": "markdown",
   "metadata": {},
   "source": [
    "## run deepdive apps for Q1.\n",
    "The app must be initialized and run within the apps directory."
   ]
  },
  {
   "cell_type": "code",
   "execution_count": 22,
   "metadata": {
    "collapsed": false
   },
   "outputs": [
    {
     "name": "stdout",
     "output_type": "stream",
     "text": [
      "/Users/ccarey/Documents/Projects/NAMI/rdoc/tasks/deepdive_app\n",
      "Running deepdive_app Auditory_146__vs__Arousal_1_1000__pdx__un_Aro_154\n",
      "/Users/ccarey/Documents/Projects/NAMI/rdoc/tasks/deepdive_app/Auditory_146__vs__Arousal_1_1000__pdx__un_Aro_154\n",
      "/Users/ccarey/Documents/Projects/NAMI/rdoc/tasks/deepdive_app\n",
      "Running deepdive_app Auditory_146__vs__Arousal_1_1000__pdx__un_Aud_1_1000\n",
      "/Users/ccarey/Documents/Projects/NAMI/rdoc/tasks/deepdive_app/Auditory_146__vs__Arousal_1_1000__pdx__un_Aud_1_1000\n",
      "/Users/ccarey/Documents/Projects/NAMI/rdoc/tasks/deepdive_app\n",
      "Running deepdive_app Auditory_146__vs__Disease_1000__pdx__un_Aud_1_1000\n",
      "/Users/ccarey/Documents/Projects/NAMI/rdoc/tasks/deepdive_app/Auditory_146__vs__Disease_1000__pdx__un_Aud_1_1000\n",
      "/Users/ccarey/Documents/Projects/NAMI/rdoc/tasks/deepdive_app\n",
      "Running deepdive_app Auditory_146__vs__Psyc_1000__pdx__un_Aud_1_1000\n",
      "/Users/ccarey/Documents/Projects/NAMI/rdoc/tasks/deepdive_app/Auditory_146__vs__Psyc_1000__pdx__un_Aud_1_1000\n",
      "/Users/ccarey/Documents/Projects/NAMI/rdoc/tasks/deepdive_app\n"
     ]
    }
   ],
   "source": [
    "%cd {dd_app_dir}\n",
    "\n",
    "apps = glob.glob('Auditory_146__vs*')\n",
    "apps = [os.path.basename(a) for a in apps]\n",
    "\n",
    "for app in apps:\n",
    "    print('Running deepdive_app {}'.format(app))\n",
    "    %cd {app}\n",
    "    !deepdive initdb 1> /dev/null 2>&1\n",
    "    !deepdive run  1> /dev/null 2>&1\n",
    "    %cd {dd_app_dir}"
   ]
  },
  {
   "cell_type": "markdown",
   "metadata": {},
   "source": [
    "## collate tables and stats for Q1 deepdive apps."
   ]
  },
  {
   "cell_type": "code",
   "execution_count": 25,
   "metadata": {
    "collapsed": false
   },
   "outputs": [
    {
     "name": "stdout",
     "output_type": "stream",
     "text": [
      "/Users/ccarey/Documents/Projects/NAMI/rdoc/tasks/deepdive_app\n",
      "/Users/ccarey/Documents/Projects/NAMI/rdoc/tasks/deepdive_app/Auditory_146__vs__Arousal_1_1000__pdx__un_Aro_154\n",
      "/Users/ccarey/Documents/Projects/NAMI/rdoc/tasks/deepdive_app\n",
      "/Users/ccarey/Documents/Projects/NAMI/rdoc/tasks/deepdive_app/Auditory_146__vs__Arousal_1_1000__pdx__un_Aud_1_1000\n",
      "/Users/ccarey/Documents/Projects/NAMI/rdoc/tasks/deepdive_app\n",
      "/Users/ccarey/Documents/Projects/NAMI/rdoc/tasks/deepdive_app/Auditory_146__vs__Disease_1000__pdx__un_Aud_1_1000\n",
      "/Users/ccarey/Documents/Projects/NAMI/rdoc/tasks/deepdive_app\n",
      "/Users/ccarey/Documents/Projects/NAMI/rdoc/tasks/deepdive_app/Auditory_146__vs__Psyc_1000__pdx__un_Aud_1_1000\n",
      "/Users/ccarey/Documents/Projects/NAMI/rdoc/tasks/deepdive_app\n"
     ]
    }
   ],
   "source": [
    "cmd = my_dd_table_sql_str()\n",
    "\n",
    "%cd {dd_app_dir}\n",
    "for a in apps:\n",
    "    %cd {a}\n",
    "    !deepdive sql eval \"{cmd}\" format=tsv > cc_all_predictions.tsv\n",
    "    !RScript {conf_matrix_r_src} ./cc_all_predictions.tsv {a} '' > /dev/null 2>&1\n",
    "    %cd {dd_app_dir}"
   ]
  },
  {
   "cell_type": "markdown",
   "metadata": {},
   "source": [
    "## Q2. experiments: larger 'true' training set, different distances of 'false' training sets."
   ]
  },
  {
   "cell_type": "markdown",
   "metadata": {},
   "source": [
    "Although we are working with approximately 2x as many abstracts, remains compute time is quite fast."
   ]
  },
  {
   "cell_type": "code",
   "execution_count": 28,
   "metadata": {
    "collapsed": false
   },
   "outputs": [
    {
     "name": "stdout",
     "output_type": "stream",
     "text": [
      "/Users/ccarey/Documents/Projects/NAMI/rdoc/tasks/deepdive_app\n",
      "/Users/ccarey/Documents/Projects/NAMI/rdoc/tasks/deepdive_app\n"
     ]
    }
   ],
   "source": [
    "# all apps must be at depth = 1, in a deepdive_app home directory, in our case 'deepdive_app/'\n",
    "print(dd_app_dir)\n",
    "%cd $dd_app_dir"
   ]
  },
  {
   "cell_type": "code",
   "execution_count": 30,
   "metadata": {
    "collapsed": false
   },
   "outputs": [
    {
     "name": "stdout",
     "output_type": "stream",
     "text": [
      "Creating deepdive_app Auditory_2_1000__vs__Arousal_1_1000__pdx__un_Aro_154 at : /Users/ccarey/Documents/Projects/NAMI/rdoc/tasks/deepdive_app\n",
      "Creating deepdive_app Auditory_2_1000__vs__Arousal_1_1000__pdx__un_Aud_1_1000 at : /Users/ccarey/Documents/Projects/NAMI/rdoc/tasks/deepdive_app\n",
      "Creating deepdive_app Auditory_2_1000__vs__Disease_1000__pdx__un_Aud_1_1000 at : /Users/ccarey/Documents/Projects/NAMI/rdoc/tasks/deepdive_app\n",
      "Creating deepdive_app Auditory_2_1000__vs__Psyc_1000__pdx__un_Aud_1_1000 at : /Users/ccarey/Documents/Projects/NAMI/rdoc/tasks/deepdive_app\n"
     ]
    }
   ],
   "source": [
    "sources_q1 = !ls -d {dd_sent_sources}/Auditory_2_1000*\n",
    "\n",
    "for s in sources_q1:\n",
    "    app_name = os.path.basename(s)\n",
    "    print('Creating deepdive_app {} at : {}'.format(app_name, os.getcwd()))\n",
    "    create_dd_app(template_dir=templates, \n",
    "                  app_name=app_name,\n",
    "                  input_raw=os.path.join(s, 'raw_sentences'),\n",
    "                  input_annotated=os.path.join(s, 'annotated_sentences'))"
   ]
  },
  {
   "cell_type": "code",
   "execution_count": 31,
   "metadata": {
    "collapsed": false
   },
   "outputs": [
    {
     "name": "stdout",
     "output_type": "stream",
     "text": [
      "/Users/ccarey/Documents/Projects/NAMI/rdoc/tasks/deepdive_app\n",
      "Running deepdive_app Auditory_2_1000__vs__Arousal_1_1000__pdx__un_Aro_154\n",
      "/Users/ccarey/Documents/Projects/NAMI/rdoc/tasks/deepdive_app/Auditory_2_1000__vs__Arousal_1_1000__pdx__un_Aro_154\n",
      "/Users/ccarey/Documents/Projects/NAMI/rdoc/tasks/deepdive_app\n",
      "Running deepdive_app Auditory_2_1000__vs__Arousal_1_1000__pdx__un_Aud_1_1000\n",
      "/Users/ccarey/Documents/Projects/NAMI/rdoc/tasks/deepdive_app/Auditory_2_1000__vs__Arousal_1_1000__pdx__un_Aud_1_1000\n",
      "/Users/ccarey/Documents/Projects/NAMI/rdoc/tasks/deepdive_app\n",
      "Running deepdive_app Auditory_2_1000__vs__Disease_1000__pdx__un_Aud_1_1000\n",
      "/Users/ccarey/Documents/Projects/NAMI/rdoc/tasks/deepdive_app/Auditory_2_1000__vs__Disease_1000__pdx__un_Aud_1_1000\n",
      "/Users/ccarey/Documents/Projects/NAMI/rdoc/tasks/deepdive_app\n",
      "Running deepdive_app Auditory_2_1000__vs__Psyc_1000__pdx__un_Aud_1_1000\n",
      "/Users/ccarey/Documents/Projects/NAMI/rdoc/tasks/deepdive_app/Auditory_2_1000__vs__Psyc_1000__pdx__un_Aud_1_1000\n",
      "/Users/ccarey/Documents/Projects/NAMI/rdoc/tasks/deepdive_app\n"
     ]
    }
   ],
   "source": [
    "%cd {dd_app_dir}\n",
    "\n",
    "apps = glob.glob('Auditory_2_1000__vs*')\n",
    "apps = [os.path.basename(a) for a in apps]\n",
    "\n",
    "for app in apps:\n",
    "    print('Running deepdive_app {}'.format(app))\n",
    "    %cd {app}\n",
    "    !deepdive initdb 1> /dev/null 2>&1\n",
    "    !deepdive run  1> /dev/null 2>&1\n",
    "    %cd {dd_app_dir}"
   ]
  },
  {
   "cell_type": "code",
   "execution_count": 32,
   "metadata": {
    "collapsed": false
   },
   "outputs": [
    {
     "name": "stdout",
     "output_type": "stream",
     "text": [
      "/Users/ccarey/Documents/Projects/NAMI/rdoc/tasks/deepdive_app\n",
      "/Users/ccarey/Documents/Projects/NAMI/rdoc/tasks/deepdive_app/Auditory_2_1000__vs__Arousal_1_1000__pdx__un_Aro_154\n",
      "/Users/ccarey/Documents/Projects/NAMI/rdoc/tasks/deepdive_app\n",
      "/Users/ccarey/Documents/Projects/NAMI/rdoc/tasks/deepdive_app/Auditory_2_1000__vs__Arousal_1_1000__pdx__un_Aud_1_1000\n",
      "/Users/ccarey/Documents/Projects/NAMI/rdoc/tasks/deepdive_app\n",
      "/Users/ccarey/Documents/Projects/NAMI/rdoc/tasks/deepdive_app/Auditory_2_1000__vs__Disease_1000__pdx__un_Aud_1_1000\n",
      "/Users/ccarey/Documents/Projects/NAMI/rdoc/tasks/deepdive_app\n",
      "/Users/ccarey/Documents/Projects/NAMI/rdoc/tasks/deepdive_app/Auditory_2_1000__vs__Psyc_1000__pdx__un_Aud_1_1000\n",
      "/Users/ccarey/Documents/Projects/NAMI/rdoc/tasks/deepdive_app\n"
     ]
    }
   ],
   "source": [
    "cmd = my_dd_table_sql_str()\n",
    "\n",
    "%cd {dd_app_dir}\n",
    "for a in apps:\n",
    "    %cd {a}\n",
    "    !deepdive sql eval \"{cmd}\" format=tsv > cc_all_predictions.tsv\n",
    "    !RScript {conf_matrix_r_src} ./cc_all_predictions.tsv {a} '' > /dev/null 2>&1\n",
    "    %cd {dd_app_dir}"
   ]
  },
  {
   "cell_type": "markdown",
   "metadata": {},
   "source": [
    "# Appendix: reporting stats"
   ]
  },
  {
   "cell_type": "markdown",
   "metadata": {},
   "source": [
    "for f in  Aud*; do echo -e \"\\n\\n\\n${f}\\n\"; cat ${f}/*test_only__stats.tsv; done | sed 's/[.]\\(...\\).*/.\\1/'\n",
    "\n",
    "for f in  Aud*; do echo -e \"\\n\\n\\n${f}\\n\"; cat ${f}/*test_only__confmatr.tsv; done"
   ]
  },
  {
   "cell_type": "markdown",
   "metadata": {},
   "source": [
    "Auditory_Perception__vs__Arousal_un_Aro156\n",
    "\n",
    "                    KNOWN\n",
    "             \"Negative\"\t\"Positive\"\n",
    "     PRED \"Negative\"\t256\t8\n",
    "          \"Positive\"\t5\t33\n",
    "\n",
    "- \"Accuracy\"\t0.956\n",
    "- \"AccuracyLower\"\t0.927\n",
    "- \"AccuracyUpper\"\t0.976\n",
    "- \"Sensitivity\"\t0.804\n",
    "- \"Specificity\"\t0.980\n",
    "- \"Pos Pred Value\"\t0.868\n",
    "- \"Neg Pred Value\"\t0.969\n",
    "- \"Prevalence\"\t0.135\n",
    "\n",
    "\n",
    "Auditory_Perception__vs__Arousal_un_Aud\n",
    "\n",
    "                    KNOWN\n",
    "             \"Negative\"\t\"Positive\"\n",
    "    PRED \"Negative\"\t242\t13\n",
    "         \"Positive\"\t3\t25\n",
    "\n",
    "- \"Accuracy\"\t0.943\n",
    "- \"AccuracyLower\"\t0.909\n",
    "- \"AccuracyUpper\"\t0.967\n",
    "- \"Sensitivity\"\t0.657\n",
    "- \"Specificity\"\t0.987\n",
    "- \"Pos Pred Value\"\t0.892\n",
    "- \"Neg Pred Value\"\t0.949\n",
    "- \"Prevalence\"\t0.134\n",
    "\n",
    "\n",
    "Auditory_Perception__vs__Disease_un_Aud\n",
    "\n",
    "           \"Negative\"\t\"Positive\"\n",
    "      \"Negative\"\t233\t1\n",
    "      \"Positive\"\t2\t32\n",
    "\n",
    "- \"Accuracy\"\t0.988\n",
    "- \"AccuracyLower\"\t0.967\n",
    "- \"AccuracyUpper\"\t0.997\n",
    "- \"Sensitivity\"\t0.969\n",
    "- \"Specificity\"\t0.991\n",
    "- \"Pos Pred Value\"\t0.941\n",
    "- \"Neg Pred Value\"\t0.995\n",
    "- \"Prevalence\"\t0.123\n",
    "\n",
    "\n",
    "Auditory_Perception__vs__Psyc_un_Aud\n",
    "\n",
    "            \"Negative\"\t\"Positive\"\n",
    "        \"Negative\"\t249\t6\n",
    "        \"Positive\"\t4\t34\n",
    "\n",
    "- \"Accuracy\"\t0.965\n",
    "- \"AccuracyLower\"\t0.938\n",
    "- \"AccuracyUpper\"\t0.983\n",
    "- \"Sensitivity\"\t0.85\n",
    "- \"Specificity\"\t0.984\n",
    "- \"Pos Pred Value\"\t0.894\n",
    "- \"Neg Pred Value\"\t0.976\n",
    "- \"Prevalence\"\t0.136\n"
   ]
  },
  {
   "cell_type": "markdown",
   "metadata": {},
   "source": [
    "# Appendix\n",
    "## A.1 DeepDive crashes when run below directory of deepdive_app during GIBBS sampling\n",
    "\n",
    "Note failure below.\n",
    "\n",
    "But runs fine if we move the app to:\n",
    "/Users/ccarey/Documents/Projects/NAMI/rdoc/tasks/deepdive_app/Auditory_Perception__vs__Disease_un_Aud\n",
    "\n",
    "### This might be related to another error at the same place I encountered where I had long path names.\n",
    "\n",
    "The GIBBS SAMPLING is failing at either app_name is > 55 characters OR Full path + app_name > 117 characters."
   ]
  },
  {
   "cell_type": "raw",
   "metadata": {},
   "source": [
    "02:30:39 [sampler] INFO  #################GIBBS SAMPLING#################\n",
    "02:30:39 [sampler] INFO  # fg_file            : /Users/ccarey/Documents/Projects/NAMI/rdoc/tasks/deepdive_app/11_auditory_perception_tests/Auditory_Perception__vs__Disease_un_Aud/run/20160311/023031.N/graph.meta\n",
    "02:30:39 [sampler] INFO  # edge_file          : /Users/ccarey/Documents/Projects/NAMI/rdoc/tasks/deepdive_app/11_auditory_perception_tests/Auditory_Perception__vs__Disease_un_Aud/run/20160311/023031.N/graph.edges\n",
    "02:30:39 [sampler] INFO  # weight_file        : /Users/ccarey/Documents/Projects/NAMI/rdoc/tasks/deepdive_app/11_auditory_perception_tests/Auditory_Perception__vs__Disease_un_Aud/run/20160311/023031.N/graph.weights\n",
    "02:30:39 [sampler] INFO  # variable_file      : /Users/ccarey/Documents/Projects/NAMI/rdoc/tasks/deepdive_app/11_auditory_perception_tests/Auditory_Perception__vs__Disease_un_Aud/run/20160311/023031.N/graph.variables\n",
    "02:30:39 [sampler] INFO  # factor_file        : /Users/ccarey/Documents/Projects/NAMI/rdoc/tasks/deepdive_app/11_auditory_perception_tests/Auditory_Perception__vs__Disease_un_Aud/run/20160311/023031.N/graph.factors\n",
    "02:30:39 [sampler] INFO  # output_folder      : /Users/ccarey/Documents/Projects/NAMI/rdoc/tasks/deepdive_app/11_auditory_perception_tests/Auditory_Perception__vs__Disease_un_Aud/run/20160311/023031.N\n",
    "02:30:39 [sampler] INFO  # n_learning_epoch   : 300\n",
    "02:30:39 [sampler] INFO  # n_samples/l. epoch : 1\n",
    "02:30:39 [sampler] INFO  # n_inference_epoch  : 500\n",
    "02:30:39 [sampler] INFO  # stepsize           : 0.1\n",
    "02:30:39 [sampler] INFO  # decay              : 0.95\n",
    "02:30:39 [sampler] INFO  # regularization     : 0.01\n",
    "02:30:39 [sampler] INFO  ################################################\n",
    "02:30:39 [sampler] INFO  # IGNORE -s (n_samples/l. epoch). ALWAYS -s 1. #\n",
    "02:30:39 [sampler] INFO  # IGNORE -t (threads). ALWAYS USE ALL THREADS. #\n",
    "02:30:39 [sampler] INFO  ################################################\n",
    "02:30:39 [sampler] INFO  # nvar               : 3292\n",
    "02:30:39 [sampler] INFO  # nfac               : 571531\n",
    "02:30:39 [sampler] INFO  # nweight            : 21152\n",
    "02:30:39 [sampler] INFO  # nedge              : 0\n",
    "02:30:39 [sampler] INFO  ################################################\n",
    "Assertion failed: (n_loaded == n_var), function load, file src/dstruct/factor_graph/factor_graph.cpp, line 163.\n",
    "/Users/ccarey/local/util/deepdive-run: line 80: 56716 Killed: 9               java org.deepdive.Main -c \"$extendedConfig\" -o \"$APP_HOME/$run_dir\""
   ]
  },
  {
   "cell_type": "markdown",
   "metadata": {},
   "source": [
    "## A.2 DeepDive crashes when sentences are empty\n",
    "Possibly an issue with my UDF.\n",
    "\n",
    "# TODO: See if fix to udf corrects this crash?\n",
    "For example, we had following records that were empty."
   ]
  },
  {
   "cell_type": "raw",
   "metadata": {},
   "source": [
    "Auditory_Perception__vs__Arousal_un_Aro156 $ grep -e '\\t\\t' input/raw_sentences\n",
    "21626350\t\t\\N\t\\N\n",
    "25325584\t\t\\N\t\\N\n",
    "Auditory_Perception__vs__Arousal_un_Aro156 $ grep -e '{}' input/annotated_sentences\n",
    "21626350\t{}\t\\N\t\\N\n",
    "25325584\t{}\t\\N\t\\N"
   ]
  },
  {
   "cell_type": "markdown",
   "metadata": {},
   "source": [
    "Removing these fixed the problem.\n",
    "\n",
    "Error generated was probably within my udf script as indicated:"
   ]
  },
  {
   "cell_type": "raw",
   "metadata": {},
   "source": [
    "03:12:35 [extractorRunner-EXTRACT_FEATURES] DEBUG Temporary UDF file saved to /Users/ccarey/Documents/Projects/NAMI/rdoc/tasks/deepdive_app/Auditory_Perception__vs__Arousal_un_Aro156/run/20160311/031234.N/tmp/exec_parallel_udf.sh\n",
    "03:12:35 [Helpers$(akka://deepdive)] INFO  Executing command: \"/Users/ccarey/Documents/Projects/NAMI/rdoc/tasks/deepdive_app/Auditory_Perception__vs__Arousal_un_Aro156/run/20160311/031234.N/tmp/exec_parallel_udf.sh\"\n",
    "03:12:35 [Helpers$(akka://deepdive)] INFO  Traceback (most recent call last):\n",
    "03:12:35 [Helpers$(akka://deepdive)] INFO    File \"/Users/ccarey/Documents/Projects/NAMI/rdoc/tasks/deepdive_app/Auditory_Perception__vs__Arousal_un_Aro156/udf/dd_extract_features.py\", line 15, in <module>\n",
    "03:12:35 [Helpers$(akka://deepdive)] INFO      sent_id, lemmas = row.split('\\t')\n",
    "03:12:35 [Helpers$(akka://deepdive)] INFO  ValueError: need more than 1 value to unpack\n",
    "03:12:35 [extractorRunner-EXTRACT_FEATURES] ERROR java.lang.RuntimeException: Failure when executing script: /Users/ccarey/Documents/Projects/NAMI/rdoc/tasks/deepdive_app/Auditory_Perception__vs__Arousal_un_Aro156/run/20160311/031234.N/tmp/exec_parallel_udf.sh\n",
    "03:12:35 [profiler] DEBUG ending report_id=EXTRACT_FEATURES\n",
    "03:12:35 [taskManager] INFO  Completed task_id=EXTRACT_FEATURES with Failure(java.lang.RuntimeException: Failure when executing script: /Users/ccarey/Documents/Projects/NAMI/rdoc/tasks/deepdive_app/Auditory_Perception__vs__Arousal_un_Aro156/run/20160311/031234.N/tmp/exec_parallel_udf.sh)\n",
    "03:12:35 [taskManager] ERROR task=EXTRACT_FEATURES Failed: java.lang.RuntimeException: Failure when executing script: /Users/ccarey/Documents/Projects/NAMI/rdoc/tasks/deepdive_app/Auditory_Perception__vs__Arousal_un_Aro156/run/20160311/031234.N/tmp/exec_parallel_udf.sh\n",
    "03:12:35 [taskManager] ERROR Forcing shutdown\n",
    "03:12:35 [taskManager] ERROR Cancelling task=inference_grounding\n",
    "03:12:35 [taskManager] ERROR Cancelling task=inference\n",
    "03:12:35 [extractorRunner-EXTRACT_FEATURES] ERROR java.lang.RuntimeException: Failure when executing script: /Users/ccarey/Documents/Projects/NAMI/rdoc/tasks/deepdive_app/Auditory_Perception__vs__Arousal_un_Aro156/run/20160311/031234.N/tmp/exec_parallel_udf.sh\n",
    "java.lang.RuntimeException: java.lang.RuntimeException: Failure when executing script: /Users/ccarey/Documents/Projects/NAMI/rdoc/tasks/deepdive_app/Auditory_Perception__vs__Arousal_un_Aro156/run/20160311/031234.N/tmp/exec_parallel_udf.sh\n",
    "\tat org.deepdive.extraction.ExtractorRunner.org$deepdive$extraction$ExtractorRunner$$executeScriptOrFail(ExtractorRunner.scala:308) ~[deepdive.jar:0.7.0]\n",
    "\tat org.deepdive.extraction.ExtractorRunner.org$deepdive$extraction$ExtractorRunner$$runTsvExtractor(ExtractorRunner.scala:473) ~[deepdive.jar:0.7.0]\n",
    "\tat org.deepdive.extraction.ExtractorRunner$$anonfun$2.applyOrElse(ExtractorRunner.scala:138) ~[deepdive.jar:0.7.0]\n",
    "\tat org.deepdive.extraction.ExtractorRunner$$anonfun$2.applyOrElse(ExtractorRunner.scala:107) ~[deepdive.jar:0.7.0]\n",
    "\tat scala.runtime.AbstractPartialFunction.apply(AbstractPartialFunction.scala:33) ~[deepdive.jar:0.7.0]\n",
    "\tat akka.actor.FSM$class.processEvent(FSM.scala:587) ~[deepdive.jar:0.7.0]\n",
    "\tat org.deepdive.extraction.ExtractorRunner.processEvent(ExtractorRunner.scala:63) ~[deepdive.jar:0.7.0]\n",
    "\tat akka.actor.FSM$class.akka$actor$FSM$$processMsg(FSM.scala:581) ~[deepdive.jar:0.7.0]\n",
    "\tat akka.actor.FSM$$anonfun$receive$1.applyOrElse(FSM.scala:575) ~[deepdive.jar:0.7.0]\n",
    "\tat akka.actor.Actor$class.aroundReceive(Actor.scala:467) ~[deepdive.jar:0.7.0]\n",
    "\tat org.deepdive.extraction.ExtractorRunner.aroundReceive(ExtractorRunner.scala:63) ~[deepdive.jar:0.7.0]\n",
    "\tat akka.actor.ActorCell.receiveMessage(ActorCell.scala:491) [deepdive.jar:0.7.0]\n",
    "\tat akka.actor.ActorCell.invoke(ActorCell.scala:462) [deepdive.jar:0.7.0]\n",
    "\tat akka.dispatch.Mailbox.processMailbox(Mailbox.scala:237) [deepdive.jar:0.7.0]\n",
    "\tat akka.dispatch.Mailbox.run(Mailbox.scala:219) [deepdive.jar:0.7.0]\n",
    "\tat akka.dispatch.ForkJoinExecutorConfigurator$AkkaForkJoinTask.exec(AbstractDispatcher.scala:385) [deepdive.jar:0.7.0]\n",
    "\tat scala.concurrent.forkjoin.ForkJoinTask.doExec(ForkJoinTask.java:260) [deepdive.jar:0.7.0]\n",
    "\tat scala.concurrent.forkjoin.ForkJoinPool$WorkQueue.runTask(ForkJoinPool.java:1339) [deepdive.jar:0.7.0]\n",
    "\tat scala.concurrent.forkjoin.ForkJoinPool.runWorker(ForkJoinPool.java:1979) [deepdive.jar:0.7.0]\n",
    "\tat scala.concurrent.forkjoin.ForkJoinWorkerThread.run(ForkJoinWorkerThread.java:107) [deepdive.jar:0.7.0]\n",
    "/Users/ccarey/local/util/deepdive-run: line 80: 59435 Killed: 9               java org.deepdive.Main -c \"$extendedConfig\" -o \"$APP_HOME/$run_dir\""
   ]
  }
 ],
 "metadata": {
  "kernelspec": {
   "display_name": "Python 2",
   "language": "python",
   "name": "python2"
  },
  "language_info": {
   "codemirror_mode": {
    "name": "ipython",
    "version": 2
   },
   "file_extension": ".py",
   "mimetype": "text/x-python",
   "name": "python",
   "nbconvert_exporter": "python",
   "pygments_lexer": "ipython2",
   "version": "2.7.10"
  }
 },
 "nbformat": 4,
 "nbformat_minor": 0
}
