{
 "cells": [
  {
   "cell_type": "raw",
   "metadata": {},
   "source": [
    "cp /Users/ccarey/Documents/Projects/NAMI/rdoc/pdfs/20150916_rdoc_project/20150916_out_batch_2/*/*.pdf ./\n",
    "cp /Users/ccarey/Documents/Projects/NAMI/rdoc/pdfs/20160122_rdoc_project/*.pdf ./\n",
    "for f in *_[jtcm][klc].pdf; do mv $f ${f/_[mjtc][klc].pdf/.pdf}; done\n",
    "\n",
    "# earlier copies I just have as annotated versions.\n",
    "cp /Users/ccarey/Documents/Projects/NAMI/rdoc/pdfs/all_pdfs_annotated_pmid_names/0*AR0*.pdf ./\n",
    "for f in *_[jtcm][klc]_ANNOTATED.pdf; do mv $f ${f/_[mjtc][klc]_ANNOTATED.pdf/.pdf}; done\n",
    "mv 02_AR04_05_24293773_ANNOTATED_mk.pdf 02_AR04_05_24293773.pdf\n",
    "mv 02_AR00_05_25734385_jl_ANNOTATED_IRRELEVANT.pdf 02_AR00_05_25734385.pdf\n",
    "rm *IRRELEVANT* # Already have copies\n",
    "\n",
    "# probably have some duplicates here.\n",
    "# wish to retain version with pmid if truly duplicate.\n",
    "# open these in pairs to make sure.\n",
    "for f in  *_0[0-9].pdf; do echo $f ${f/.pdf/_}*.pdf; done"
   ]
  },
  {
   "cell_type": "raw",
   "metadata": {},
   "source": [
    "# Only non-pmid version (mislabeled / misclassified / irrelevants?)\n",
    "# 02_AR00_02.pdf\n",
    "# 02_AR00_03.pdf\n",
    "# 02_AR03_01.pdf\n",
    "# 02_AR03_03.pdf\n",
    "02_AR00_05.pdf 02_AR00_05_25734385.pdf\n",
    "02_AR01_01.pdf 02_AR01_01_23647728.pdf\n",
    "02_AR01_02.pdf 02_AR01_02_23083918.pdf\n",
    "02_AR01_04.pdf 02_AR01_04_22575329.pdf\n",
    "02_AR01_05.pdf 02_AR01_05_22379245.pdf\n",
    "02_AR03_02.pdf 02_AR03_02_25197810.pdf\n",
    "02_AR03_04.pdf 02_AR03_04_25136085.pdf\n",
    "02_AR03_05.pdf 02_AR03_05_25126038.pdf\n",
    "02_AR04_01.pdf 02_AR04_01_25142564.pdf\n",
    "02_AR04_02.pdf 02_AR04_02_25126029.pdf\n",
    "02_AR04_03.pdf 02_AR04_03_24470693.pdf\n",
    "02_AR04_04.pdf 02_AR04_04_24333377.pdf\n",
    "02_AR04_05.pdf 02_AR04_05_24293773.pdf\n",
    "02_AR05_01.pdf 02_AR05_01_24116095.pdf\n",
    "02_AR05_02.pdf 02_AR05_02_24101292.pdf\n",
    "02_AR05_03.pdf 02_AR05_03_24045586.pdf\n",
    "02_AR05_04.pdf 02_AR05_04_23954763.pdf\n",
    "02_AR05_05.pdf 02_AR05_05_23646134.pdf\n",
    "02_AR07_01.pdf 02_AR07_01_20815182.pdf"
   ]
  },
  {
   "cell_type": "raw",
   "metadata": {},
   "source": [
    "rm 02_AR00_05.pdf 02_AR01_01.pdf 02_AR01_02.pdf 02_AR01_04.pdf \n",
    "rm 02_AR01_05.pdf 02_AR03_02.pdf 02_AR03_04.pdf 02_AR03_05.pdf \n",
    "rm 02_AR04_01.pdf 02_AR04_02.pdf 02_AR04_03.pdf 02_AR04_04.pdf \n",
    "rm 02_AR04_05.pdf 02_AR05_01.pdf 02_AR05_02.pdf 02_AR05_03.pdf \n",
    "rm 02_AR05_04.pdf 02_AR05_05.pdf 02_AR07_01.pdf"
   ]
  },
  {
   "cell_type": "raw",
   "metadata": {},
   "source": [
    "Hi Tara and Matt,\n",
    "\n",
    "I've downloaded your sets of annotation on Agency. Thanks!\n",
    "\n",
    "I've uploaded all the arousal documents with the goal that we would like to now distinguish primarily Arousal from primarily Sleep-Wakefulness. I'll compare your decisions to an automated clustering designed to distinguish the 2.\n",
    "\n",
    "https://www.dropbox.com/sh/yyb9r24of2tj9j8/AABT7sZ8aIaHEbHf19KHLLnka?dl=0\n",
    "\n",
    "If you can distinguish Sleep-Wakefulness or Arousal as the primary focus of the paper:\n",
    "\n",
    "  Append SLW or ARL to END of the file name.\n",
    "\n",
    "If you cannot distinguish Sleep or Arousal as the primary focus (they seem to be both):\n",
    " \n",
    "  APPEND SLW_ARL to END of the file name.\n",
    "\n",
    "Some may even be primarily about Circadian rhythms. If so:\n",
    "\n",
    "  APPEND CRC to END of the file name.\n",
    "\n",
    "A few irrelevant articles (irrelevant to either topic) may have gotten through:\n",
    "\n",
    "   APPEND IRRELEVANT.\n",
    "\n",
    "Do NOT annotate the text. Some of these I only had in annotated form to give to you. Ignore the abstract annotations for the current task.\n",
    "\n",
    "Try not to deliberate on the decision, go with your first instinct and default to the combination as necessary.\n",
    "\n",
    "RDoC links for these terms are at bottom of the rdoc-matrix page.\n",
    "\n",
    "https://www.nimh.nih.gov/research-priorities/rdoc/constructs/rdoc-matrix.shtml\n",
    "\n",
    "Thanks so much!"
   ]
  },
  {
   "cell_type": "code",
   "execution_count": null,
   "metadata": {
    "collapsed": true
   },
   "outputs": [],
   "source": []
  }
 ],
 "metadata": {
  "kernelspec": {
   "display_name": "Python 2",
   "language": "python",
   "name": "python2"
  },
  "language_info": {
   "codemirror_mode": {
    "name": "ipython",
    "version": 2
   },
   "file_extension": ".py",
   "mimetype": "text/x-python",
   "name": "python",
   "nbconvert_exporter": "python",
   "pygments_lexer": "ipython2",
   "version": "2.7.10"
  }
 },
 "nbformat": 4,
 "nbformat_minor": 0
}
