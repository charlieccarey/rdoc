{
 "cells": [
  {
   "cell_type": "markdown",
   "metadata": {},
   "source": [
    "# TODO: incomplete, basically all copied code source at this point.\n",
    "## Pubmed search on unrelated topic\n",
    "\n",
    "Can build query at pubmed central.\n",
    "\n",
    "http://www.ncbi.nlm.nih.gov/pmc/advanced\n",
    "\n",
    "- 69992 pubmed ids\n",
    "(((infectious disease) AND \"free full text\"[Filter]) AND (\"2011/01/04\"[Publication Date] : \"2016/01/04\"[Publication Date])) AND humans[MeSH Terms]\n",
    "\n",
    "(((infectious disease) AND \"free full text\"[Filter]) AND (\"2011/01/04\"[PDat] : \"2016/01/04\"[PDat])) AND humans[MeSH Terms]\n",
    "\n",
    "\"Infectious disease\"[All Fields] AND (\"loattrfree full text\"[sb] AND \"2011/01/04\"[PDat] : \"2016/01/04\"[PDat] AND \"humans\"[MeSH Terms])"
   ]
  },
  {
   "cell_type": "markdown",
   "metadata": {},
   "source": [
    "## Create plain text markup of annotations.\n",
    "1 - Use medic to generate / manage plain text abstracts.\n",
    "2 - Use spacy to split the medic abstract sentences into 1 line per sentence.\n",
    "3 -  Use shell script to ease process of manually applying tagging markup from extracted highlights to the plain text sentence split.\n",
    "4 - Manually apply tagging markup to abstracts missed for some reason in 3"
   ]
  },
  {
   "cell_type": "markdown",
   "metadata": {},
   "source": [
    "## save abstracts in medic"
   ]
  },
  {
   "cell_type": "code",
   "execution_count": null,
   "metadata": {
    "collapsed": true
   },
   "outputs": [],
   "source": []
  },
  {
   "cell_type": "code",
   "execution_count": 12,
   "metadata": {
    "collapsed": true
   },
   "outputs": [],
   "source": [
    "import io\n",
    "import codecs\n",
    "from spacy.en import English\n",
    "nlp = English(parser=True) # so we can sentence parse"
   ]
  },
  {
   "cell_type": "markdown",
   "metadata": {},
   "source": [
    "### Start postgres if necessary"
   ]
  },
  {
   "cell_type": "code",
   "execution_count": 14,
   "metadata": {
    "collapsed": false
   },
   "outputs": [
    {
     "name": "stdout",
     "output_type": "stream",
     "text": [
      "server starting\r\n"
     ]
    }
   ],
   "source": [
    "# createdb medline\n",
    "!pg_ctl -D /usr/local/var/postgres -l /usr/local/var/postgres/server.log start"
   ]
  },
  {
   "cell_type": "code",
   "execution_count": 3,
   "metadata": {
    "collapsed": false
   },
   "outputs": [
    {
     "name": "stdout",
     "output_type": "stream",
     "text": [
      "/Users/ccarey/Documents/Projects/NAMI/rdoc\n"
     ]
    }
   ],
   "source": [
    "wkdir = '/Users/ccarey/Documents/Projects/NAMI/rdoc'\n",
    "%cd $wkdir"
   ]
  },
  {
   "cell_type": "markdown",
   "metadata": {},
   "source": [
    "## All our pubmed based annotation pdfs"
   ]
  },
  {
   "cell_type": "code",
   "execution_count": 16,
   "metadata": {
    "collapsed": false
   },
   "outputs": [
    {
     "name": "stdout",
     "output_type": "stream",
     "text": [
      "[Errno 2] No such file or directory: './pdfs/all_pdfs_annotated_pmid_names'\n",
      "/Users/ccarey/Documents/Projects/NAMI/rdoc/pdfs/all_pdfs_annotated_pmid_names\n",
      "------74 pubmed ids for medic ----:\n",
      "23088207 25280468 23744445 25348131 23143607 24376698 24933724 25774613 24870123 21957257 24388670 25773639 21849230 24725811 25740534 25734385 25197810 25126038 25834059 20695690 23904684 23503620 25788679 23647728 23709163 24980898 23957953 25913552 25142564 24806675 25258728 24023823 20685988 22379245 23646134 24333377 24293773 24231418 24116095 21319926 24045586 24770625 21699821 24101292 24285346 24804717 25160677 24333745 24359877 24511281 23928891 23954763 22575329 25154749 25036160 25898427 22438994 22379238 20815182 23452958 21531705 24470693 23941878 23083918 23074247 21613467 24740391 25136085 25017671 25261920 23622762 23558179 22447249 25126029\n"
     ]
    }
   ],
   "source": [
    "# pubmed ids from a subset of file names\n",
    "%cd ./pdfs/all_pdfs_annotated_pmid_names\n",
    "pmids = !ls * | sed 's/[0_].*\\([0-9][0-9][0-9][0-9][0-9][0-9][0-9][0-9]\\)_.*.pdf/\\1/' | sed '/NA/d'\n",
    "nas = !ls * | sed 's/[0_].*\\([0-9][0-9][0-9][0-9][0-9][0-9][0-9][0-9]\\)_.*.pdf/\\1/' | sed '/NA/!d'\n",
    "pmids = set(pmids)\n",
    "print('------{} pubmed ids for medic ----:'.format(len(pmids)))\n",
    "pmids = ' '.join(pmids)\n",
    "cmd = 'medic update {}'.format(pmids)\n",
    "print(pmids)"
   ]
  },
  {
   "cell_type": "code",
   "execution_count": 18,
   "metadata": {
    "collapsed": false
   },
   "outputs": [
    {
     "name": "stdout",
     "output_type": "stream",
     "text": [
      "------ medic command ------\n",
      "medic update 23088207 25280468 23744445 25348131 23143607 24376698 24933724 25774613 24870123 21957257 24388670 25773639 21849230 24725811 25740534 25734385 25197810 25126038 25834059 20695690 23904684 23503620 25788679 23647728 23709163 24980898 23957953 25913552 25142564 24806675 25258728 24023823 20685988 22379245 23646134 24333377 24293773 24231418 24116095 21319926 24045586 24770625 21699821 24101292 24285346 24804717 25160677 24333745 24359877 24511281 23928891 23954763 22575329 25154749 25036160 25898427 22438994 22379238 20815182 23452958 21531705 24470693 23941878 23083918 23074247 21613467 24740391 25136085 25017671 25261920 23622762 23558179 22447249 25126029\n",
      "------ medic warnings etc ------\n"
     ]
    }
   ],
   "source": [
    "print('------ medic command ------')\n",
    "print(cmd)\n",
    "print('------ medic warnings etc ------') # seems fine ignoring sqlalchemy warning.\n",
    "\n",
    "#! $cmd"
   ]
  },
  {
   "cell_type": "code",
   "execution_count": 19,
   "metadata": {
    "collapsed": false
   },
   "outputs": [],
   "source": [
    "abstracts_m = !medic --error write --format tsv ALL 2> /dev/null | cut -f1,3"
   ]
  },
  {
   "cell_type": "code",
   "execution_count": 20,
   "metadata": {
    "collapsed": false
   },
   "outputs": [],
   "source": [
    "abstracts = []\n",
    "type(abstracts)\n",
    "with io.BytesIO(abstracts_m.n) as a:\n",
    "    for line in a.readlines():\n",
    "        pmid, abst = line.split('\\t')\n",
    "        abstracts.append({pmid: abst})"
   ]
  },
  {
   "cell_type": "code",
   "execution_count": 27,
   "metadata": {
    "collapsed": false
   },
   "outputs": [],
   "source": [
    "def spacy_split_sentences(text):\n",
    "    sentences = []\n",
    "    #doc = nlp(text.decode('utf8')) #\"This is a sentence. Here's another...\".decode('utf8'))\n",
    "    doc = nlp(text) #\"This is a sentence. Here's another...\".decode('utf8'))\n",
    "    for span in doc.sents:\n",
    "        #sentences.append(u''.join(doc[i].string for i in range(span.start, span.end)).encode('utf-8').strip())\n",
    "        sentences.append(''.join(doc[i].string for i in range(span.start, span.end)))#.strip())\n",
    "    sentences = '\\n'.join(sentences)\n",
    "    sentences = sentences + '\\n'\n",
    "    return(sentences)"
   ]
  },
  {
   "cell_type": "markdown",
   "metadata": {},
   "source": [
    "## save sentence split abstract for each file as .org file for easy editing in emacs.\n",
    "\n",
    "- .txt files are files with annotations resulting from the pdf parsing of highlighted text\n",
    "- .org files we create here.\n",
    "\n",
    "For all abstracts:\n",
    "- open a .org file of that abstract.\n",
    "- open the annotations .txt file for that abstract.\n",
    "- Edit the .org to apply tags indicating the annotations.\n",
    "- Save the edited .org as a .txt file in an output directory.\n",
    "- Remove the local .org file\n",
    "\n",
    "Then, for each remaining .org file:\n",
    "- cross-check any remaining .org files to see if there were .txt annotations that were missed.\n",
    "  ( due to pattern matching errors, or maybe it was IRRELEVANT, MISCLASSIFIED etc. )\n",
    "- if annotations were found, edit the corresponding .org and save .txt file to same output directory as above."
   ]
  },
  {
   "cell_type": "code",
   "execution_count": null,
   "metadata": {
    "collapsed": false
   },
   "outputs": [],
   "source": [
    "%cd '/Users/ccarey/Documents/Projects/NAMI/rdoc/results'\n",
    "%ls\n",
    "# cleanup if we are testing\n",
    "# ! rm *.org"
   ]
  },
  {
   "cell_type": "code",
   "execution_count": 28,
   "metadata": {
    "collapsed": false
   },
   "outputs": [],
   "source": [
    "for a in abstracts:\n",
    "    fout = a.keys()[0] + '.org'\n",
    "    with codecs.open(fout, 'w', 'utf-8') as f:\n",
    "        body = a.values()[0].decode('utf-8')\n",
    "        body_text = spacy_split_sentences(body)\n",
    "        f.write(body_text)"
   ]
  },
  {
   "cell_type": "markdown",
   "metadata": {},
   "source": [
    "## apply edits one pair of files at a time\n",
    "\n",
    "BASH: Open the files in pairs for easy editing.\n",
    "\n",
    "Note, not every [annotator].org file will have a matching .txt annotation.\n",
    "+ 1) We are just working through files in the ./results/[annotator]/ folders\n",
    "+ 2) Not every .org file had an equivalent annotation by the person.\n",
    "+ 3) some files needed completely manual annotations. and were not in the ./results[annotator]/ folders\n"
   ]
  },
  {
   "cell_type": "markdown",
   "metadata": {},
   "source": [
    "### edit abstracts per annotations\n",
    "Create temporary files in current directory\n",
    "\n",
    "for each file:\n",
    "- edit abstracts in emacs\n",
    "- copy results into subject/who/*.txt"
   ]
  },
  {
   "cell_type": "markdown",
   "metadata": {},
   "source": [
    "Problem files:\n",
    "Conclusions not included in abstract in \n",
    "  + 23744445\n",
    "\n",
    "Different versions? (fully spelled out abbrevs from pubmed).\n",
    "  + 24285346\n",
    "  \n",
    "A PMID Mislabeled as 23941878 corrected everywhere to 25258728\n",
    "\n",
    "Then we have 25258728 twice, once for AR03 and once for AR04. It is unclear if it should have been in AR04, so delete those, keep only AR03_25258728."
   ]
  },
  {
   "cell_type": "code",
   "execution_count": 29,
   "metadata": {
    "collapsed": true
   },
   "outputs": [],
   "source": [
    "! for f in *[0-9].org; do cp $f ${f/./_jl.}; done"
   ]
  },
  {
   "cell_type": "raw",
   "metadata": {},
   "source": [
    "# this directly in bash so we can step through file one at a time.\n",
    "\n",
    "odir=annotations_processed\n",
    "mkdir \"$odir\"\n",
    "\n",
    "--- janet ----\n",
    "# find matching .org to edit for each of subjects files.\n",
    "# for janet, this handled 42 .org files.\n",
    "for f in ./jl/*_jl_*.txt; do\n",
    "  initials='jl'\n",
    "  echo \"Apply edits to $f\";\n",
    "  bn=$(basename $f)\n",
    "  cp \"$f\" \"$bn\"\n",
    "  # echo \"$bn\"\n",
    "  pmid=$(echo \"$bn\" | sed 's/.*\\([0-9][0-9][0-9][0-9][0-9][0-9][0-9][0-9]\\).*/\\1/')\n",
    "  open -a emacs \"$bn\"\n",
    "  open \"${pmid}_${initials}.org\"\n",
    "  # edit and save\n",
    "  topic=$(echo \"$bn\" | sed 's/.*\\([A-Z][A-Z][0-9][0-9]\\).*/\\1/')\n",
    "  mkdir -p \"${odir}/${topic}/${initials}\"\n",
    "  fout=\"${odir}/${topic}/${initials}/${pmid}.txt\";\n",
    "  read -p \"Press any key...done #echo \";\n",
    "  echo \"Saving edits to $fout\"\n",
    "  mv \"${pmid}_${initials}.org\" \"$fout\"\n",
    "  rm \"$bn\"\n",
    "  rm \"${pmid}_${initials}.org\"\n",
    "  echo\n",
    "done"
   ]
  },
  {
   "cell_type": "markdown",
   "metadata": {},
   "source": [
    "JL: Check how many stranded .org we have"
   ]
  },
  {
   "cell_type": "code",
   "execution_count": 76,
   "metadata": {
    "collapsed": false
   },
   "outputs": [
    {
     "name": "stdout",
     "output_type": "stream",
     "text": [
      "1\n",
      "['ls: *_jl.org: No such file or directory']\n"
     ]
    }
   ],
   "source": [
    "stranded = !ls *_jl.org | sed 's/.*\\([0-9]\\{8\\}\\).*/\\1/'\n",
    "print(len(stranded))\n",
    "print(stranded)"
   ]
  },
  {
   "cell_type": "markdown",
   "metadata": {},
   "source": [
    "JL: check how many processed annotations we had"
   ]
  },
  {
   "cell_type": "code",
   "execution_count": 56,
   "metadata": {
    "collapsed": false
   },
   "outputs": [
    {
     "data": {
      "text/plain": [
       "41"
      ]
     },
     "execution_count": 56,
     "metadata": {},
     "output_type": "execute_result"
    }
   ],
   "source": [
    "processed=!ls ./annotations_processed/*/jl/*.txt | sed 's/.*\\([0-9]\\{8\\}\\).*/\\1/'\n",
    "len(processed)"
   ]
  },
  {
   "cell_type": "markdown",
   "metadata": {},
   "source": [
    "JL: Check how many total possible annotations we could have had."
   ]
  },
  {
   "cell_type": "code",
   "execution_count": 57,
   "metadata": {
    "collapsed": false
   },
   "outputs": [
    {
     "data": {
      "text/plain": [
       "50"
      ]
     },
     "execution_count": 57,
     "metadata": {},
     "output_type": "execute_result"
    }
   ],
   "source": [
    "possible=!ls ../pdfs/all_pdfs_annotated_pmid_names/*jl* | sed 's/.*\\([0-9]\\{8\\}\\).*/\\1/'\n",
    "len(possible)"
   ]
  },
  {
   "cell_type": "markdown",
   "metadata": {},
   "source": [
    "Manually process the positives amongst the 8 that correspond to stranded .org.\n",
    "\n",
    "41 + 8 = 49.\n",
    "\n",
    "The remaining 1 to get to full 50 possible was not a pubmed document.\n",
    "\n",
    "So we manually processed the straightforward annotations:\n",
    "\n",
    "'_02_AP07_02_24804717_jl_ANNOTATED.pdf',  '_02_LS05_02_20685988_jl_ANNOTATED.pdf',\n",
    "'_02_AR00_03_25788679_jl_ANNOTATED.pdf', '_03_AR03_24806675_jl_ANNOTATED.pdf'\n",
    "\n",
    "and manually the irrelevant as we did for other normal irrelevants...\n",
    "\n",
    "'_02_LS00_03_25913552_jl_IRRELEVANT.pdf',\n",
    "\n",
    "## TODO: Still need to process the IRRELEVANT and MISCLASSIFIEDS\n",
    "'_02_AR00_02_25834059_jl_ANNOTATED_MISCLASSIFIED_CS.pdf',  '_02_AR03_01_25261920_jl_ANNOTATED_MISCLASSIFIED_SSP.pdf', '_02_AR03_03_25160677_jl_ANNOTATED_MISCLASSIFIED_SSPorCS.pdf', "
   ]
  },
  {
   "cell_type": "code",
   "execution_count": 72,
   "metadata": {
    "collapsed": false
   },
   "outputs": [
    {
     "name": "stdout",
     "output_type": "stream",
     "text": [
      "set(['24804717', '25834059', '25788679', '20685988', '25160677', '25913552', '24806675', '25261920'])\n",
      "\n",
      "['_02_AP07_02_24804717_jl_ANNOTATED.pdf', '_02_AR00_02_25834059_jl_ANNOTATED_MISCLASSIFIED_CS.pdf', '_02_AR00_03_25788679_jl_ANNOTATED.pdf', '_02_AR03_01_25261920_jl_ANNOTATED_MISCLASSIFIED_SSP.pdf', '_02_AR03_03_25160677_jl_ANNOTATED_MISCLASSIFIED_SSPorCS.pdf', '_02_LS00_03_25913552_jl_IRRELEVANT.pdf', '_02_LS05_02_20685988_jl_ANNOTATED.pdf', '_03_AR03_24806675_jl_ANNOTATED.pdf']\n",
      "\n",
      "set(['../pdfs/all_pdfs_annotated_pmid_names/02_AG00_01_NA1_jl_IRRELEVANT.pdf'])\n"
     ]
    }
   ],
   "source": [
    "import os\n",
    "# manually annotate these\n",
    "\n",
    "print(set(possible).intersection(set(stranded)))\n",
    "print\n",
    "todo=!ls /Users/ccarey/Documents/Projects/NAMI/rdoc/pdfs/all_pdfs_annotated_pmid_names/_*jl_*\n",
    "print([os.path.basename(x) for x in todo])\n",
    "\n",
    "# a non-pubmed document\n",
    "print\n",
    "print(set(possible).difference(set(processed).union(set(stranded))))"
   ]
  },
  {
   "cell_type": "code",
   "execution_count": 73,
   "metadata": {
    "collapsed": false
   },
   "outputs": [
    {
     "name": "stdout",
     "output_type": "stream",
     "text": [
      "rm: *_jl.org: No such file or directory\r\n"
     ]
    }
   ],
   "source": [
    "# finally cleanup the remaining irrelevant _jl.org \n",
    "!rm *_jl.org "
   ]
  },
  {
   "cell_type": "code",
   "execution_count": null,
   "metadata": {
    "collapsed": true
   },
   "outputs": [],
   "source": [
    "! for f in *[0-9].org; do cp $f ${f/./_tc.}; done"
   ]
  },
  {
   "cell_type": "markdown",
   "metadata": {},
   "source": [
    "## Note, most of Tara's IRRELEVANTs are blanks"
   ]
  },
  {
   "cell_type": "raw",
   "metadata": {},
   "source": [
    "--- tara ---\n",
    "\n",
    "for f in ./tc/*_tc_*.txt; do\n",
    "  initials='tc'\n",
    "  echo \"Apply edits to $f\";\n",
    "  bn=$(basename $f)\n",
    "  cp \"$f\" \"$bn\"\n",
    "  # echo \"$bn\"\n",
    "  pmid=$(echo \"$bn\" | sed 's/.*\\([0-9][0-9][0-9][0-9][0-9][0-9][0-9][0-9]\\).*/\\1/')\n",
    "  open -a emacs \"$bn\"\n",
    "  open \"${pmid}_${initials}.org\"\n",
    "  # edit and save\n",
    "  topic=$(echo \"$bn\" | sed 's/.*\\([A-Z][A-Z][0-9][0-9]\\).*/\\1/')\n",
    "  mkdir -p \"${odir}/${topic}/${initials}\"\n",
    "  fout=\"${odir}/${topic}/${initials}/${pmid}.txt\";\n",
    "  read -p \"Press any key...done #echo \";\n",
    "  echo \"Saving edits to $fout\"\n",
    "  mv \"${pmid}_${initials}.org\" \"$fout\"\n",
    "  rm \"$bn\"\n",
    "  rm \"${pmid}_${initials}.org\"\n",
    "  echo\n",
    "done"
   ]
  },
  {
   "cell_type": "markdown",
   "metadata": {},
   "source": [
    "Summary Tara\n",
    "\n",
    "- TC: 28 stranded\n",
    "- TC: 45 processed\n",
    "- TC: 51 possible\n",
    "\n",
    "Manually procesing 6\n",
    "\n",
    "- _02_AR00_02_25834059_tc_ANNOTATED.pdf \n",
    "- _02_AR03_03_25160677_tc_ANNOTATED.pdf\n",
    "- _02_AR00_03_25788679_tc_ANNOTATED.pdf\n",
    "- _02_LS05_02_20685988_tc_ANNOTATED.pdf\n",
    "- _02_AR03_01_25261920_tc_ANNOTATED.pdf\n",
    "- _03_AR03_24806675_tc_ANNOTATED.pdf\n",
    "\n",
    "Leaves 22 stranded\n",
    "\n",
    "Note: no 'misclassifieds' or other odd ones like in JL set."
   ]
  },
  {
   "cell_type": "code",
   "execution_count": 78,
   "metadata": {
    "collapsed": true
   },
   "outputs": [],
   "source": [
    "! for f in *[0-9].org; do cp $f ${f/./_mk.}; done"
   ]
  },
  {
   "cell_type": "raw",
   "metadata": {},
   "source": [
    "--- matt ---\n",
    "\n",
    "for f in ./mk/*_mk_*.txt; do\n",
    "  initials='mk'\n",
    "  echo \"Apply edits to $f\";\n",
    "  bn=$(basename $f)\n",
    "  cp \"$f\" \"$bn\"\n",
    "  # echo \"$bn\"\n",
    "  pmid=$(echo \"$bn\" | sed 's/.*\\([0-9][0-9][0-9][0-9][0-9][0-9][0-9][0-9]\\).*/\\1/')\n",
    "  open -a emacs \"$bn\"\n",
    "  open \"${pmid}_${initials}.org\"\n",
    "  # edit and save\n",
    "  topic=$(echo \"$bn\" | sed 's/.*\\([A-Z][A-Z][0-9][0-9]\\).*/\\1/')\n",
    "  mkdir -p \"${odir}/${topic}/${initials}\"\n",
    "  fout=\"${odir}/${topic}/${initials}/${pmid}.txt\";\n",
    "  read -p \"Press any key...done #echo \";\n",
    "  echo \"Saving edits to $fout\"\n",
    "  mv \"${pmid}_${initials}.org\" \"$fout\"\n",
    "  rm \"$bn\"\n",
    "  rm \"${pmid}_${initials}.org\"\n",
    "  echo\n",
    "done"
   ]
  },
  {
   "cell_type": "markdown",
   "metadata": {},
   "source": [
    "Summary Matt\n",
    "\n",
    "- MK: 23 stranded\n",
    "- MK: 50 processed\n",
    "- MK: 60 possible\n",
    "\n",
    "Manually procesing 8\n",
    "\n",
    "- _02_AP07_02_24804717_mk_ANNOTATED.pdf\n",
    "- _02_AR00_02_25834059_mk_ANNOTATED.pdf\n",
    "- _02_AR00_03_25788679_mk_ANNOTATED.pdf\n",
    "- _02_AR03_01_25261920_mk_ANNOTATED.pdf\n",
    "- _02_AR03_03_25160677_mk_ANNOTATED.pdf\n",
    "- _02_LS00_03_25913552_mk_ANNOTATED_IRRELEVANT.pdf\n",
    "- _02_LS05_02_20685988_mk_ANNOTATED.pdf\n",
    "- _03_AR03_24806675_mk_ANNOTATED.pdf\n",
    "\n",
    "Leaves 15 stranded\n",
    "\n",
    "Note: no 'misclassifieds' or other odd ones like in JL set."
   ]
  },
  {
   "cell_type": "code",
   "execution_count": null,
   "metadata": {
    "collapsed": true
   },
   "outputs": [],
   "source": [
    "! for f in *[0-9].org; do cp $f ${f/./_cc.}; done"
   ]
  },
  {
   "cell_type": "raw",
   "metadata": {
    "collapsed": true
   },
   "source": [
    "---- Chuck ---\n",
    "\n",
    "for f in ./cc/*_cc_*.txt; do\n",
    "  initials='cc'\n",
    "  echo \"Apply edits to $f\";\n",
    "  bn=$(basename $f)\n",
    "  cp \"$f\" \"$bn\"\n",
    "  # echo \"$bn\"\n",
    "  pmid=$(echo \"$bn\" | sed 's/.*\\([0-9][0-9][0-9][0-9][0-9][0-9][0-9][0-9]\\).*/\\1/')\n",
    "  open -a emacs \"$bn\"\n",
    "  open \"${pmid}_${initials}.org\"\n",
    "  # edit and save\n",
    "  topic=$(echo \"$bn\" | sed 's/.*\\([A-Z][A-Z][0-9][0-9]\\).*/\\1/')\n",
    "  mkdir -p \"${odir}/${topic}/${initials}\"\n",
    "  fout=\"${odir}/${topic}/${initials}/${pmid}.txt\";\n",
    "  read -p \"Press any key...done #echo \";\n",
    "  echo \"Saving edits to $fout\"\n",
    "  mv \"${pmid}_${initials}.org\" \"$fout\"\n",
    "  rm \"$bn\"\n",
    "  rm \"${pmid}_${initials}.org\"\n",
    "  echo\n",
    "done"
   ]
  }
 ],
 "metadata": {
  "kernelspec": {
   "display_name": "Python 2",
   "language": "python",
   "name": "python2"
  },
  "language_info": {
   "codemirror_mode": {
    "name": "ipython",
    "version": 2
   },
   "file_extension": ".py",
   "mimetype": "text/x-python",
   "name": "python",
   "nbconvert_exporter": "python",
   "pygments_lexer": "ipython2",
   "version": "2.7.10"
  }
 },
 "nbformat": 4,
 "nbformat_minor": 0
}
