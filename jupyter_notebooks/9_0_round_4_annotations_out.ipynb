{
 "cells": [
  {
   "cell_type": "markdown",
   "metadata": {},
   "source": [
    "# Select and distribute additional Arousal articles for phrase annotation"
   ]
  },
  {
   "cell_type": "markdown",
   "metadata": {},
   "source": [
    "## Goal is deeper annotation.\n",
    "- Doubling or more our previous annotation for arousal.\n",
    "- Phrase based annotation so we can be most flexible and assess at higher levels.\n",
    "\n",
    "## Secondary goal, more cross-validation.\n",
    "- 1/2 of new articles will be annotated by all.\n",
    "- 1/2 of new articles will be annotated by only 1 annotator."
   ]
  },
  {
   "cell_type": "code",
   "execution_count": null,
   "metadata": {
    "collapsed": false
   },
   "outputs": [],
   "source": [
    "dest_dir = '/Users/ccarey/Documents/Projects/NAMI/rdoc/pdfs/20160122_rdoc_project'\n",
    "%mkdir {dest_dir}\n",
    "%cd {dest_dir}"
   ]
  },
  {
   "cell_type": "markdown",
   "metadata": {},
   "source": [
    "### Get a list of all our previous used pubmed ids."
   ]
  },
  {
   "cell_type": "code",
   "execution_count": null,
   "metadata": {
    "collapsed": false
   },
   "outputs": [],
   "source": [
    "from __future__ import print_function\n",
    "import glob\n",
    "import os\n",
    "import re\n",
    "prev_annotated_pdfs_dir = '/Users/ccarey/Documents/Projects/NAMI/rdoc/pdfs/all_pdfs_annotated_pmid_names/*.pdf'\n",
    "pdfs = glob.glob(prev_annotated_pdfs_dir)"
   ]
  },
  {
   "cell_type": "code",
   "execution_count": null,
   "metadata": {
    "collapsed": true
   },
   "outputs": [],
   "source": [
    "pdfs = [os.path.basename(pdf) for pdf in pdfs]"
   ]
  },
  {
   "cell_type": "markdown",
   "metadata": {},
   "source": [
    "#### Crosscheck article counts in previous annotations.\n",
    "Should find this many minus the 3 marked as 'NA' i.e. 3 documents did not have a pubmed id.\n",
    "(171 - 3) = 168"
   ]
  },
  {
   "cell_type": "code",
   "execution_count": null,
   "metadata": {
    "collapsed": false
   },
   "outputs": [],
   "source": [
    "%ls $prev_annotated_pdfs_dir | wc -l"
   ]
  },
  {
   "cell_type": "code",
   "execution_count": null,
   "metadata": {
    "collapsed": false
   },
   "outputs": [],
   "source": [
    "pattern = '([0-9]{8,8})'\n",
    "p = re.compile(pattern)\n",
    "tot = len([p.search(pdf).group() for pdf in pdfs if p.search(pdf)])\n",
    "pmids = set([p.search(pdf).group() for pdf in pdfs if p.search(pdf)])\n",
    "pmids = list(pmids)\n",
    "pmids.sort()\n",
    "uniq = len(pmids)\n",
    "# print('So... {} pubmed_ids were found from total of {} previously annotated '\n",
    "#       'or marked irrelevant / misclassified'.format(uniq, tot))\n",
    "# print(pmids)"
   ]
  },
  {
   "cell_type": "markdown",
   "metadata": {},
   "source": [
    "So... 73 pubmed_ids were found from total of 168 previously annotated or marked irrelevant / misclassified\n",
    "\n",
    "['20685988', '20695690', '20815182', '21319926', '21531705', '21613467', '21699821', '21849230', '21957257', '22379238', '22379245', '22438994', '22447249', '22575329', '23074247', '23083918', '23088207', '23143607', '23452958', '23503620', '23558179', '23622762', '23646134', '23647728', '23709163', '23744445', '23904684', '23928891', '23954763', '23957953', '24023823', '24045586', '24101292', '24116095', '24231418', '24285346', '24293773', '24333377', '24333745', '24359877', '24376698', '24388670', '24470693', '24511281', '24725811', '24740391', '24770625', '24804717', '24806675', '24870123', '24933724', '24980898', '25017671', '25036160', '25126029', '25126038', '25136085', '25142564', '25154749', '25160677', '25197810', '25258728', '25261920', '25280468', '25348131', '25734385', '25740534', '25773639', '25774613', '25788679', '25834059', '25898427', '25913552']"
   ]
  },
  {
   "cell_type": "markdown",
   "metadata": {},
   "source": [
    "#### Crosscheck articles counts in existing medic database.\n",
    "May be necessary to restart postgres server."
   ]
  },
  {
   "cell_type": "code",
   "execution_count": null,
   "metadata": {
    "collapsed": false
   },
   "outputs": [],
   "source": [
    "# !pg_ctl -D /usr/local/var/postgres -l /usr/local/var/postgres/server.log start\n",
    "medic_pmids = !medic --format tsv write ALL 2>/dev/null | cut  -f 1 | uniq | sort\n",
    "print(set(pmids).difference(set(in_medic)))\n",
    "print(set(medic_pmids).difference(set(pmids)))"
   ]
  },
  {
   "cell_type": "markdown",
   "metadata": {},
   "source": [
    "From previous notes in 'fetch_pdfs_batch3_2015.10.12.py':\n",
    "  - \\#\\# caught output as this, but seems incorrect as it had AR04 '23941878' instead of '25258728'\n",
    "\n",
    "Article 23941878 is an arousal document that did not go out in previous rounds due to a mislabeling issue. (25258728 did go out and we corrected the naming)"
   ]
  },
  {
   "cell_type": "code",
   "execution_count": null,
   "metadata": {
    "collapsed": false
   },
   "outputs": [],
   "source": [
    "prev_pmids = pmids\n",
    "new_pmids = ['23941878']"
   ]
  },
  {
   "cell_type": "code",
   "execution_count": null,
   "metadata": {
    "collapsed": true
   },
   "outputs": [],
   "source": [
    "#from __future__ import print_function\n",
    "from Bio import Entrez\n",
    "from subprocess import check_call\n",
    "from shutil import copy2\n",
    "#import glob\n",
    "import time\n",
    "import imp\n",
    "import os\n",
    "url2p = imp.load_source('Url2PubmedPmcPdf', '/Users/ccarey/Documents/Projects/NAMI/rdoc/scripts/Url2PubmedPmcPdf.py')\n",
    "Entrez.email = \"charlieccarey@gmail.com\"\n",
    "\n",
    "def narrow_id_list(found_ids, omit_ids):\n",
    "    found_but_omit = list(set(found_ids) & set(omit_ids))\n",
    "    found_and_keep = list(set(found_ids) - set(omit_ids))\n",
    "    print('Removed this many ids: {}'.format(len(found_but_omit)))\n",
    "    return(found_and_keep)\n",
    "\n",
    "def pubmed_central_search_to_pubmed_id(search_string, retmax=20):\n",
    "    # verify how many records match\n",
    "    handle = Entrez.egquery(term=search_string)\n",
    "    record = Entrez.read(handle)\n",
    "    # maybe useful if we are dealing with 100s of ids and don't want to overwhelm server?\n",
    "    for row in record[\"eGQueryResult\"]:\n",
    "        if row[\"DbName\"] == \"pubmed\":\n",
    "            print(row[\"Count\"])\n",
    "    # fetch the ids for those records\n",
    "    handle = Entrez.esearch(db=\"pubmed\", retmax=retmax, term=search_string)\n",
    "    record = Entrez.read(handle)\n",
    "    pubmed_ids = record[\"IdList\"]\n",
    "    return(pubmed_ids)\n",
    "\n",
    "def fetch_pdfs(pubmed_ids, stub_name):\n",
    "    u = url2p.Url2PubmedPmcPdf(pubmed_ids)\n",
    "    urls = u.get_urls()\n",
    "    found = []\n",
    "    for url in urls:\n",
    "        if url['url'] is not None:\n",
    "            cmd = 'curl -L {} -o {}.pdf'.format(url['url'], stub_name + url['pubmed'])\n",
    "            # print(cmd)\n",
    "            check_call(cmd, shell = True)\n",
    "            time.sleep(10)\n",
    "            found.append(url['pubmed'])\n",
    "    return(found)\n",
    "\n",
    "# def copy_pdf_append_initials(initials):\n",
    "#     pdfs = glob.glob('*.pdf')\n",
    "#     for i in initials:\n",
    "#         os.mkdir(i)\n",
    "#         for p in pdfs:\n",
    "#             pi = p.replace('.pdf', '_' + i + '.pdf')\n",
    "#             copy2(p, os.path.join(i, pi))\n",
    "\n",
    "def search_and_summarize(search_name, query, omit_ids):\n",
    "    ids = pubmed_central_search_to_pubmed_id(query, retmax=1000000)\n",
    "    new_ids = narrow_id_list(ids, omit_ids)\n",
    "    print('{} search of pubmed found {} ids of which {} are new'.format(search_name, len(ids), len(new_ids)))\n",
    "    return(new_ids)"
   ]
  },
  {
   "cell_type": "markdown",
   "metadata": {},
   "source": [
    "## Might be limiting our results too much by using pubmed. Pubmed central seems to have more free full text results.\n",
    "\n",
    "For example, modifying the searches slightly for pubmed central vs. pubmed.\n",
    "\n",
    "AR00_pmc = (\"arousal\"[MeSH Terms] OR \"arousal\"[All Fields]) AND (\"free full text\"[sb] AND \"2010/06/24\"[PubDate] : \"2015/06/22\"[PubDate] AND \"humans\"[MeSH Terms])\n",
    "\n",
    "AR00_pubmed ='(\"arousal\"[MeSH Terms] OR \"arousal\"[All Fields]) AND (\"loattrfree full text\"[sb] AND \"2010/06/24\"[PDat] : \"2015/06/22\"[PDat] AND \"humans\"[MeSH Terms])'\n",
    "\n",
    "pmc :\n",
    "- 13656 \n",
    "- some are sponsored in readable format but have to click through to publisher to get pdf.\n",
    "\n",
    "pubmed : \n",
    "- 6503 \n",
    "- all pdf."
   ]
  },
  {
   "cell_type": "markdown",
   "metadata": {},
   "source": [
    "### Desire to send out more articles. 30 in common to all, 30 unique to all\n",
    " - 30 common to all + 30 unique per annotator * 4 annotators\n",
    " - 150 articles total desired."
   ]
  },
  {
   "cell_type": "code",
   "execution_count": null,
   "metadata": {
    "collapsed": false
   },
   "outputs": [],
   "source": [
    "AR00 = '(\"arousal\"[MeSH Terms] OR \"arousal\"[All Fields]) AND (\"loattrfree full text\"[sb] AND \"2010/06/24\"[PDat] : \"2015/06/22\"[PDat] AND \"humans\"[MeSH Terms])'\n",
    "AR01 = '\"arousal\"[All Fields] AND ((\"arousal\"[MeSH Terms] OR \"arousal\"[All Fields]) AND (\"self report\"[MeSH Terms] OR (\"self\"[All Fields] AND \"report\"[All Fields]) OR \"self report\"[All Fields]) AND (\"weights and measures\"[MeSH Terms] OR (\"weights\"[All Fields] AND \"measures\"[All Fields]) OR \"weights and measures\"[All Fields] OR \"scales\"[All Fields])) AND (\"loattrfree full text\"[sb] AND \"2010/06/24\"[PDat] : \"2016/01/22\"[PDat] AND \"humans\"[MeSH Terms])'\n",
    "AR02 = '\"arousal\"[All Fields] AND ((\"self-assessment\"[MeSH Terms] OR \"self-assessment\"[All Fields] OR (\"self\"[All Fields] AND \"assessment\"[All Fields]) OR \"self assessment\"[All Fields]) AND (\"manikins\"[MeSH Terms] OR \"manikins\"[All Fields] OR \"mannequin\"[All Fields])) AND (\"loattrfree full text\"[sb] AND \"2010/06/24\"[PDat] : \"2016/01/22\"[PDat] AND \"humans\"[MeSH Terms])'\n",
    "AR03 = '\"arousal\"[All Fields] AND \"EEG\"[All Fields] AND (\"loattrfree full text\"[sb] AND \"2010/06/24\"[PDat] : \"2016/01/22\"[PDat] AND \"humans\"[MeSH Terms])'\n",
    "AR04 = '\"arousal\"[All Fields] AND \"psychomotor vigilance\"[All Fields] AND (\"loattrfree full text\"[sb] AND \"2010/06/24\"[PDat] : \"2016/01/22\"[PDat] AND \"humans\"[MeSH Terms])'\n",
    "AR05 = '\"arousal\"[All Fields] AND \"startle\"[All Fields] AND (\"loattrfree full text\"[sb] AND \"2010/06/24\"[PDat] : \"2016/01/22\"[PDat] AND \"humans\"[MeSH Terms])'\n",
    "AR05_plus = '\"arousal\"[All Fields] AND \"startle\"[All Fields] AND (\"loattrfree full text\"[sb] AND \"2010/06/24\"[PDat] : \"2016/01/22\"[PDat] AND (\"humans\"[MeSH Terms] OR \"humans\"[All Fields] OR \"human\"[All Fields]))'\n",
    "\n",
    "# AR00: there would be a lot. Use if not enough of others.\n",
    "# AR01: some used already. USE.\n",
    "# AR02: 0 found in original search, don't use.\n",
    "# AR03: some used already. USE.\n",
    "# AR04: some used already. USE.\n",
    "# AR05: some used already. USE.\n",
    "\n",
    "# already sent out for review under batches 2 or 3 (labels 02_ or 03_): prev_pmids\n",
    "\n",
    "AR00_ids = search_and_summarize(search_name='AR00', query=AR00, omit_ids=prev_pmids)\n",
    "print()\n",
    "AR01_ids = search_and_summarize(search_name='AR01', query=AR01, omit_ids=prev_pmids)\n",
    "print()\n",
    "AR02_ids = search_and_summarize(search_name='AR02', query=AR02, omit_ids=prev_pmids)\n",
    "print()\n",
    "AR03_ids = search_and_summarize(search_name='AR03', query=AR03, omit_ids=prev_pmids)\n",
    "print()\n",
    "AR04_ids = search_and_summarize(search_name='AR04', query=AR04, omit_ids=prev_pmids)\n",
    "print()\n",
    "AR05_ids = search_and_summarize(search_name='AR05', query=AR05, omit_ids=prev_pmids)\n",
    "print()"
   ]
  },
  {
   "cell_type": "code",
   "execution_count": null,
   "metadata": {
    "collapsed": false
   },
   "outputs": [],
   "source": [
    "import collections\n",
    "\n",
    "# total found across all searches\n",
    "ids = [AR01_ids, AR02_ids, AR03_ids, AR04_ids, AR05_ids]\n",
    "ids = [j for i in ids for j in i]\n",
    "print('total new pmids found across all searches : {}'.format(len(ids)))\n",
    "\n",
    "ids = [AR01_ids, AR02_ids, AR03_ids, AR04_ids, AR05_ids]\n",
    "ids = [j for i in ids for j in i]\n",
    "dups = [item for item, count in collections.Counter(ids).items() if count > 1]\n",
    "print('duplicate pmids found across all searches : {}'.format(dups))\n",
    "\n",
    "ids = [AR01_ids, AR02_ids, AR03_ids, AR04_ids, AR05_ids]\n",
    "ids = [set(id_list) for id_list in ids]\n",
    "ids = set.union(*ids)\n",
    "print('unique new pmids found across all searches : {}'.format(len(ids)))"
   ]
  },
  {
   "cell_type": "markdown",
   "metadata": {},
   "source": [
    "### Found nearly 150 new articles, add a few more from general search.\n",
    "\n",
    "- total new pmids found across all searches : 144\n",
    "- duplicate pmids found across all searches : ['20408942']\n",
    "- unique new pmids found across all searches : 143\n",
    "\n",
    "### Find 7 additional ids to get total 150 new ids."
   ]
  },
  {
   "cell_type": "code",
   "execution_count": 340,
   "metadata": {
    "collapsed": false
   },
   "outputs": [
    {
     "name": "stdout",
     "output_type": "stream",
     "text": [
      "Removed this many ids: 143\n"
     ]
    }
   ],
   "source": [
    "AR00_specific_ids = narrow_id_list(AR00_ids, omit_ids=ids)"
   ]
  },
  {
   "cell_type": "markdown",
   "metadata": {},
   "source": [
    "### Fetch the pdfs for each search term."
   ]
  },
  {
   "cell_type": "markdown",
   "metadata": {},
   "source": [
    "Note, we should be here: '/Users/ccarey/Documents/Projects/NAMI/rdoc/pdfs/20160122_rdoc_project'"
   ]
  },
  {
   "cell_type": "code",
   "execution_count": null,
   "metadata": {
    "collapsed": false
   },
   "outputs": [],
   "source": [
    "%pwd"
   ]
  },
  {
   "cell_type": "code",
   "execution_count": null,
   "metadata": {
    "collapsed": false
   },
   "outputs": [],
   "source": [
    "# 4th batch, Arousal, subterm...\n",
    "# Note: There were no ids for AR02.\n",
    "\n",
    "batch = '04'\n",
    "\n",
    "fetch_pdfs(AR01_ids, batch + '_AR01_')\n",
    "fetch_pdfs(AR03_ids, batch + '_AR03_')\n",
    "fetch_pdfs(AR04_ids, batch + '_AR04_')\n",
    "fetch_pdfs(AR05_ids, batch + '_AR05_')"
   ]
  },
  {
   "cell_type": "code",
   "execution_count": null,
   "metadata": {
    "collapsed": true
   },
   "outputs": [],
   "source": [
    "# Extend to a few more generic results to round out\n",
    "# to ~150 and account for some that will be missing.\n",
    "fetch_pdfs(AR00_specific_ids[0:40], batch + '_AR00_')"
   ]
  },
  {
   "cell_type": "code",
   "execution_count": null,
   "metadata": {
    "collapsed": false
   },
   "outputs": [],
   "source": [
    "all_found = glob.glob( './*.pdf')\n",
    "len(all_found)"
   ]
  },
  {
   "cell_type": "code",
   "execution_count": null,
   "metadata": {
    "collapsed": false,
    "scrolled": true
   },
   "outputs": [],
   "source": [
    "import collections\n",
    "\n",
    "def report_found(search_ids, glob_pattern, id_pattern):\n",
    "    '''Report the pmids found within the search set of files.'''\n",
    "    files = glob.glob(glob_pattern)\n",
    "    p = re.compile('[0-9]{8,8}')\n",
    "    found = [p.search(pdf).group() for pdf in files if p.search(pdf)]\n",
    "    not_found = set(search_ids).difference(found)\n",
    "    print()\n",
    "    #print('{} searched = {}'.format(len(search_ids), search_ids))\n",
    "    #print('{} found = {}'.format(len(found), found))\n",
    "    print('{} {} searched.'.format(len(search_ids), glob_pattern))\n",
    "    print('{} {} found.'.format(len(found), glob_pattern))\n",
    "    print('{} {} not_found = {}'.format(len(not_found), glob_pattern, not_found))\n",
    "    return(found)\n",
    "\n",
    "all_found_d = {}\n",
    "all_found_d['AR00'] = report_found(AR00_specific_ids[0:40], glob_pattern='04_AR00_*', id_pattern='[0-9]{8,8}')\n",
    "all_found_d['AR01'] = report_found(AR01_ids, glob_pattern='04_AR01_*', id_pattern='[0-9]{8,8}')\n",
    "all_found_d['AR03'] = report_found(AR03_ids, glob_pattern='04_AR03_*', id_pattern='[0-9]{8,8}')\n",
    "all_found_d['AR04'] = report_found(AR04_ids, glob_pattern='04_AR04_*', id_pattern='[0-9]{8,8}')\n",
    "all_found_d['AR05'] = report_found(AR05_ids, glob_pattern='04_AR05_*', id_pattern='[0-9]{8,8}')\n",
    "\n",
    "print()\n",
    "print('------- Reporting Found: ----------')\n",
    "print()\n",
    "print('{} Total found'.format(sum([len(v) for v in all_found_d.values()])))\n",
    "print()\n",
    "all_found_d = collections.OrderedDict(sorted(all_found_d.items()))\n",
    "for k,v in all_found_d.iteritems():\n",
    "    print('{}: {}'.format(k, v))"
   ]
  },
  {
   "cell_type": "markdown",
   "metadata": {},
   "source": [
    "### Reported found or not found for batch 4\n",
    "    40 04_AR00_* searched.\n",
    "    32 04_AR00_* found.\n",
    "    8 04_AR00_* not_found = set(['22715192', '25109588', '22608701', '21304250', '22998863', '21697711', '26035194', '24330893'])\n",
    "\n",
    "    2 04_AR01_* searched.\n",
    "    1 04_AR01_* found.\n",
    "    1 04_AR01_* not_found = set(['22044631'])\n",
    "\n",
    "    99 04_AR03_* searched.\n",
    "    86 04_AR03_* found.\n",
    "    13 04_AR03_* not_found = set(['24718047', '24920020', '25972166', '24552365', '20729099', '23440753', '22068747', '25794203', '24177246', '20408942', '24169072', '24469936', '21051491'])\n",
    "\n",
    "    17 04_AR04_* searched.\n",
    "    12 04_AR04_* found.\n",
    "    5 04_AR04_* not_found = set(['21564364', '20408942', '24905752', '22436093', '23171222'])\n",
    "\n",
    "    26 04_AR05_* searched.\n",
    "    25 04_AR05_* found.\n",
    "    1 04_AR05_* not_found = set(['22387928'])\n",
    "\n",
    "    ------- Reporting Found: ----------\n",
    "    \n",
    "    156 Total found\n",
    "\n",
    "    AR00: ['20410871', '20532489', '21050743', '21278378', '21278907', '22004270', '22048839', '22146934', '22169884', '22233352', '22378876', '22414937', '22474609', '22505867', '22686386', '22715197', '22805501', '22832959', '22968207', '23190433', '23299717', '23504052', '23555220', '23770566', '23934417', '24126129', '24466064', '24512610', '24651580', '24933663', '24964082', '25521352']\n",
    "    AR01: ['22664396']\n",
    "    AR03: ['20450941', '20525011', '20584721', '20615239', '20620104', '20634711', '20663220', '20842164', '20857862', '21077571', '21118712', '21120131', '21179552', '21203376', '21206465', '21276977', '21280045', '21335015', '21397252', '21419826', '21426626', '21675365', '21731598', '21816115', '21854953', '21886801', '21909371', '21954087', '22043127', '22119526', '22131608', '22163262', '22215928', '22314045', '22377810', '22379239', '22467988', '22496862', '22665872', '22986355', '22998925', '23055094', '23060019', '23127585', '23193115', '23326604', '23643925', '23707592', '23731439', '23786695', '23810448', '23899724', '23929944', '23940642', '23990240', '23997704', '24015304', '24125792', '24127147', '24214921', '24235891', '24252875', '24259275', '24260331', '24266644', '24412227', '24426818', '24453310', '24457211', '24505292', '24529045', '24571111', '24618591', '24705497', '24899756', '24930577', '25024660', '25051268', '25061837', '25348125', '25424865', '25456277', '25581922', '25756280', '25759762', '25883640']\n",
    "    AR04: ['20955866', '21677894', '21826029', '22035386', '22215925', '22239924', '22294809', '22470524', '22959616', '23941878', '25142762', '25325584']\n",
    "    AR05: ['20049632', '20497902', '20661292', '20939652', '21034683', '21259270', '21376761', '21392554', '21440905', '21463060', '21477924', '21550590', '21623612', '21626350', '21898707', '22088577', '22285891', '22286850', '22315106', '22776995', '22911829', '24156344', '25036222', '25107317', '25749431']"
   ]
  },
  {
   "cell_type": "markdown",
   "metadata": {},
   "source": [
    "#### 156 pubmed ids were uniquely found and downloaded successfully.\n",
    "Randomly choose 32 to assign to everyone. And from the remaining 124 (=156-31) assign 31 different ones to each of 4 people.\n",
    "\n",
    "Note: '23941878' which we missed previously is now covered in set AR04."
   ]
  },
  {
   "cell_type": "code",
   "execution_count": 393,
   "metadata": {
    "collapsed": true
   },
   "outputs": [],
   "source": [
    "import random\n",
    "files = glob.glob('04_AR*.pdf')\n",
    "idxs = range(len(files))\n",
    "random.shuffle(idxs)\n",
    "\n",
    "everyone = [files[idx] for idx in idxs[0:32]]\n",
    "mk = [files[idx] for idx in idxs[32:63]]\n",
    "jl = [files[idx] for idx in idxs[63:94]]\n",
    "tc = [files[idx] for idx in idxs[94:125]]\n",
    "cc = [files[idx] for idx in idxs[125:156]]"
   ]
  },
  {
   "cell_type": "code",
   "execution_count": 414,
   "metadata": {
    "collapsed": false
   },
   "outputs": [
    {
     "name": "stdout",
     "output_type": "stream",
     "text": [
      "mkdir: mk: File exists\n",
      "mkdir: mk: File exists\n",
      "mkdir: mk/annotated: File exists\n",
      "mkdir: mk/irrelevant: File exists\n",
      "mkdir: jl: File exists\n",
      "mkdir: jl: File exists\n",
      "mkdir: jl/annotated: File exists\n",
      "mkdir: jl/irrelevant: File exists\n",
      "mkdir: tc: File exists\n",
      "mkdir: tc: File exists\n",
      "mkdir: tc/annotated: File exists\n",
      "mkdir: tc/irrelevant: File exists\n",
      "mkdir: cc: File exists\n",
      "mkdir: cc: File exists\n",
      "mkdir: cc/annotated: File exists\n",
      "mkdir: cc/irrelevant: File exists\n"
     ]
    }
   ],
   "source": [
    "def copy_to_annotator(files, annotator, suffix):\n",
    "    %mkdir {annotator}\n",
    "    %mkdir {annotator}/annotated\n",
    "    %mkdir {annotator}/irrelevant\n",
    "    for f in files:\n",
    "        f_dest = f.split('.')[0] + suffix\n",
    "        %cp {f} ./{annotator}/{f_dest}\n",
    "\n",
    "copy_to_annotator(mk, 'mk', '_mk.pdf')\n",
    "copy_to_annotator(everyone, 'mk', '_mk.pdf')\n",
    "\n",
    "copy_to_annotator(jl, 'jl', '_jl.pdf')\n",
    "copy_to_annotator(everyone, 'jl', '_jl.pdf')\n",
    "\n",
    "copy_to_annotator(mk, 'tc', '_tc.pdf')\n",
    "copy_to_annotator(everyone, 'tc', '_tc.pdf')\n",
    "\n",
    "copy_to_annotator(mk, 'cc', '_cc.pdf')\n",
    "copy_to_annotator(everyone, 'cc', '_cc.pdf')\n"
   ]
  },
  {
   "cell_type": "code",
   "execution_count": null,
   "metadata": {
    "collapsed": true
   },
   "outputs": [],
   "source": [
    "for f in mk:\n",
    "    f_dest = f.split('.')[0] + '_mk.pdf'\n",
    "    %cp {f} ./mk/{f_dest}\n",
    "\n",
    "for f in jl:\n",
    "    f_dest = f.split('.')[0] + '_jl.pdf'\n",
    "    %cp {f} ./jl/{f_dest}\n",
    "    \n",
    "for f in tc:\n",
    "    f_dest = f.split('.')[0] + '_tc.pdf'\n",
    "    %cp {f} ./tc/{f_dest}\n",
    "\n",
    "for f in cc:\n",
    "    f_dest = f.split('.')[0] + '_cc.pdf'\n",
    "    %cp {f} ./tc/{f_dest}"
   ]
  },
  {
   "cell_type": "markdown",
   "metadata": {},
   "source": [
    "## Add the new abstracts to our medic database\n",
    "Insert fails if any are already in db.\n",
    "Update will overwrite previous records."
   ]
  },
  {
   "cell_type": "markdown",
   "metadata": {},
   "source": [
    "#### Previous set for our records:"
   ]
  },
  {
   "cell_type": "code",
   "execution_count": 25,
   "metadata": {
    "collapsed": false
   },
   "outputs": [
    {
     "name": "stdout",
     "output_type": "stream",
     "text": [
      "/Users/ccarey/Documents/Projects/NAMI/rdoc/tasks/task_data_temp\n",
      "['20695690', '21699821', '21849230', '22379238', '22438994', '23074247', '23088207', '23143607', '23452958', '23622762', '23709163', '23904684', '23941878', '24725811', '24770625', '24806675', '24980898', '25017671', '25258728', '25348131', '23928891', '23744445', '25774613', '25773639', '25740534', '24870123', '24740391', '21957257', '21613467', '22447249', '21319926', '23503620', '21531705', '24023823', '24231418', '23558179', '25734385', '23647728', '23083918', '22575329', '22379245', '25197810', '25136085', '25126038', '25142564', '25126029', '24470693', '24333377', '24293773', '24116095', '24101292', '24045586', '23954763', '23646134', '20815182', '25898427', '24285346', '25036160', '24511281', '23957953', '25280468', '24388670', '25154749', '24933724', '24359877', '24333745', '24804717', '25834059', '25788679', '25261920', '25160677', '25913552', '24376698', '20685988']\n"
     ]
    }
   ],
   "source": [
    "%cd /Users/ccarey/Documents/Projects/NAMI/rdoc/tasks/task_data_temp\n",
    "prev = !medic --format tsv write ALL 2> /dev/null | cut -f 1\n",
    "print(prev)"
   ]
  },
  {
   "cell_type": "code",
   "execution_count": 17,
   "metadata": {
    "collapsed": false
   },
   "outputs": [],
   "source": [
    "all_found_d = {'AR00': ['20410871', '20532489', '21050743', '21278378', '21278907', '22004270', '22048839', '22146934', '22169884', '22233352', '22378876', '22414937', '22474609', '22505867', '22686386', '22715197', '22805501', '22832959', '22968207', '23190433', '23299717', '23504052', '23555220', '23770566', '23934417', '24126129', '24466064', '24512610', '24651580', '24933663', '24964082', '25521352'],\n",
    "'AR01': ['22664396'],\n",
    "'AR03': ['20450941', '20525011', '20584721', '20615239', '20620104', '20634711', '20663220', '20842164', '20857862', '21077571', '21118712', '21120131', '21179552', '21203376', '21206465', '21276977', '21280045', '21335015', '21397252', '21419826', '21426626', '21675365', '21731598', '21816115', '21854953', '21886801', '21909371', '21954087', '22043127', '22119526', '22131608', '22163262', '22215928', '22314045', '22377810', '22379239', '22467988', '22496862', '22665872', '22986355', '22998925', '23055094', '23060019', '23127585', '23193115', '23326604', '23643925', '23707592', '23731439', '23786695', '23810448', '23899724', '23929944', '23940642', '23990240', '23997704', '24015304', '24125792', '24127147', '24214921', '24235891', '24252875', '24259275', '24260331', '24266644', '24412227', '24426818', '24453310', '24457211', '24505292', '24529045', '24571111', '24618591', '24705497', '24899756', '24930577', '25024660', '25051268', '25061837', '25348125', '25424865', '25456277', '25581922', '25756280', '25759762', '25883640'],\n",
    "'AR04': ['20955866', '21677894', '21826029', '22035386', '22215925', '22239924', '22294809', '22470524', '22959616', '23941878', '25142762', '25325584'],\n",
    "'AR05': ['20049632', '20497902', '20661292', '20939652', '21034683', '21259270', '21376761', '21392554', '21440905', '21463060', '21477924', '21550590', '21623612', '21626350', '21898707', '22088577', '22285891', '22286850', '22315106', '22776995', '22911829', '24156344', '25036222', '25107317', '25749431']}"
   ]
  },
  {
   "cell_type": "code",
   "execution_count": 26,
   "metadata": {
    "collapsed": false
   },
   "outputs": [
    {
     "data": {
      "text/plain": [
       "156"
      ]
     },
     "execution_count": 26,
     "metadata": {},
     "output_type": "execute_result"
    }
   ],
   "source": [
    "update_list = [pmid for subset in all_found_d.values() for pmid in subset]\n",
    "len(update_list)"
   ]
  },
  {
   "cell_type": "code",
   "execution_count": 39,
   "metadata": {
    "collapsed": false,
    "scrolled": true
   },
   "outputs": [
    {
     "name": "stdout",
     "output_type": "stream",
     "text": [
      "20049632 20497902 20661292 20939652 21034683 21259270 21376761 21392554 21440905 21463060 21477924 21550590 21623612 21626350 21898707 22088577 22285891 22286850 22315106 22776995 22911829 24156344 25036222 25107317 25749431 20955866 21677894 21826029 22035386 22215925 22239924 22294809 22470524 22959616 23941878 25142762 25325584 22664396 20410871 20532489 21050743 21278378 21278907 22004270 22048839 22146934 22169884 22233352 22378876 22414937 22474609 22505867 22686386 22715197 22805501 22832959 22968207 23190433 23299717 23504052 23555220 23770566 23934417 24126129 24466064 24512610 24651580 24933663 24964082 25521352 20450941 20525011 20584721 20615239 20620104 20634711 20663220 20842164 20857862 21077571 21118712 21120131 21179552 21203376 21206465 21276977 21280045 21335015 21397252 21419826 21426626 21675365 21731598 21816115 21854953 21886801 21909371 21954087 22043127 22119526 22131608 22163262 22215928 22314045 22377810 22379239 22467988 22496862 22665872 22986355 22998925 23055094 23060019 23127585 23193115 23326604 23643925 23707592 23731439 23786695 23810448 23899724 23929944 23940642 23990240 23997704 24015304 24125792 24127147 24214921 24235891 24252875 24259275 24260331 24266644 24412227 24426818 24453310 24457211 24505292 24529045 24571111 24618591 24705497 24899756 24930577 25024660 25051268 25061837 25348125 25424865 25456277 25581922 25756280 25759762 25883640\n",
      "     229\n"
     ]
    }
   ],
   "source": [
    "cmd = ' '.join(update_list)\n",
    "print(cmd)\n",
    "!medic update {cmd} 2> /dev/null\n",
    "print()\n",
    "!medic --format tsv write ALL 2> /dev/null | cut -f 1 | wc -l"
   ]
  },
  {
   "cell_type": "markdown",
   "metadata": {},
   "source": [
    "229 pubmed ids in database"
   ]
  },
  {
   "cell_type": "markdown",
   "metadata": {},
   "source": [
    "## write the new pmids to file batch_04_AR\n",
    "/Users/ccarey/Documents/Projects/NAMI/rdoc/tasks/task_data_temp/batch_04_AR\n"
   ]
  },
  {
   "cell_type": "markdown",
   "metadata": {},
   "source": [
    "# Need new copies of:\n",
    "\n",
    "'04_AR04_23941878.pdf'\n",
    "'04_AR03_23193115.pdf'"
   ]
  },
  {
   "cell_type": "code",
   "execution_count": null,
   "metadata": {
    "collapsed": true
   },
   "outputs": [],
   "source": []
  }
 ],
 "metadata": {
  "kernelspec": {
   "display_name": "Python 2",
   "language": "python",
   "name": "python2"
  },
  "language_info": {
   "codemirror_mode": {
    "name": "ipython",
    "version": 2
   },
   "file_extension": ".py",
   "mimetype": "text/x-python",
   "name": "python",
   "nbconvert_exporter": "python",
   "pygments_lexer": "ipython2",
   "version": "2.7.10"
  }
 },
 "nbformat": 4,
 "nbformat_minor": 0
}
