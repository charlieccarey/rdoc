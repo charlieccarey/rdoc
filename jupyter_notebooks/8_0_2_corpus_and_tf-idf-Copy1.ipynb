{
 "cells": [
  {
   "cell_type": "markdown",
   "metadata": {},
   "source": [
    "# Compile our corpus and do TF-idf on it."
   ]
  },
  {
   "cell_type": "markdown",
   "metadata": {},
   "source": [
    "## Goals: Create corpora out of relevant topic or non-topic documents.\n",
    "- RDoC topic abstracts as positive corpus\n",
    "  + Arousal as a first example\n",
    "- Unrelated abstracts at various distances as negative corpora."
   ]
  },
  {
   "cell_type": "markdown",
   "metadata": {},
   "source": [
    "### Positive corpus from all Arousal abstracts"
   ]
  },
  {
   "cell_type": "code",
   "execution_count": 5,
   "metadata": {
    "collapsed": false
   },
   "outputs": [
    {
     "name": "stdout",
     "output_type": "stream",
     "text": [
      "/Users/ccarey/Documents/Projects/NAMI/rdoc/tasks/task_data_temp\n"
     ]
    }
   ],
   "source": [
    "%cd /Users/ccarey/Documents/Projects/NAMI/rdoc/tasks/task_data_temp"
   ]
  },
  {
   "cell_type": "markdown",
   "metadata": {},
   "source": [
    "### Finding the Arousal pubmed ids from MK"
   ]
  },
  {
   "cell_type": "code",
   "execution_count": 6,
   "metadata": {
    "collapsed": false
   },
   "outputs": [
    {
     "name": "stdout",
     "output_type": "stream",
     "text": [
      "36 pmids\n",
      "['25734385', '23647728', '23083918', '22575329', '22379245', '25197810', '25136085', '25126038', '25142564', '25126029', '24470693', '24333377', '24116095', '24101292', '24045586', '23954763', '23646134', '20815182', '20695690', '21699821', '21849230', '25017671', '24725811', '25258728', '25348131', '22379238', '22438994', '23452958', '23709163', '23904684', '23074247', '23088207', '23143607', '23622762', '24770625', '24980898']\n"
     ]
    }
   ],
   "source": [
    "import glob\n",
    "import os\n",
    "import re\n",
    "\n",
    "files = glob.glob('/Users/ccarey/Documents/Projects/NAMI/rdoc/results/mk/*AR*mk*ANNOTATED.txt')\n",
    "files = [os.path.basename(f) for f in files]\n",
    "p = re.compile('[0-9]{8,8}')\n",
    "pmids = [p.search(f).group() for f in files if p.search(f)]\n",
    "print('{} pmids'.format(len(pmids)))\n",
    "print(pmids)\n",
    "with open('8_0_2_MK_arousal_pmids', 'wb') as f:\n",
    "    for pmid in pmids:\n",
    "        f.write(pmid + '\\n')"
   ]
  },
  {
   "cell_type": "markdown",
   "metadata": {},
   "source": [
    "### Saving the individual Arousal abstracts and concatenating to create single postive training corpus."
   ]
  },
  {
   "cell_type": "code",
   "execution_count": 7,
   "metadata": {
    "collapsed": true
   },
   "outputs": [],
   "source": [
    "ar_abstracts=!medic --format tsv write --pmid-list '8_0_2_MK_arousal_pmids' 2>/dev/null\n",
    "ar_abstracts = [a.split('\\t', 2) for a in ar_abstracts]"
   ]
  },
  {
   "cell_type": "markdown",
   "metadata": {},
   "source": [
    "abstracts from other topics"
   ]
  },
  {
   "cell_type": "code",
   "execution_count": 8,
   "metadata": {
    "collapsed": true
   },
   "outputs": [],
   "source": [
    "def get_abstracts(pmid_list_file):\n",
    "    abstracts=!medic --format tsv write --pmid-list {pmid_list_file} 2>/dev/null\n",
    "    return([a.split('\\t', 2) for a in abstracts])"
   ]
  },
  {
   "cell_type": "code",
   "execution_count": 9,
   "metadata": {
    "collapsed": false
   },
   "outputs": [
    {
     "data": {
      "text/plain": [
       "36"
      ]
     },
     "execution_count": 9,
     "metadata": {},
     "output_type": "execute_result"
    }
   ],
   "source": [
    "ar_36 = get_abstracts('8_0_2_MK_arousal_pmids')\n",
    "len(ar_36)"
   ]
  },
  {
   "cell_type": "code",
   "execution_count": 10,
   "metadata": {
    "collapsed": false
   },
   "outputs": [
    {
     "data": {
      "text/plain": [
       "1000"
      ]
     },
     "execution_count": 10,
     "metadata": {},
     "output_type": "execute_result"
    }
   ],
   "source": [
    "ar_1000 = get_abstracts('AR00_1000_ids')\n",
    "len(ar_1000)"
   ]
  },
  {
   "cell_type": "code",
   "execution_count": 11,
   "metadata": {
    "collapsed": false
   },
   "outputs": [
    {
     "data": {
      "text/plain": [
       "1000"
      ]
     },
     "execution_count": 11,
     "metadata": {},
     "output_type": "execute_result"
    }
   ],
   "source": [
    "diss_1000 = get_abstracts('diss_1000_ids')\n",
    "len(diss_1000)"
   ]
  },
  {
   "cell_type": "code",
   "execution_count": 12,
   "metadata": {
    "collapsed": false
   },
   "outputs": [
    {
     "data": {
      "text/plain": [
       "1000"
      ]
     },
     "execution_count": 12,
     "metadata": {},
     "output_type": "execute_result"
    }
   ],
   "source": [
    "psyc_1000 = get_abstracts('psyc_1000_ids')\n",
    "len(psyc_1000)"
   ]
  },
  {
   "cell_type": "markdown",
   "metadata": {},
   "source": [
    "### Calculate TF-idf on the positive training corpus.\n",
    "These are our **closest similarity** representatives since they are members of the corpus."
   ]
  },
  {
   "cell_type": "markdown",
   "metadata": {},
   "source": [
    "**Pattern is: vectorize and transform**\n",
    "\n",
    "Can be done in 2 steps:\n",
    "+ CountVectorizer()\n",
    "+ TfidfTransformer()\n",
    "\n",
    "Or one step:\n",
    "+ TfidfVectorizer()\n",
    "\n",
    "**Possibly use binary parameter of CountVectorizer**\n",
    "\n",
    "As binary may be more stable for shorter texts.\n",
    "\n",
    "If we use the stop words, everything gets squished towards a cosine similarity of 0.\n",
    "\n",
    "Since we are not eliminating stop words in deepdive training, why would we possibly do it here? So we don't."
   ]
  },
  {
   "cell_type": "code",
   "execution_count": 13,
   "metadata": {
    "collapsed": false
   },
   "outputs": [],
   "source": [
    "import numpy as np\n",
    "from sklearn.feature_extraction.text import CountVectorizer\n",
    "from sklearn.feature_extraction.text import TfidfTransformer\n",
    "from sklearn.metrics.pairwise import cosine_similarity\n",
    "from sklearn.metrics.pairwise import cosine_distances"
   ]
  },
  {
   "cell_type": "code",
   "execution_count": 14,
   "metadata": {
    "collapsed": false
   },
   "outputs": [],
   "source": [
    "#vectorizer = CountVectorizer(min_df=1, stop_words = 'english')\n",
    "#vectorizer = CountVectorizer(min_df=1, max_df = 0.9) # alternate to stop words"
   ]
  },
  {
   "cell_type": "code",
   "execution_count": 15,
   "metadata": {
    "collapsed": false
   },
   "outputs": [
    {
     "data": {
      "text/plain": [
       "CountVectorizer(analyzer=u'word', binary=False, decode_error=u'strict',\n",
       "        dtype=<type 'numpy.int64'>, encoding=u'utf-8', input=u'content',\n",
       "        lowercase=True, max_df=1.0, max_features=None, min_df=1,\n",
       "        ngram_range=(1, 1), preprocessor=None, stop_words=None,\n",
       "        strip_accents=None, token_pattern=u'(?u)\\\\b\\\\w\\\\w+\\\\b',\n",
       "        tokenizer=None, vocabulary=None)"
      ]
     },
     "execution_count": 15,
     "metadata": {},
     "output_type": "execute_result"
    }
   ],
   "source": [
    "vectorizer = CountVectorizer(min_df=1)\n",
    "vectorizer"
   ]
  },
  {
   "cell_type": "code",
   "execution_count": 16,
   "metadata": {
    "collapsed": false
   },
   "outputs": [
    {
     "data": {
      "text/plain": [
       "TfidfTransformer(norm='l2', smooth_idf=True, sublinear_tf=False, use_idf=True)"
      ]
     },
     "execution_count": 16,
     "metadata": {},
     "output_type": "execute_result"
    }
   ],
   "source": [
    "transformer = TfidfTransformer(norm='l2')\n",
    "transformer"
   ]
  },
  {
   "cell_type": "code",
   "execution_count": 17,
   "metadata": {
    "collapsed": true
   },
   "outputs": [],
   "source": [
    "def get_abstract_string(abstracts):\n",
    "    return([a[2] for a in abstracts])"
   ]
  },
  {
   "cell_type": "markdown",
   "metadata": {},
   "source": [
    "Similarity among just the Arousal abstracts we annotated"
   ]
  },
  {
   "cell_type": "code",
   "execution_count": 18,
   "metadata": {
    "collapsed": true
   },
   "outputs": [],
   "source": [
    "def get_similarity(texts):\n",
    "    X = vectorizer.fit_transform(a)\n",
    "    Y = transformer.fit_transform(X)\n",
    "    return(cosine_similarity(Y))\n",
    "\n",
    "def upper_k1_triangle_to_arr(matrix):\n",
    "    '''Upper triangle excluding the main diagonal'''\n",
    "    return(matrix[np.triu_indices(len(matrix), k=1)])\n",
    "    \n",
    "def report_similarity(pairs_matrix):\n",
    "    pairs = upper_k1_triangle_to_arr(pairs_matrix)\n",
    "    print('median : {}'.format(np.median(pairs)))\n",
    "    print('mean : {}'.format(np.mean(pairs)))\n",
    "    print('min : {}'.format(np.min(pairs)))\n",
    "    print('max : {}'.format(np.max(pairs)))"
   ]
  },
  {
   "cell_type": "code",
   "execution_count": 19,
   "metadata": {
    "collapsed": true
   },
   "outputs": [],
   "source": [
    "import seaborn as sns\n",
    "%matplotlib inline"
   ]
  },
  {
   "cell_type": "code",
   "execution_count": 637,
   "metadata": {
    "collapsed": false
   },
   "outputs": [
    {
     "name": "stdout",
     "output_type": "stream",
     "text": [
      "median : 0.106927701958\n",
      "mean : 0.114726599535\n",
      "min : 0.0393396559378\n",
      "max : 0.653500778338\n"
     ]
    },
    {
     "data": {
      "text/plain": [
       "<matplotlib.axes._subplots.AxesSubplot at 0x126d97490>"
      ]
     },
     "execution_count": 637,
     "metadata": {},
     "output_type": "execute_result"
    },
    {
     "data": {
      "image/png": "[encoded data removed]",
      "text/plain": [
       "<matplotlib.figure.Figure at 0x1270f9fd0>"
      ]
     },
     "metadata": {},
     "output_type": "display_data"
    }
   ],
   "source": [
    "a = get_abstract_string(ar_36)\n",
    "a_s = get_similarity(a)\n",
    "report_similarity(a_s)\n",
    "a_s_arr = upper_k1_triangle_to_arr(a_s)\n",
    "sns.distplot(a_s_arr, kde=False)"
   ]
  },
  {
   "cell_type": "code",
   "execution_count": 638,
   "metadata": {
    "collapsed": false
   },
   "outputs": [],
   "source": [
    "# Check close articles... yes same authors, very similar wording and subject\n",
    "# np.where(np.isclose(0.653500778338, a_s))\n",
    "# print(ar_36[9])\n",
    "# print(ar_36[35])"
   ]
  },
  {
   "cell_type": "code",
   "execution_count": 641,
   "metadata": {
    "collapsed": false
   },
   "outputs": [
    {
     "name": "stdout",
     "output_type": "stream",
     "text": [
      "median : 0.0603569715301\n",
      "mean : 0.0660531789203\n",
      "min : 0.00655107521531\n",
      "max : 0.682021571969\n"
     ]
    },
    {
     "data": {
      "text/plain": [
       "<matplotlib.axes._subplots.AxesSubplot at 0x127e902d0>"
      ]
     },
     "execution_count": 641,
     "metadata": {},
     "output_type": "execute_result"
    },
    {
     "data": {
      "image/png": "[encoded data removed]",
      "text/plain": [
       "<matplotlib.figure.Figure at 0x1277a87d0>"
      ]
     },
     "metadata": {},
     "output_type": "display_data"
    }
   ],
   "source": [
    "a = get_abstract_string(ar_1000)\n",
    "a_s = get_similarity(a)\n",
    "report_similarity(a_s)\n",
    "a_s_arr = upper_k1_triangle_to_arr(a_s)\n",
    "sns.distplot(a_s_arr, kde=False)"
   ]
  },
  {
   "cell_type": "code",
   "execution_count": null,
   "metadata": {
    "collapsed": false
   },
   "outputs": [],
   "source": []
  },
  {
   "cell_type": "code",
   "execution_count": 639,
   "metadata": {
    "collapsed": false
   },
   "outputs": [
    {
     "name": "stdout",
     "output_type": "stream",
     "text": [
      "median : 0.0581692728693\n",
      "mean : 0.063154637947\n",
      "min : 0.0\n",
      "max : 0.568976631244\n"
     ]
    },
    {
     "data": {
      "text/plain": [
       "<matplotlib.axes._subplots.AxesSubplot at 0x127779590>"
      ]
     },
     "execution_count": 639,
     "metadata": {},
     "output_type": "execute_result"
    },
    {
     "data": {
      "image/png": "[encoded data removed]",
      "text/plain": [
       "<matplotlib.figure.Figure at 0x12713d390>"
      ]
     },
     "metadata": {},
     "output_type": "display_data"
    }
   ],
   "source": [
    "a = get_abstract_string(psyc_1000)\n",
    "a_s = get_similarity(a)\n",
    "report_similarity(a_s)\n",
    "a_s_arr = upper_k1_triangle_to_arr(a_s)\n",
    "sns.distplot(a_s_arr, kde=False)"
   ]
  },
  {
   "cell_type": "code",
   "execution_count": 643,
   "metadata": {
    "collapsed": false
   },
   "outputs": [
    {
     "name": "stdout",
     "output_type": "stream",
     "text": [
      "median : 0.054595926845\n",
      "mean : 0.0591052427989\n",
      "min : 0.00404164998591\n",
      "max : 0.608155386658\n",
      "[ 0.60815539  0.51148501  0.58797017  0.52099838  0.55449571  0.55457912]\n"
     ]
    },
    {
     "data": {
      "text/plain": [
       "<matplotlib.axes._subplots.AxesSubplot at 0x127985990>"
      ]
     },
     "execution_count": 643,
     "metadata": {},
     "output_type": "execute_result"
    },
    {
     "data": {
      "image/png": "[encoded data removed]",
      "text/plain": [
       "<matplotlib.figure.Figure at 0x12893aa50>"
      ]
     },
     "metadata": {},
     "output_type": "display_data"
    }
   ],
   "source": [
    "a = get_abstract_string(diss_1000)\n",
    "a_s = get_similarity(a)\n",
    "report_similarity(a_s)\n",
    "a_s_arr = upper_k1_triangle_to_arr(a_s)\n",
    "print(a_s_arr[a_s_arr > 0.5])\n",
    "sns.distplot(a_s_arr, kde=False)"
   ]
  },
  {
   "cell_type": "markdown",
   "metadata": {},
   "source": [
    "Extend to also check simlarity across other abstracts"
   ]
  },
  {
   "cell_type": "markdown",
   "metadata": {},
   "source": [
    "## lemmatizing with spacy vs. vectorizer.vocabulary without specifying stemmer.\n",
    "Note, spacy stems, for sklearn CountVectorizer, we need to specify lemmatizer to stem.\n"
   ]
  },
  {
   "cell_type": "code",
   "execution_count": 3,
   "metadata": {
    "collapsed": true
   },
   "outputs": [],
   "source": [
    "import io\n",
    "import codecs\n",
    "from spacy.en import English\n",
    "nlp = English(parser=True, tagger=True) # so we can sentence parse"
   ]
  },
  {
   "cell_type": "code",
   "execution_count": 2,
   "metadata": {
    "collapsed": true
   },
   "outputs": [],
   "source": [
    "def spacy_lemma_gt_len(text, length=2):\n",
    "    '''Create bag of unique lemmas, requiring lemma length > length\n",
    "    \n",
    "    Note: setting length to 1 may mess up our postgres arrays as we would\n",
    "    get commas here, unless we were to quote everything.\n",
    "    '''\n",
    "    tokens = []\n",
    "    #doc = nlp(text.decode('utf8')) #\"This is a sentence. Here's another...\".decode('utf8'))\n",
    "    parsed_data = nlp(text) #\"This is a sentence. Here's another...\".decode('utf8'))\n",
    "    for token in parsed_data:\n",
    "        if len(token.lemma_) > length:\n",
    "            tokens.append(token.lemma_.lower())\n",
    "    return(list(set(tokens)))\n",
    "\n"
   ]
  },
  {
   "cell_type": "markdown",
   "metadata": {},
   "source": [
    "## A. Misc tokenizing and stemming"
   ]
  },
  {
   "cell_type": "code",
   "execution_count": 91,
   "metadata": {
    "collapsed": false
   },
   "outputs": [],
   "source": [
    "from nltk.stem.porter import PorterStemmer\n",
    "stemmer = PorterStemmer()\n",
    "\n",
    "from nltk import word_tokenize          \n",
    "from nltk.stem import WordNetLemmatizer \n",
    "\n",
    "from nltk.stem.porter import PorterStemmer\n",
    "\n",
    "#######\n",
    "# based on http://www.cs.duke.edu/courses/spring14/compsci290/assignments/lab02.html\n",
    "stemmer = PorterStemmer()\n",
    "def stem_tokens(tokens, stemmer):\n",
    "    stemmed = []\n",
    "    for item in tokens:\n",
    "        stemmed.append(stemmer.stem(item))\n",
    "    return stemmed\n",
    "\n",
    "def tokenize(text):\n",
    "    tokens = word_tokenize(text)\n",
    "    stems = stem_tokens(tokens, stemmer)\n",
    "    return stems\n",
    "\n",
    "vect = CountVectorizer(tokenizer=tokenize, stop_words='english') \n",
    "\n",
    "# class LemmaTokenizer(object):\n",
    "#     def __init__(self):\n",
    "#         self.wnl = WordNetLemmatizer()\n",
    "#     def __call__(self, doc):\n",
    "#         return [self.wnl.lemmatize(t) for t in word_tokenize(doc)]\n",
    "# vect = CountVectorizer(tokenizer=tokenizer) "
   ]
  },
  {
   "cell_type": "code",
   "execution_count": 93,
   "metadata": {
    "collapsed": false
   },
   "outputs": [],
   "source": [
    "wnl = WordNetLemmatizer()"
   ]
  },
  {
   "cell_type": "code",
   "execution_count": 96,
   "metadata": {
    "collapsed": false
   },
   "outputs": [
    {
     "name": "stdout",
     "output_type": "stream",
     "text": [
      "established\n",
      "church\n",
      "[u'establish', u'church']\n",
      "[u'establish', u'church']\n",
      "establish\n"
     ]
    }
   ],
   "source": [
    "print(wnl.lemmatize('established'))\n",
    "print(wnl.lemmatize('churches'))\n",
    "print(spacy_lemma_gt_len(u'established churches'))\n",
    "print(tokenize(u'established churches'))\n",
    "print(stemmer.stem('established'))"
   ]
  },
  {
   "cell_type": "code",
   "execution_count": 82,
   "metadata": {
    "collapsed": false
   },
   "outputs": [
    {
     "name": "stdout",
     "output_type": "stream",
     "text": [
      "97\n",
      "84\n",
      "152\n",
      "[u'ad.', u'additive', u'although', u'an', u'and', u'arousal', u'as', u'be', u'become', u'both', u'classically', u'combination', u'comorbidity', u'compare', u'conditioned', u'consumption', u'craving', u'dependence', u'disorder', u'either', u'emotion', u'evidence', u'examine', u'finding', u'firmly', u'great', u'have', u'image', u'important', u'in', u'include', u'increase', u'indicate', u'individual', u'laboratory', u'maintenance', u'may', u'memory', u'moreover', u'nature', u'negative', u'no', u'of', u'on', u'or', u'pairing', u'participant', u'personalized', u'physiological', u'posttraumatic', u'reactivity', u'relate', u'responding', u'response', u'salivary', u'salivation', u'self', u'study', u'than', u'that', u'the', u'these', u'this', u'through', u'to', u'well', u'when', u'with']\n",
      "[u'(', u')', u',', u'.', u'=', u'addit', u'alcohol-rel', u'arous', u'becom', u'classic', u'combin', u'comorbid', u'compar', u'condit', u'consumpt', u'crave', u'depend', u'disord', u'emot', u'evid', u'examin', u'firmli', u'greater', u'ha', u'import', u'includ', u'increas', u'indic', u'individu', u'laboratori', u'mainten', u'memori', u'moreov', u'n', u'natur', u'neg', u'neutral-alcohol', u'pair', u'particip', u'person', u'physiolog', u'posttraumat', u'ptsd-ad', u'ptsd-relat', u'reactiv', u'respons', u'saliv', u'salivari', u'self-report', u'studi', u'thi', u'trauma-alcohol', u'trauma-imag', u'trauma-neutr', u'trauma-rel']\n"
     ]
    }
   ],
   "source": [
    "a = get_abstract_string(ar_36)\n",
    "lemmas = spacy_lemma_gt_len(a[0].decode(), 1)\n",
    "lemmas = sorted(lemmas)\n",
    "\n",
    "X = vect.fit_transform(a[0:1])\n",
    "vocab_vectorizer = vect.get_feature_names()\n",
    "\n",
    "print(len(lemmas))\n",
    "print(len(vocab_vectorizer))\n",
    "print(len(set(vocab_vectorizer).union(lemmas)))\n",
    "print(sorted(set(lemmas).difference(vocab_vectorizer)))\n",
    "print(sorted(set(vocab_vectorizer).difference(lemmas)))"
   ]
  },
  {
   "cell_type": "code",
   "execution_count": 1,
   "metadata": {
    "collapsed": true
   },
   "outputs": [],
   "source": [
    "a_s = get_similarity(a)\n",
    "report_similarity(a_s)\n",
    "a_s_arr = upper_k1_triangle_to_arr(a_s)\n",
    "sns.distplot(a_s_arr, kde=False)"
   ]
  },
  {
   "cell_type": "markdown",
   "metadata": {},
   "source": [
    "# For each paper in positive set find at least 1 paper that is most similar..."
   ]
  },
  {
   "cell_type": "markdown",
   "metadata": {},
   "source": [
    "# Appendices\n",
    "\n",
    "http://stackoverflow.com/questions/12118720/python-tf-idf-cosine-to-find-document-similarity\n",
    "\n",
    "## A.1 example, checking vectorizer results for particular words"
   ]
  },
  {
   "cell_type": "code",
   "execution_count": null,
   "metadata": {
    "collapsed": true
   },
   "outputs": [],
   "source": [
    "from sklearn.feature_extraction.text import CountVectorizer\n",
    "from sklearn.feature_extraction.text import TfidfTransformer\n",
    "from sklearn.metrics.pairwise import cosine_similarity\n",
    "from sklearn.metrics.pairwise import cosine_distances\n",
    "vectorizer = CountVectorizer(min_df=1, stop_words = 'english')"
   ]
  },
  {
   "cell_type": "code",
   "execution_count": 610,
   "metadata": {
    "collapsed": false
   },
   "outputs": [
    {
     "ename": "NameError",
     "evalue": "name 'sklearn' is not defined",
     "output_type": "error",
     "traceback": [
      "\u001b[0;31m---------------------------------------------------------------------------\u001b[0m",
      "\u001b[0;31mNameError\u001b[0m                                 Traceback (most recent call last)",
      "\u001b[0;32m<ipython-input-610-bd10ad774c47>\u001b[0m in \u001b[0;36m<module>\u001b[0;34m()\u001b[0m\n\u001b[0;32m----> 1\u001b[0;31m \u001b[0msklearn\u001b[0m\u001b[0;34m.\u001b[0m\u001b[0mfeature_extraction\u001b[0m\u001b[0;34m.\u001b[0m\u001b[0mtext\u001b[0m\u001b[0;34m.\u001b[0m\u001b[0mstop_words\u001b[0m\u001b[0;34m(\u001b[0m\u001b[0;34m)\u001b[0m\u001b[0;34m\u001b[0m\u001b[0m\n\u001b[0m\u001b[1;32m      2\u001b[0m \u001b[0;31m#vectorizer.get_stop_words()\u001b[0m\u001b[0;34m\u001b[0m\u001b[0;34m\u001b[0m\u001b[0m\n",
      "\u001b[0;31mNameError\u001b[0m: name 'sklearn' is not defined"
     ]
    }
   ],
   "source": [
    "#vectorizer.get_stop_words()"
   ]
  },
  {
   "cell_type": "code",
   "execution_count": 405,
   "metadata": {
    "collapsed": false
   },
   "outputs": [
    {
     "data": {
      "text/plain": [
       "<10x685 sparse matrix of type '<type 'numpy.int64'>'\n",
       "\twith 901 stored elements in Compressed Sparse Row format>"
      ]
     },
     "execution_count": 405,
     "metadata": {},
     "output_type": "execute_result"
    }
   ],
   "source": [
    "a_sub = [a[2] for a in abstracts[0:10]]\n",
    "\n",
    "X = vectorizer.fit_transform(a_sub) # sparse matrix\n",
    "X"
   ]
  },
  {
   "cell_type": "code",
   "execution_count": 388,
   "metadata": {
    "collapsed": false
   },
   "outputs": [
    {
     "data": {
      "text/plain": [
       "array([[ 0.        ,  0.        ,  0.        , ...,  0.        ,\n",
       "         0.        ,  0.        ],\n",
       "       [ 0.        ,  0.        ,  0.        , ...,  0.        ,\n",
       "         0.        ,  0.        ],\n",
       "       [ 0.        ,  0.        ,  0.08136766, ...,  0.        ,\n",
       "         0.        ,  0.        ],\n",
       "       ..., \n",
       "       [ 0.        ,  0.        ,  0.        , ...,  0.19978123,\n",
       "         0.07833716,  0.        ],\n",
       "       [ 0.05184885,  0.        ,  0.        , ...,  0.04407626,\n",
       "         0.        ,  0.        ],\n",
       "       [ 0.        ,  0.        ,  0.        , ...,  0.        ,\n",
       "         0.        ,  0.        ]])"
      ]
     },
     "execution_count": 388,
     "metadata": {},
     "output_type": "execute_result"
    }
   ],
   "source": [
    "transformer = TfidfTransformer()\n",
    "Y = transformer.fit_transform(X)\n",
    "Y.toarray()"
   ]
  },
  {
   "cell_type": "code",
   "execution_count": 389,
   "metadata": {
    "collapsed": false
   },
   "outputs": [
    {
     "name": "stdout",
     "output_type": "stream",
     "text": [
      "[u'00', u'02', u'05', u'08', u'10', u'12', u'16', u'18', u'19', u'20', u'22', u'25', u'27', u'30', u'332', u'35', u'40', u'45', u'48', u'56', u'70', u'83', u'abdominal', u'ability', u'abnormal', u'absence', u'accompanying', u'account', u'acoustic', u'activation', u'activities', u'activity', u'ad', u'additionally', u'additive', u'affect', u'affected', u'affecting', u'affective', u'affects', u'age', u'aid', u'aim', u'alcohol', u'allele', u'alleles', u'alterations', u'altered', u'amygdala', u'analyses', u'analysis', u'anterior', u'anxiety', u'appetitive', u'arousal', u'arthritis', u'assess', u'assessed', u'assessing', u'assessment', u'assessments', u'associated', u'association', u'associations', u'attention', u'attentional', u'auditory', u'average', u'aversive', u'avoidance', u'awake', u'balance', u'based', u'baseline', u'bases', u'basis', u'behavior', u'behavioral', u'behaviors', u'believed', u'benefit', u'bias', u'biased', u'biological', u'blind', u'blink', u'bloating', u'blocks', u'blunted', u'body', u'borderline', u'bowel', u'boys', u'bp', u'bpd', u'brain', u'brief', u'called', u'cardiac', u'carries']\n",
      "[0 0 0 0 1 0 0 0 0 0]\n",
      "70\n",
      "[0 0 0 1 0 0 0 0 0 0]\n",
      "[ 0.          0.          0.          0.05903834  0.          0.          0.\n",
      "  0.          0.          0.        ]\n",
      "[]\n",
      "[]\n",
      "[' awake ']\n"
     ]
    }
   ],
   "source": [
    "print(vectorizer.get_feature_names()[0:100] )\n",
    "idx = vectorizer.vocabulary_.get('accompanying') # index location\n",
    "print(X.toarray()[:, idx]) # Only in last of the 5 documents\n",
    "idx = vectorizer.vocabulary_.get('awake') # index location\n",
    "print(idx)\n",
    "print(X.toarray()[:, idx])\n",
    "print(Y.toarray()[:, idx])\n",
    "# confirm...\n",
    "print(re.findall(' awake ', a_sub[0]))\n",
    "print(re.findall(' awake ', a_sub[1]))\n",
    "print(re.findall(' awake ', a_sub[3]))"
   ]
  },
  {
   "cell_type": "code",
   "execution_count": 391,
   "metadata": {
    "collapsed": false
   },
   "outputs": [
    {
     "name": "stdout",
     "output_type": "stream",
     "text": [
      "[[0 0 0 ..., 0 0 0]\n",
      " [0 0 0 ..., 0 0 0]\n",
      " [0 0 2 ..., 0 0 0]\n",
      " ..., \n",
      " [0 0 0 ..., 0 0 0]\n",
      " [1 0 0 ..., 0 0 0]\n",
      " [0 0 0 ..., 2 1 0]]\n"
     ]
    }
   ],
   "source": [
    "import numpy\n",
    "numpy.set_printoptions(threshold=50)\n",
    "print(X.toarray()[0:10,0:10])\n",
    "#print(abstracts_subset[0])\n",
    "#print(abstracts_subset[3])"
   ]
  },
  {
   "cell_type": "markdown",
   "metadata": {},
   "source": [
    "## A.2 cosine similarity is 1 - cosine distance"
   ]
  },
  {
   "cell_type": "code",
   "execution_count": 393,
   "metadata": {
    "collapsed": true
   },
   "outputs": [],
   "source": [
    "CS = cosine_similarity(Y)\n",
    "CD = cosine_distances(Y)"
   ]
  },
  {
   "cell_type": "code",
   "execution_count": 394,
   "metadata": {
    "collapsed": false
   },
   "outputs": [
    {
     "data": {
      "text/plain": [
       "array([[ 1.,  1.,  1.,  1.,  1.,  1.,  1.,  1.,  1.,  1.],\n",
       "       [ 1.,  1.,  1.,  1.,  1.,  1.,  1.,  1.,  1.,  1.],\n",
       "       [ 1.,  1.,  1.,  1.,  1.,  1.,  1.,  1.,  1.,  1.]])"
      ]
     },
     "execution_count": 394,
     "metadata": {},
     "output_type": "execute_result"
    }
   ],
   "source": [
    "(CS + CD)[0:3]"
   ]
  },
  {
   "cell_type": "markdown",
   "metadata": {},
   "source": [
    "### Pairwise similarities across all documents\n",
    "Smaller values are closer document pairs."
   ]
  },
  {
   "cell_type": "code",
   "execution_count": 395,
   "metadata": {
    "collapsed": false
   },
   "outputs": [
    {
     "name": "stdout",
     "output_type": "stream",
     "text": [
      "[[ 1.          0.01372815  0.11179181  0.02057372  0.0123945   0.04210795\n",
      "   0.03054761  0.02937845  0.01646299  0.02740921]\n",
      " [ 0.01372815  1.          0.07356882  0.02758827  0.00635186  0.01900985\n",
      "   0.05810082  0.00773126  0.00426639  0.12416518]\n",
      " [ 0.11179181  0.07356882  1.          0.01493718  0.00983574  0.00716719\n",
      "   0.01259717  0.01427109  0.0371889   0.01167651]]\n"
     ]
    }
   ],
   "source": [
    "# top of matrix\n",
    "print(CS[0:3])"
   ]
  },
  {
   "cell_type": "code",
   "execution_count": 396,
   "metadata": {
    "collapsed": false
   },
   "outputs": [
    {
     "data": {
      "text/plain": [
       "array([ 0.01372815,  0.11179181,  0.02057372,  0.0123945 ,  0.04210795,\n",
       "        0.03054761,  0.02937845,  0.01646299,  0.02740921,  0.07356882,\n",
       "        0.02758827,  0.00635186,  0.01900985,  0.05810082,  0.00773126,\n",
       "        0.00426639,  0.12416518,  0.01493718,  0.00983574,  0.00716719,\n",
       "        0.01259717,  0.01427109,  0.0371889 ,  0.01167651,  0.09744671,\n",
       "        0.01414746,  0.03366219,  0.02866423,  0.04793282,  0.00474729,\n",
       "        0.01022048,  0.0431809 ,  0.00634754,  0.06558308,  0.03459395,\n",
       "        0.13217066,  0.04834782,  0.01584267,  0.10096319,  0.06062208,\n",
       "        0.01136721,  0.16567452,  0.01693197,  0.03688224,  0.00896036])"
      ]
     },
     "execution_count": 396,
     "metadata": {},
     "output_type": "execute_result"
    }
   ],
   "source": [
    "# upper triangle without the diagonal\n",
    "CS[np.triu_indices(n=len(CS), k=1)]"
   ]
  },
  {
   "cell_type": "code",
   "execution_count": 397,
   "metadata": {
    "collapsed": false
   },
   "outputs": [
    {
     "data": {
      "text/plain": [
       "0.027409210522198989"
      ]
     },
     "execution_count": 397,
     "metadata": {},
     "output_type": "execute_result"
    }
   ],
   "source": [
    "np.median(CS[np.triu_indices(len(CS), k=1)])"
   ]
  },
  {
   "cell_type": "markdown",
   "metadata": {},
   "source": [
    "## A.2 vectorizing with n-grams"
   ]
  },
  {
   "cell_type": "code",
   "execution_count": 386,
   "metadata": {
    "collapsed": false
   },
   "outputs": [],
   "source": [
    "## bigrams\n",
    "# vectorizer = CountVectorizer(ngram_range=(1, 2), token_pattern=r'\\b\\w+\\b', min_df=1)\n",
    "# X = vectorizer.fit_transform(corpus)\n",
    "# X"
   ]
  },
  {
   "cell_type": "code",
   "execution_count": 3,
   "metadata": {
    "collapsed": false
   },
   "outputs": [
    {
     "data": {
      "text/plain": [
       "TfidfTransformer(norm=u'l2', smooth_idf=True, sublinear_tf=False,\n",
       "         use_idf=True)"
      ]
     },
     "execution_count": 3,
     "metadata": {},
     "output_type": "execute_result"
    }
   ],
   "source": [
    "from sklearn.feature_extraction.text import TfidfTransformer\n",
    "transformer = TfidfTransformer()\n",
    "transformer"
   ]
  },
  {
   "cell_type": "code",
   "execution_count": null,
   "metadata": {
    "collapsed": true
   },
   "outputs": [],
   "source": [
    "counts = \n",
    "tfidf = transformer.fit_transform(counts)"
   ]
  },
  {
   "cell_type": "markdown",
   "metadata": {},
   "source": [
    "## lemmatizing by adding the wordnet lemmatizer\n",
    "http://scikit-learn.org/stable/modules/feature_extraction.html#customizing-the-vectorizer-classes"
   ]
  },
  {
   "cell_type": "code",
   "execution_count": 273,
   "metadata": {
    "collapsed": true
   },
   "outputs": [],
   "source": [
    "from nltk import word_tokenize          \n",
    "from nltk.stem import WordNetLemmatizer \n",
    "\n",
    "class LemmaTokenizer(object):\n",
    "     def __init__(self):\n",
    "         self.wnl = WordNetLemmatizer()\n",
    "     def __call__(self, doc):\n",
    "         return [self.wnl.lemmatize(t) for t in word_tokenize(doc)]\n",
    "\n",
    "# first time with NLTK?\n",
    "# import nltk\n",
    "# nltk.download() # download packages, or at least the wordnet package"
   ]
  },
  {
   "cell_type": "code",
   "execution_count": 274,
   "metadata": {
    "collapsed": false
   },
   "outputs": [
    {
     "data": {
      "text/plain": [
       "u'ass'"
      ]
     },
     "execution_count": 274,
     "metadata": {},
     "output_type": "execute_result"
    }
   ],
   "source": [
    "lemmatizer = WordNetLemmatizer()\n",
    "lemmatizer.lemmatize('asseses')"
   ]
  },
  {
   "cell_type": "code",
   "execution_count": 275,
   "metadata": {
    "collapsed": true
   },
   "outputs": [],
   "source": [
    "vect = CountVectorizer(tokenizer=LemmaTokenizer())  "
   ]
  },
  {
   "cell_type": "code",
   "execution_count": 277,
   "metadata": {
    "collapsed": false
   },
   "outputs": [
    {
     "data": {
      "text/plain": [
       "<5x499 sparse matrix of type '<type 'numpy.int64'>'\n",
       "\twith 658 stored elements in Compressed Sparse Row format>"
      ]
     },
     "execution_count": 277,
     "metadata": {},
     "output_type": "execute_result"
    }
   ],
   "source": [
    "a_sub = [a[2] for a in abstracts[0:5]]\n",
    "X = vect.fit_transform(a_sub) # sparse matrix\n",
    "X"
   ]
  },
  {
   "cell_type": "code",
   "execution_count": 278,
   "metadata": {
    "collapsed": false
   },
   "outputs": [
    {
     "name": "stdout",
     "output_type": "stream",
     "text": [
      "[u\"'\", u\"'s\", u'(', u')', u',', u'-', u'.', u'.05', u'0.02-0.08', u'0.02-0.08-hz', u'0.56', u'1', u'10-minute', u'10-repeat', u'12', u'2', u'2.8', u'20-minute', u'25.9', u'332', u'40', u'40-hour', u'48', u'83', u';', u'<', u'=', u'a', u'abdominal', u'ability', u'about', u'above', u'accompanying', u'across', u'ad', u'additive', u'affect', u'affected', u'affecting', u'after', u'age', u'aim', u'alcohol', u'alcohol-related', u'allele', u'alone', u'also', u'altered', u'although', u'among', u'an', u'analysis', u'and', u'and/or', u'another', u'anxiety', u'are', u'arousal', u'ass', u'assessed', u'associated', u'association', u'at', u'attention', u'attentional', u'average', u'avoidance/numbing', u'awake', u'base', u'based', u'baseline', u'be', u'become', u'been', u'before', u'behavior', u'benefit', u'between', u'beyond', u'bias', u'biological', u'bloating', u'both', u'bowel', u'bp', u'by', u'called', u'can', u'carry', u'catastrophizing', u'catechol-o-methyl', u'cause', u'change', u'characteristic', u'chinese', u'chronobiology', u'cigarette', u'claim', u'classically', u'classified']\n",
      "[0 0 0 0 1]\n",
      "[1 0 2 1 1]\n",
      "[' an ']\n",
      "[]\n",
      "[' an ', ' an ']\n"
     ]
    }
   ],
   "source": [
    "print(vect.get_feature_names()[0:100] )\n",
    "idx = vect.vocabulary_.get('accompanying') # index location\n",
    "print(X.toarray()[:, idx]) # Only in last of the 5 documents\n",
    "idx = vect.vocabulary_.get('an') # index location\n",
    "print(X.toarray()[:, idx]) # In several documents, 2x in 3rd.\n",
    "# confirm...\n",
    "print(re.findall(' an ', a_sub[0]))\n",
    "print(re.findall(' an ', a_sub[1]))\n",
    "print(re.findall(' an ', a_sub[2]))"
   ]
  },
  {
   "cell_type": "markdown",
   "metadata": {
    "collapsed": true
   },
   "source": [
    "## A.4 Cautions on small texts suggest smoothing to help\n",
    "http://www.p-value.info/2013/02/when-tfidf-and-cosine-similarity-fail.html"
   ]
  },
  {
   "cell_type": "code",
   "execution_count": null,
   "metadata": {
    "collapsed": true
   },
   "outputs": [],
   "source": []
  }
 ],
 "metadata": {
  "kernelspec": {
   "display_name": "Python 2",
   "language": "python",
   "name": "python2"
  },
  "language_info": {
   "codemirror_mode": {
    "name": "ipython",
    "version": 2
   },
   "file_extension": ".py",
   "mimetype": "text/x-python",
   "name": "python",
   "nbconvert_exporter": "python",
   "pygments_lexer": "ipython2",
   "version": "2.7.10"
  }
 },
 "nbformat": 4,
 "nbformat_minor": 0
}
