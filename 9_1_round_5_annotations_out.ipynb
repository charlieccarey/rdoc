{
 "cells": [
  {
   "cell_type": "markdown",
   "metadata": {},
   "source": [
    "# Select and distribute additional Auditory Percetion articles for phrase annotation"
   ]
  },
  {
   "cell_type": "markdown",
   "metadata": {},
   "source": [
    "## Goal is deeper annotation.\n",
    "- A good number of annotations on this topic.\n",
    "- Phrase based annotation so we can be most flexible and assess at higher levels.\n",
    "\n",
    "## Secondary goal, more cross-validation.\n",
    "- 1/2 of new articles will be annotated by all.\n",
    "- 1/2 of new articles will be annotated by only 1 annotator."
   ]
  },
  {
   "cell_type": "code",
   "execution_count": 21,
   "metadata": {
    "collapsed": false
   },
   "outputs": [
    {
     "name": "stdout",
     "output_type": "stream",
     "text": [
      "mkdir: /Users/ccarey/Documents/Projects/NAMI/rdoc/pdfs/20160205_rdoc_project: File exists\n",
      "/Users/ccarey/Documents/Projects/NAMI/rdoc/pdfs/20160205_rdoc_project\n"
     ]
    }
   ],
   "source": [
    "dest_dir = '/Users/ccarey/Documents/Projects/NAMI/rdoc/pdfs/20160205_rdoc_project'\n",
    "%mkdir {dest_dir}\n",
    "%cd {dest_dir}"
   ]
  },
  {
   "cell_type": "markdown",
   "metadata": {},
   "source": [
    "### Get a list of all our previous pubmed ids used for annotation (irrespective of Auditory perception)"
   ]
  },
  {
   "cell_type": "code",
   "execution_count": 22,
   "metadata": {
    "collapsed": false
   },
   "outputs": [
    {
     "name": "stdout",
     "output_type": "stream",
     "text": [
      "327 total PDFS\n"
     ]
    }
   ],
   "source": [
    "from __future__ import print_function\n",
    "import glob\n",
    "import os\n",
    "import re\n",
    "# annotated and processed previously\n",
    "prev_annotated_pdfs_dir = '/Users/ccarey/Documents/Projects/NAMI/rdoc/pdfs/all_pdfs_annotated_pmid_names/*.pdf'\n",
    "pdfs = glob.glob(prev_annotated_pdfs_dir)\n",
    "pdfs = [os.path.basename(pdf) for pdf in pdfs]\n",
    "\n",
    "# and those from round 4 annotations\n",
    "prev_annotated_pdfs_dir2 = '/Users/ccarey/Documents/Projects/NAMI/rdoc/pdfs/20160122_rdoc_project/*.pdf'\n",
    "pdfs2 = glob.glob(prev_annotated_pdfs_dir2)\n",
    "\n",
    "pdfs.extend([os.path.basename(pdf) for pdf in pdfs2])\n",
    "print('{} total PDFS'.format(len(pdfs)))"
   ]
  },
  {
   "cell_type": "code",
   "execution_count": 23,
   "metadata": {
    "collapsed": false
   },
   "outputs": [
    {
     "name": "stdout",
     "output_type": "stream",
     "text": [
      "324 Total exisiting PMIDS\n",
      "229 Unique exisiting PMIDS\n"
     ]
    }
   ],
   "source": [
    "pattern = '([0-9]{6,9})'\n",
    "p = re.compile(pattern)\n",
    "pmids = [p.search(pdf).group() for pdf in pdfs if p.search(pdf)]\n",
    "print('{} Total exisiting PMIDS'.format(len(pmids)))\n",
    "pmids = set(pmids)\n",
    "print('{} Unique exisiting PMIDS'.format(len(pmids)))\n",
    "#print(pmids)\n",
    "prev_pmids = pmids"
   ]
  },
  {
   "cell_type": "markdown",
   "metadata": {
    "collapsed": false
   },
   "source": [
    "229 unique existing pmids:\n",
    "\n",
    "['22686386', '23744445', '22715197', '23055094', '23929944', '24806675', '22575329', '24930577', '25107317', '22776995', '24870123', '24388670', '21849230', '24933663', '20497902', '25734385', '20532489', '23555220', '24770625', '25834059', '21854953', '23904684', '22378876', '21206465', '23647728', '23127585', '20410871', '25142564', '21203376', '21954087', '22805501', '22379245', '25261920', '22505867', '24512610', '22239924', '21463060', '21699821', '24453310', '23504052', '25160677', '22088577', '21278378', '21426626', '22285891', '22664396', '24333745', '22968207', '25051268', '22438994', '20955866', '24964082', '22233352', '23190433', '21826029', '23934417', '22911829', '25280468', '23074247', '25142762', '22169884', '21613467', '24529045', '25017671', '22832959', '21276977', '24466064', '22447249', '22314045', '25521352', '22294809', '24651580', '24015304', '23990240', '24933724', '24126129', '21957257', '22474609', '20584721', '22048839', '24156344', '25348125', '24259275', '24899756', '21034683', '21050743', '23503620', '25788679', '23709163', '21259270', '21477924', '23299717', '21909371', '22004270', '21397252', '21419826', '25759762', '24252875', '24293773', '24235891', '24231418', '24116095', '22146934', '22131608', '20685988', '22986355', '22414937', '24359877', '23928891', '22496862', '23060019', '25036222', '25424865', '20695690', '25036160', '24804717', '23786695', '25749431', '23326604', '22215928', '20049632', '21531705', '20842164', '20663220', '23770566', '21898707', '23899724', '23622762', '24740391', '25126029', '23088207', '25348131', '25456277', '22286850', '23940642', '25061837', '24705497', '25773639', '21623612', '20525011', '25197810', '25126038', '25154749', '24618591', '24470693', '21118712', '21179552', '24980898', '23957953', '22315106', '24571111', '22043127', '23707592', '24101292', '24285346', '20620104', '24511281', '21077571', '23954763', '22467988', '24376698', '22470524', '23810448', '22035386', '25898427', '22379238', '22379239', '23452958', '24266644', '24426818', '23941878', '21626350', '24260331', '25325584', '21278907', '23646134', '25136085', '21675365', '23731439', '22163262', '24457211', '22998925', '24505292', '23143607', '25774613', '23083918', '21120131', '20939652', '25740534', '24214921', '23643925', '21440905', '25883640', '20634711', '22377810', '25913552', '23997704', '24023823', '21731598', '24412227', '21376761', '24333377', '21550590', '24725811', '21319926', '24045586', '21335015', '25258728', '22215925', '22119526', '24127147', '23193115', '21280045', '25024660', '21677894', '21816115', '20815182', '20661292', '21886801', '20615239', '23558179', '25756280', '20857862', '21392554', '22665872', '25581922', '20450941', '24125792', '22959616']"
   ]
  },
  {
   "cell_type": "markdown",
   "metadata": {},
   "source": [
    "## Get new lists of pmids specific to topic"
   ]
  },
  {
   "cell_type": "code",
   "execution_count": 24,
   "metadata": {
    "collapsed": true
   },
   "outputs": [],
   "source": [
    "#from __future__ import print_function\n",
    "from Bio import Entrez\n",
    "from subprocess import check_call\n",
    "from shutil import copy2\n",
    "#import glob\n",
    "import time\n",
    "import imp\n",
    "import os\n",
    "url2p = imp.load_source('Url2PubmedPmcPdf', '/Users/ccarey/Documents/Projects/NAMI/rdoc/scripts/Url2PubmedPmcPdf.py')\n",
    "Entrez.email = \"charlieccarey@gmail.com\"\n",
    "\n",
    "def narrow_id_list(found_ids, omit_ids):\n",
    "    found_but_omit = list(set(found_ids) & set(omit_ids))\n",
    "    found_and_keep = list(set(found_ids) - set(omit_ids))\n",
    "    print('Removed this many ids: {}'.format(len(found_but_omit)))\n",
    "    return(found_and_keep)\n",
    "\n",
    "def pubmed_central_search_to_pubmed_id(search_string, retmax=20):\n",
    "    # verify how many records match\n",
    "    handle = Entrez.egquery(term=search_string)\n",
    "    record = Entrez.read(handle)\n",
    "    # maybe useful if we are dealing with 100s of ids and don't want to overwhelm server?\n",
    "    for row in record[\"eGQueryResult\"]:\n",
    "        if row[\"DbName\"] == \"pubmed\":\n",
    "            print(row[\"Count\"])\n",
    "    # fetch the ids for those records\n",
    "    handle = Entrez.esearch(db=\"pubmed\", retmax=retmax, term=search_string)\n",
    "    record = Entrez.read(handle)\n",
    "    pubmed_ids = record[\"IdList\"]\n",
    "    return(pubmed_ids)\n",
    "\n",
    "def fetch_pdfs(pubmed_ids, stub_name):\n",
    "    u = url2p.Url2PubmedPmcPdf(pubmed_ids)\n",
    "    urls = u.get_urls()\n",
    "    found = []\n",
    "    for url in urls:\n",
    "        if url['url'] is not None:\n",
    "            cmd = 'curl -L {} -o {}.pdf'.format(url['url'], stub_name + url['pubmed'])\n",
    "            # print(cmd)\n",
    "            check_call(cmd, shell = True)\n",
    "            time.sleep(10)\n",
    "            found.append(url['pubmed'])\n",
    "    return(found)\n",
    "\n",
    "# def copy_pdf_append_initials(initials):\n",
    "#     pdfs = glob.glob('*.pdf')\n",
    "#     for i in initials:\n",
    "#         os.mkdir(i)\n",
    "#         for p in pdfs:\n",
    "#             pi = p.replace('.pdf', '_' + i + '.pdf')\n",
    "#             copy2(p, os.path.join(i, pi))\n",
    "\n",
    "def search_and_summarize(search_name, query, omit_ids):\n",
    "    ids = pubmed_central_search_to_pubmed_id(query, retmax=1000000)\n",
    "    new_ids = narrow_id_list(ids, omit_ids)\n",
    "    print('{} search of pubmed found {} ids of which {} are new'.format(search_name, len(ids), len(new_ids)))\n",
    "    return(new_ids)"
   ]
  },
  {
   "cell_type": "markdown",
   "metadata": {},
   "source": [
    "### Desire to send out more articles. 30 in common to all, 30 unique to all\n",
    " - 30 common to all + 30 unique per annotator * 4 annotators\n",
    " - 120 articles total desired."
   ]
  },
  {
   "cell_type": "code",
   "execution_count": 43,
   "metadata": {
    "collapsed": true
   },
   "outputs": [],
   "source": [
    "# again, these are from preliminary work by Aurelien etc.\n",
    "AP00 = '\"Auditory Perception\"[All Fields] AND (\"loattrfree full text\"[sb] AND \"2010/06/24\"[PDat] : \"2015/06/22\"[PDat] AND Humans[Mesh])'\n",
    "AP01 = '\"Auditory Perception\"[All Fields] AND \"mismatch negativity \"[All Fields] AND (\"loattrfree full text\"[sb] AND \"2010/06/24\"[PDat] : \"2015/06/22\"[PDat] AND \"humans\"[MeSH Terms])'\n",
    "AP02 = '\"Auditory Perception\"[All Fields] AND ((\"social control, formal\"[MeSH Terms] OR (\"social\"[All Fields] AND \"control\"[All Fields] AND \"formal\"[All Fields]) OR \"formal social control\"[All Fields] OR \"regulation\"[All Fields]) AND (\"haemodynamic\"[All Fields] OR \"hemodynamics\"[MeSH Terms] OR \"hemodynamics\"[All Fields] OR \"hemodynamic\"[All Fields]) AND components[All Fields] AND sensory[All Fields] AND response[All Fields] AND (\"substance-related disorders\"[MeSH Terms] OR (\"substance-related\"[All Fields] AND \"disorders\"[All Fields]) OR \"substance-related disorders\"[All Fields] OR \"habituation\"[All Fields])) AND (\"loattrfree full text\"[sb] AND \"2010/06/24\"[PDat] : \"2015/06/22\"[PDat] AND \"humans\"[MeSH Terms])'\n",
    "AP03 = '\"Auditory Perception\"[All Fields] AND \"hemodynamic\"[All Fields] AND (\"loattrfree full text\"[sb] AND \"2010/06/24\"[PDat] : \"2015/06/22\"[PDat] AND \"humans\"[MeSH Terms])'\n",
    "AP04 = '\"Auditory Perception\"[All Fields] AND \"spatial localization\"[All Fields] AND (\"loattrfree full text\"[sb] AND \"2010/06/24\"[PDat] : \"2015/06/22\"[PDat] AND \"humans\"[MeSH Terms])'\n",
    "AP05 = '\"Auditory Perception\"[All Fields] AND (Sensory[All Fields] AND (\"evoked potentials\"[MeSH Terms] OR (\"evoked\"[All Fields] AND \"potentials\"[All Fields]) OR \"evoked potentials\"[All Fields] OR \"erp\"[All Fields])) AND (\"loattrfree full text\"[sb] AND \"2010/06/24\"[PDat] : \"2015/06/22\"[PDat] AND \"humans\"[MeSH Terms])'\n",
    "AP06 = '\"Auditory Perception\"[All Fields] AND \"auditory hallucinations\"[All Fields] AND (\"loattrfree full text\"[sb] AND \"2010/06/24\"[PDat] : \"2015/06/22\"[PDat] AND \"humans\"[MeSH Terms])'\n",
    "AP07 = '\"Auditory Perception\"[All Fields] AND \"hyperacusis\"[All Fields] AND (\"loattrfree full text\"[sb] AND \"2010/06/24\"[PDat] : \"2015/06/22\"[PDat] AND \"humans\"[MeSH Terms])'\n",
    "AP08 = '\"Auditory Perception\"[All Fields] AND \"McGurk\"[All Fields] AND (\"loattrfree full text\"[sb] AND \"2010/06/24\"[PDat] : \"2015/06/22\"[PDat] AND \"humans\"[MeSH Terms])'\n",
    "AP09 = '\"Auditory Perception\"[All Fields] AND (auditory[All Fields] AND scene[All Fields] AND (\"perception\"[MeSH Terms] OR \"perception\"[All Fields])) AND (\"loattrfree full text\"[sb] AND \"2010/06/24\"[PDat] : \"2015/06/22\"[PDat] AND \"humans\"[MeSH Terms])'\n",
    "AP10 = '\"Auditory Perception\"[All Fields] AND \"auditory masking\"[All Fields] AND (\"loattrfree full text\"[sb] AND \"2010/06/24\"[PDat] : \"2015/06/22\"[PDat] AND \"humans\"[MeSH Terms])'\n",
    "AP11 = '\"Auditory Perception\"[All Fields] AND \"Gating\"[All Fields] AND (\"loattrfree full text\"[sb] AND \"2010/06/24\"[PDat] : \"2015/06/22\"[PDat] AND \"humans\"[MeSH Terms])'"
   ]
  },
  {
   "cell_type": "code",
   "execution_count": 48,
   "metadata": {
    "collapsed": false
   },
   "outputs": [
    {
     "name": "stdout",
     "output_type": "stream",
     "text": [
      "1449\n",
      "Removed this many ids: 17\n",
      "AP00 search of pubmed found 1449 ids of which 1432 are new\n",
      "\n",
      "56\n",
      "Removed this many ids: 3\n",
      "AP01 search of pubmed found 56 ids of which 53 are new\n",
      "\n",
      "0\n",
      "Removed this many ids: 0\n",
      "AP02 search of pubmed found 0 ids of which 0 are new\n",
      "\n",
      "9\n",
      "Removed this many ids: 2\n",
      "AP03 search of pubmed found 9 ids of which 7 are new\n",
      "\n",
      "3\n",
      "Removed this many ids: 1\n",
      "AP04 search of pubmed found 3 ids of which 2 are new\n",
      "\n",
      "70\n",
      "Removed this many ids: 1\n",
      "AP05 search of pubmed found 70 ids of which 69 are new\n",
      "\n",
      "3\n",
      "Removed this many ids: 1\n",
      "AP06 search of pubmed found 3 ids of which 2 are new\n",
      "\n",
      "6\n",
      "Removed this many ids: 3\n",
      "AP07 search of pubmed found 6 ids of which 3 are new\n",
      "\n",
      "10\n",
      "Removed this many ids: 2\n",
      "AP08 search of pubmed found 10 ids of which 8 are new\n",
      "\n",
      "50\n",
      "Removed this many ids: 0\n",
      "AP09 search of pubmed found 50 ids of which 50 are new\n",
      "\n",
      "1\n",
      "Removed this many ids: 0\n",
      "AP10 search of pubmed found 1 ids of which 1 are new\n",
      "\n",
      "17\n",
      "Removed this many ids: 2\n",
      "AP11 search of pubmed found 17 ids of which 15 are new\n"
     ]
    }
   ],
   "source": [
    "AP00_ids = search_and_summarize(search_name='AP00', query=AP00, omit_ids=prev_pmids)\n",
    "AP01_ids = search_and_summarize(search_name='AP01', query=AP01, omit_ids=prev_pmids)\n",
    "AP02_ids = search_and_summarize(search_name='AP02', query=AP02, omit_ids=prev_pmids)\n",
    "AP03_ids = search_and_summarize(search_name='AP03', query=AP03, omit_ids=prev_pmids)\n",
    "AP04_ids = search_and_summarize(search_name='AP04', query=AP04, omit_ids=prev_pmids)\n",
    "AP05_ids = search_and_summarize(search_name='AP05', query=AP05, omit_ids=prev_pmids)\n",
    "AP06_ids = search_and_summarize(search_name='AP06', query=AP06, omit_ids=prev_pmids)\n",
    "AP07_ids = search_and_summarize(search_name='AP07', query=AP07, omit_ids=prev_pmids)\n",
    "AP08_ids = search_and_summarize(search_name='AP08', query=AP08, omit_ids=prev_pmids)\n",
    "AP09_ids = search_and_summarize(search_name='AP09', query=AP09, omit_ids=prev_pmids)\n",
    "AP10_ids = search_and_summarize(search_name='AP10', query=AP10, omit_ids=prev_pmids)\n",
    "AP11_ids = search_and_summarize(search_name='AP11', query=AP11, omit_ids=prev_pmids)"
   ]
  },
  {
   "cell_type": "markdown",
   "metadata": {},
   "source": [
    "1449\n",
    "Removed this many ids: 17\n",
    "AP00 search of pubmed found 1449 ids of which 1432 are new\n",
    "\n",
    "56\n",
    "Removed this many ids: 3\n",
    "AP01 search of pubmed found 56 ids of which 53 are new\n",
    "\n",
    "0\n",
    "Removed this many ids: 0\n",
    "AP02 search of pubmed found 0 ids of which 0 are new\n",
    "\n",
    "9\n",
    "Removed this many ids: 2\n",
    "AP03 search of pubmed found 9 ids of which 7 are new\n",
    "\n",
    "3\n",
    "Removed this many ids: 1\n",
    "AP04 search of pubmed found 3 ids of which 2 are new\n",
    "\n",
    "70\n",
    "Removed this many ids: 1\n",
    "AP05 search of pubmed found 70 ids of which 69 are new\n",
    "\n",
    "3\n",
    "Removed this many ids: 1\n",
    "AP06 search of pubmed found 3 ids of which 2 are new\n",
    "\n",
    "6\n",
    "Removed this many ids: 3\n",
    "AP07 search of pubmed found 6 ids of which 3 are new\n",
    "\n",
    "10\n",
    "Removed this many ids: 2\n",
    "AP08 search of pubmed found 10 ids of which 8 are new\n",
    "\n",
    "50\n",
    "Removed this many ids: 0\n",
    "AP09 search of pubmed found 50 ids of which 50 are new\n",
    "\n",
    "1\n",
    "Removed this many ids: 0\n",
    "AP10 search of pubmed found 1 ids of which 1 are new\n",
    "\n",
    "17\n",
    "Removed this many ids: 2\n",
    "AP11 search of pubmed found 17 ids of which 15 are new"
   ]
  },
  {
   "cell_type": "code",
   "execution_count": 49,
   "metadata": {
    "collapsed": false
   },
   "outputs": [
    {
     "name": "stdout",
     "output_type": "stream",
     "text": [
      "total new pmids found across all searches : 1642\n",
      "duplicate pmids found across all searches : ['24771006', '25259525', '21261633', '24548430', '23308266', '21823798', '20578033', '21625011', '21500313', '22508089', '23242351', '23076102', '22464943', '22815876', '22786953', '24158725', '25379456', '21368051', '24956028', '23015429', '24336606', '25447378', '20633569']\n",
      "unique new pmids found across all searches : 187\n"
     ]
    }
   ],
   "source": [
    "import collections\n",
    "\n",
    "# total found across all searches\n",
    "ids = [AP00_ids, AP01_ids, AP02_ids, AP03_ids, AP04_ids, AP05_ids, AP06_ids, AP07_ids, AP08_ids, AP09_ids, AP10_ids, AP11_ids]\n",
    "ids = [j for i in ids for j in i]\n",
    "print('total new pmids found across all searches : {}'.format(len(ids)))\n",
    "\n",
    "# excluding most general search.\n",
    "ids = [AP01_ids, AP02_ids, AP03_ids, AP04_ids, AP05_ids, AP06_ids, AP07_ids, AP08_ids, AP09_ids, AP10_ids, AP11_ids]\n",
    "ids = [j for i in ids for j in i]\n",
    "dups = [item for item, count in collections.Counter(ids).items() if count > 1]\n",
    "print('duplicate pmids found across all searches : {}'.format(dups))\n",
    "\n",
    "ids = [AP01_ids, AP02_ids, AP03_ids, AP04_ids, AP05_ids, AP06_ids, AP07_ids, AP08_ids, AP09_ids, AP10_ids, AP11_ids]\n",
    "ids = [set(id_list) for id_list in ids]\n",
    "ids = set.union(*ids)\n",
    "print('unique new pmids found across all searches : {}'.format(len(ids)))"
   ]
  },
  {
   "cell_type": "markdown",
   "metadata": {},
   "source": [
    "### Found plenty new articles\n",
    "\n",
    "- total new pmids found across all but most general searches : \n",
    "  - 187\n",
    "- But actually retrieved and unique across Audtory Perception for annotation (see below): \n",
    "  - 146\n"
   ]
  },
  {
   "cell_type": "markdown",
   "metadata": {},
   "source": [
    "### Fetch the pdfs for each search term."
   ]
  },
  {
   "cell_type": "code",
   "execution_count": 50,
   "metadata": {
    "collapsed": false
   },
   "outputs": [
    {
     "data": {
      "text/plain": [
       "u'/Users/ccarey/Documents/Projects/NAMI/rdoc/pdfs/20160205_rdoc_project'"
      ]
     },
     "execution_count": 50,
     "metadata": {},
     "output_type": "execute_result"
    }
   ],
   "source": [
    "%pwd"
   ]
  },
  {
   "cell_type": "code",
   "execution_count": null,
   "metadata": {
    "collapsed": false
   },
   "outputs": [],
   "source": [
    "# 5th batch, Auditory perception, subterm...\n",
    "\n",
    "batch = '05'\n",
    "\n",
    "fetch_pdfs(AP01_ids, batch + '_AP01_')\n",
    "#fetch_pdfs(AP02_ids, batch + '_AP02_') # none available\n",
    "fetch_pdfs(AP03_ids, batch + '_AP03_')\n",
    "fetch_pdfs(AP04_ids, batch + '_AP04_')\n",
    "fetch_pdfs(AP05_ids, batch + '_AP05_')\n",
    "fetch_pdfs(AP06_ids, batch + '_AP06_')\n",
    "fetch_pdfs(AP07_ids, batch + '_AP07_')\n",
    "fetch_pdfs(AP08_ids, batch + '_AP08_')\n",
    "fetch_pdfs(AP09_ids, batch + '_AP09_')\n",
    "fetch_pdfs(AP10_ids, batch + '_AP10_')\n",
    "fetch_pdfs(AP11_ids, batch + '_AP11_')"
   ]
  },
  {
   "cell_type": "markdown",
   "metadata": {},
   "source": [
    "I then listed the possible duplicate IDs and removed the later occuring duplicates. i.e. if ID occurred in AP01 and AP04 I only kept the AP01 version."
   ]
  },
  {
   "cell_type": "code",
   "execution_count": 54,
   "metadata": {
    "collapsed": false
   },
   "outputs": [
    {
     "data": {
      "text/plain": [
       "146"
      ]
     },
     "execution_count": 54,
     "metadata": {},
     "output_type": "execute_result"
    }
   ],
   "source": [
    "all_found = glob.glob( './*.pdf')\n",
    "len(all_found)"
   ]
  },
  {
   "cell_type": "code",
   "execution_count": null,
   "metadata": {
    "collapsed": true
   },
   "outputs": [],
   "source": [
    "import collections\n",
    "\n",
    "def report_found(search_ids, glob_pattern, id_pattern):\n",
    "    '''Report the pmids found within the search set of files.'''\n",
    "    files = glob.glob(glob_pattern)\n",
    "    p = re.compile('[0-9]{8,8}')\n",
    "    found = [p.search(pdf).group() for pdf in files if p.search(pdf)]\n",
    "    not_found = set(search_ids).difference(found)\n",
    "    print()\n",
    "    #print('{} searched = {}'.format(len(search_ids), search_ids))\n",
    "    #print('{} found = {}'.format(len(found), found))\n",
    "    print('{} {} searched.'.format(len(search_ids), glob_pattern))\n",
    "    print('{} {} found.'.format(len(found), glob_pattern))\n",
    "    print('{} {} not_found = {}'.format(len(not_found), glob_pattern, not_found))\n",
    "    return(found)\n",
    "\n",
    "all_found_d = {}\n",
    "\n",
    "all_found_d['AP01'] = report_found(AP01_ids, glob_pattern='05_AP01_*', id_pattern='[0-9]{8,8}')\n",
    "all_found_d['AP03'] = report_found(AP03_ids, glob_pattern='05_AP03_*', id_pattern='[0-9]{8,8}')\n",
    "all_found_d['AP04'] = report_found(AP04_ids, glob_pattern='05_AP04_*', id_pattern='[0-9]{8,8}')\n",
    "all_found_d['AP05'] = report_found(AP05_ids, glob_pattern='05_AP05_*', id_pattern='[0-9]{8,8}')\n",
    "all_found_d['AP06'] = report_found(AP06_ids, glob_pattern='05_AP06_*', id_pattern='[0-9]{8,8}')\n",
    "all_found_d['AP07'] = report_found(AP07_ids, glob_pattern='05_AP07_*', id_pattern='[0-9]{8,8}')\n",
    "all_found_d['AP08'] = report_found(AP08_ids, glob_pattern='05_AP08_*', id_pattern='[0-9]{8,8}')\n",
    "all_found_d['AP09'] = report_found(AP09_ids, glob_pattern='05_AP09_*', id_pattern='[0-9]{8,8}')\n",
    "all_found_d['AP10'] = report_found(AP10_ids, glob_pattern='05_AP10_*', id_pattern='[0-9]{8,8}')\n",
    "all_found_d['AP11'] = report_found(AP11_ids, glob_pattern='05_AP11_*', id_pattern='[0-9]{8,8}')\n",
    "\n",
    "# print()\n",
    "# print('------- Reporting Found: ----------')\n",
    "# print()\n",
    "# print('{} Total found'.format(sum([len(v) for v in all_found_d.values()])))\n",
    "# print()\n",
    "all_found_d = collections.OrderedDict(sorted(all_found_d.items()))\n",
    "# for k,v in all_found_d.iteritems():\n",
    "#     print('{}: {}'.format(k, v))"
   ]
  },
  {
   "cell_type": "markdown",
   "metadata": {},
   "source": [
    "### Reported found or not found for batch 4\n",
    "53 05_AP01_* searched.\n",
    "38 05_AP01_* found.\n",
    "15 05_AP01_* not_found = set(['23242351', '21248117', '26142650', '21624926', '22279229', '25447378', '25173955', '23076102', '23042732', '24992584', '23015429', '21566197', '24336606', '26223716', '23148350'])\n",
    "\n",
    "7 05_AP03_* searched.\n",
    "4 05_AP03_* found.\n",
    "3 05_AP03_* not_found = set(['20861363', '23804092', '24401714'])\n",
    "\n",
    "2 05_AP04_* searched.\n",
    "2 05_AP04_* found.\n",
    "0 05_AP04_* not_found = set([])\n",
    "\n",
    "69 05_AP05_* searched.\n",
    "42 05_AP05_* found.\n",
    "27 05_AP05_* not_found = set(['23242351', '22171057', '24525177', '23042734', '23678108', '21500313', '22790547', '22815876', '22786953', '23954727', '25632143', '25379456', '23308266', '21823798', '26041921', '21625011', '21325518', '21368051', '20578033', '21068187', '23015429', '24336606', '25653372', '22508089', '21893681', '24055864', '21613485'])\n",
    "\n",
    "2 05_AP06_* searched.\n",
    "1 05_AP06_* found.\n",
    "1 05_AP06_* not_found = set(['24360035'])\n",
    "\n",
    "3 05_AP07_* searched.\n",
    "1 05_AP07_* found.\n",
    "2 05_AP07_* not_found = set(['23876286', '25387539'])\n",
    "\n",
    "8 05_AP08_* searched.\n",
    "5 05_AP08_* found.\n",
    "3 05_AP08_* not_found = set(['23810539', '25447378', '21625011'])\n",
    "\n",
    "50 05_AP09_* searched.\n",
    "41 05_AP09_* found.\n",
    "9 05_AP09_* not_found = set(['24158725', '24956028', '25948273', '22090489', '24771006', '24548430', '23076102', '21261633', '25259525'])\n",
    "\n",
    "1 05_AP10_* searched.\n",
    "1 05_AP10_* found.\n",
    "0 05_AP10_* not_found = set([])\n",
    "\n",
    "15 05_AP11_* searched.\n",
    "11 05_AP11_* found.\n",
    "4 05_AP11_* not_found = set(['23035108', '20633569', '22508089', '22464943'])\n",
    "\n",
    "------- Reporting Found: ----------\n",
    "\n",
    "146 Total found\n",
    "\n",
    "AP01: ['19929331', '20578033', '20665718', '20929535', '21368051', '21483666', '21750713', '21808660', '21823798', '22163029', '22213909', '22221004', '22551948', '22570723', '22815876', '22916282', '23028971', '23131615', '23241212', '23308266', '23585888', '23617597', '23708059', '23715097', '23825422', '23850664', '23886958', '23920129', '24143195', '24158725', '24366694', '24475052', '24548430', '24771006', '25178752', '25231619', '25342520', '25379456']\n",
    "\n",
    "AP03: ['21159322', '21500313', '22496909', '23777481']\n",
    "\n",
    "AP04: ['22786953', '25710328']\n",
    "\n",
    "AP05: ['20146608', '20493828', '20598152', '20633569', '21233780', '21261633', '21305666', '21380858', '21807011', '21958655', '22367585', '22464943', '22547804', '22592306', '22628458', '22735387', '22773777', '22885999', '23071654', '23145143', '23251704', '23281832', '23301775', '23316957', '23326548', '23616340', '23624493', '23647558', '23664703', '23827717', '23935931', '23988583', '24072639', '24119225', '24314010', '24423729', '24695717', '24956028', '25245785', '25259525', '25535356', '25948269']\n",
    "\n",
    "AP06: ['22803512']\n",
    "\n",
    "AP07: ['25231612']\n",
    "\n",
    "AP08: ['21909378', '22390292', '23664001', '24974346', '24996043']\n",
    "\n",
    "AP09: ['20541597', '20826671', '20844143', '20975559', '21196054', '21209201', '21355664', '21387016', '21428515', '21945789', '22036957', '22280585', '22371616', '22371619', '22371621', '22612172', '22753470', '22829899', '22844509', '23029426', '23145699', '23423817', '23516340', '23527271', '23691185', '23825404', '23926291', '24003112', '24052177', '24239869', '24475030', '24478375', '24681354', '24711409', '24788808', '24821552', '24841996', '25433224', '25654748', '25659464', '25726262']\n",
    "\n",
    "AP10: ['22240459']\n",
    "\n",
    "AP11: ['20649227', '21131368', '22087275', '22384211', '22896044', '23716244', '24298171', '24736181', '24801767', '25024207', '25544613']"
   ]
  },
  {
   "cell_type": "markdown",
   "metadata": {},
   "source": [
    "#### Confirming we removed all duplicates"
   ]
  },
  {
   "cell_type": "code",
   "execution_count": 72,
   "metadata": {
    "collapsed": false
   },
   "outputs": [
    {
     "name": "stdout",
     "output_type": "stream",
     "text": [
      "True\n",
      "146\n"
     ]
    }
   ],
   "source": [
    "all_found = [v for k,v in all_found_d.items()]\n",
    "all_found = [item for sublist in all_found for item in sublist]\n",
    "print(len(all_found) == len(set(all_found)))\n",
    "print(len(all_found))"
   ]
  },
  {
   "cell_type": "code",
   "execution_count": 73,
   "metadata": {
    "collapsed": true
   },
   "outputs": [],
   "source": [
    "# 32 for everyone.\n",
    "# 38 unique to each of 3 annotators.\n",
    "import random\n",
    "files = glob.glob('05_AP*.pdf')\n",
    "idxs = range(len(files))\n",
    "random.shuffle(idxs)\n",
    "\n",
    "everyone = [files[idx] for idx in idxs[0:32]]\n",
    "mk = [files[idx] for idx in idxs[32:70]]\n",
    "cc = [files[idx] for idx in idxs[70:108]]\n",
    "tc = [files[idx] for idx in idxs[108:146]]"
   ]
  },
  {
   "cell_type": "code",
   "execution_count": null,
   "metadata": {
    "collapsed": true
   },
   "outputs": [],
   "source": [
    "def copy_to_annotator(files, annotator, suffix):\n",
    "    %mkdir {annotator}\n",
    "    %mkdir {annotator}/annotated\n",
    "    %mkdir {annotator}/irrelevant\n",
    "    for f in files:\n",
    "        f_dest = f.split('.')[0] + suffix\n",
    "        %cp {f} ./{annotator}/{f_dest}\n",
    "\n",
    "copy_to_annotator(mk, 'mk_', '_mk.pdf')\n",
    "copy_to_annotator(everyone, 'mk_', '_mk.pdf')\n",
    "\n",
    "# oops... gave tara exact same set as mk\n",
    "copy_to_annotator(mk, 'tc_', '_tc.pdf')\n",
    "copy_to_annotator(everyone, 'tc_', '_tc.pdf')\n",
    "\n",
    "# copy_to_annotator(cc, 'cc_', '_cc.pdf')\n",
    "# copy_to_annotator(everyone, 'cc_', '_cc.pdf')"
   ]
  },
  {
   "cell_type": "markdown",
   "metadata": {},
   "source": [
    "## Add the new abstracts to our medic database\n",
    "Insert fails if any are already in db.\n",
    "Update will overwrite previous records."
   ]
  },
  {
   "cell_type": "code",
   "execution_count": null,
   "metadata": {
    "collapsed": true
   },
   "outputs": [],
   "source": [
    "print(len(all_found))\n",
    "print(all_found)"
   ]
  },
  {
   "cell_type": "markdown",
   "metadata": {
    "collapsed": false
   },
   "source": [
    "146\n",
    "['19929331', '20578033', '20665718', '20929535', '21368051', '21483666', '21750713', '21808660', '21823798', '22163029', '22213909', '22221004', '22551948', '22570723', '22815876', '22916282', '23028971', '23131615', '23241212', '23308266', '23585888', '23617597', '23708059', '23715097', '23825422', '23850664', '23886958', '23920129', '24143195', '24158725', '24366694', '24475052', '24548430', '24771006', '25178752', '25231619', '25342520', '25379456', '21159322', '21500313', '22496909', '23777481', '22786953', '25710328', '20146608', '20493828', '20598152', '20633569', '21233780', '21261633', '21305666', '21380858', '21807011', '21958655', '22367585', '22464943', '22547804', '22592306', '22628458', '22735387', '22773777', '22885999', '23071654', '23145143', '23251704', '23281832', '23301775', '23316957', '23326548', '23616340', '23624493', '23647558', '23664703', '23827717', '23935931', '23988583', '24072639', '24119225', '24314010', '24423729', '24695717', '24956028', '25245785', '25259525', '25535356', '25948269', '22803512', '25231612', '21909378', '22390292', '23664001', '24974346', '24996043', '20541597', '20826671', '20844143', '20975559', '21196054', '21209201', '21355664', '21387016', '21428515', '21945789', '22036957', '22280585', '22371616', '22371619', '22371621', '22612172', '22753470', '22829899', '22844509', '23029426', '23145699', '23423817', '23516340', '23527271', '23691185', '23825404', '23926291', '24003112', '24052177', '24239869', '24475030', '24478375', '24681354', '24711409', '24788808', '24821552', '24841996', '25433224', '25654748', '25659464', '25726262', '22240459', '20649227', '21131368', '22087275', '22384211', '22896044', '23716244', '24298171', '24736181', '24801767', '25024207', '25544613']\n"
   ]
  },
  {
   "cell_type": "code",
   "execution_count": 83,
   "metadata": {
    "collapsed": false
   },
   "outputs": [],
   "source": [
    "cmd = ' '.join(all_found)"
   ]
  },
  {
   "cell_type": "code",
   "execution_count": 84,
   "metadata": {
    "collapsed": false,
    "scrolled": true
   },
   "outputs": [],
   "source": [
    "!medic update {cmd} 2> /dev/null"
   ]
  },
  {
   "cell_type": "code",
   "execution_count": null,
   "metadata": {
    "collapsed": true
   },
   "outputs": [],
   "source": [
    "!medic --format tsv write ALL 2> /dev/null | cut -f1 | wc # 3359"
   ]
  },
  {
   "cell_type": "markdown",
   "metadata": {},
   "source": [
    "## Save these new ids to a file"
   ]
  },
  {
   "cell_type": "code",
   "execution_count": 86,
   "metadata": {
    "collapsed": false
   },
   "outputs": [],
   "source": [
    "batch_05_fname = '/Users/ccarey/Documents/Projects/NAMI/rdoc/tasks/task_data_temp/batch_05_AP_pmids'\n",
    "with open(batch_05_fname, 'wb') as f:\n",
    "    for pmid in all_found:\n",
    "        f.write(pmid + '\\n')"
   ]
  },
  {
   "cell_type": "code",
   "execution_count": 90,
   "metadata": {
    "collapsed": false
   },
   "outputs": [
    {
     "name": "stdout",
     "output_type": "stream",
     "text": [
      "     146     146    1314\r\n"
     ]
    }
   ],
   "source": [
    "# confirm we have 146 new abstracts\n",
    "!medic --format tsv write --pmid-list {batch_05_fname} 2> /dev/null | cut -f1 | wc"
   ]
  },
  {
   "cell_type": "code",
   "execution_count": null,
   "metadata": {
    "collapsed": true
   },
   "outputs": [],
   "source": []
  },
  {
   "cell_type": "markdown",
   "metadata": {},
   "source": [
    "# Noted mistake, accidentally gave entirely same set to everyone.\n",
    "desired:\n",
    "- 32 for everyone.\n",
    "- 38 unique to each of 3 annotators.\n",
    "\n",
    "- don't change mk\n",
    "- change Taras (but keep those she has already done as part of the 'common' set.)\n",
    "- change Chucks\n",
    "- add in common set to Janet\n"
   ]
  },
  {
   "cell_type": "code",
   "execution_count": 172,
   "metadata": {
    "collapsed": true
   },
   "outputs": [],
   "source": [
    "\n",
    "import re\n",
    "import os\n",
    "import glob\n",
    "import collections\n",
    "import random\n",
    "random.seed(0)\n",
    "\n",
    "pattern = '([0-9]{8,8})'\n",
    "p = re.compile(pattern)"
   ]
  },
  {
   "cell_type": "code",
   "execution_count": 173,
   "metadata": {
    "collapsed": false
   },
   "outputs": [
    {
     "name": "stdout",
     "output_type": "stream",
     "text": [
      "11\n",
      "['23071654', '23850664', '24801767', '23647558', '23777481', '23585888', '22464943', '24788808', '23827717', '22496909', '22803512', '23886958', '23617597', '21387016', '23825422', '22829899', '21909378', '22240459', '22896044', '21355664', '22367585', '19929331', '20578033', '20929535', '21368051', '21483666', '21808660', '22221004', '22551948', '22570723', '23028971', '23131615']\n"
     ]
    }
   ],
   "source": [
    "random.seed(0)\n",
    "pmids = ['19929331', '20578033', '20665718', '20929535', '21368051', '21483666', '21750713', '21808660', '21823798', '22163029', '22213909', '22221004', '22551948', '22570723', '22815876', '22916282', '23028971', '23131615', '23241212', '23308266', '23585888', '23617597', '23708059', '23715097', '23825422', '23850664', '23886958', '23920129', '24143195', '24158725', '24366694', '24475052', '24548430', '24771006', '25178752', '25231619', '25342520', '25379456', '21159322', '21500313', '22496909', '23777481', '22786953', '25710328', '20146608', '20493828', '20598152', '20633569', '21233780', '21261633', '21305666', '21380858', '21807011', '21958655', '22367585', '22464943', '22547804', '22592306', '22628458', '22735387', '22773777', '22885999', '23071654', '23145143', '23251704', '23281832', '23301775', '23316957', '23326548', '23616340', '23624493', '23647558', '23664703', '23827717', '23935931', '23988583', '24072639', '24119225', '24314010', '24423729', '24695717', '24956028', '25245785', '25259525', '25535356', '25948269', '22803512', '25231612', '21909378', '22390292', '23664001', '24974346', '24996043', '20541597', '20826671', '20844143', '20975559', '21196054', '21209201', '21355664', '21387016', '21428515', '21945789', '22036957', '22280585', '22371616', '22371619', '22371621', '22612172', '22753470', '22829899', '22844509', '23029426', '23145699', '23423817', '23516340', '23527271', '23691185', '23825404', '23926291', '24003112', '24052177', '24239869', '24475030', '24478375', '24681354', '24711409', '24788808', '24821552', '24841996', '25433224', '25654748', '25659464', '25726262', '22240459', '20649227', '21131368', '22087275', '22384211', '22896044', '23716244', '24298171', '24736181', '24801767', '25024207', '25544613']\n",
    "\n",
    "tc_done = glob.glob('/Users/ccarey/Dropbox/20150828_rdoc_project/tc_/annotated/05_AP*.pdf')\n",
    "tc_done = [os.path.basename(tc) for tc in tc_done]\n",
    "tc_done_ids = [p.search(pdf).group() for pdf in tc_done if p.search(pdf)]\n",
    "tc_all = glob.glob('/Users/ccarey/Dropbox/20150828_rdoc_project/tc_/05_AP*.pdf')\n",
    "tc_all = [os.path.basename(tc) for tc in tc_all]\n",
    "tc_all_ids = [p.search(pdf).group() for pdf in tc_all if p.search(pdf)]\n",
    "# Tara did 11 already\n",
    "print(len(tc_done_ids))\n",
    "tc_not_done = [tc for tc in tc_all_ids if tc not in tc_done_ids]\n",
    "random.shuffle(tc_not_done)\n",
    "tc_more_common = tc_not_done[0:21]\n",
    "tc_all_common = tc_more_common + tc_done_ids\n",
    "everyone = tc_all_common\n",
    "print(everyone)"
   ]
  },
  {
   "cell_type": "code",
   "execution_count": 174,
   "metadata": {
    "collapsed": false
   },
   "outputs": [],
   "source": [
    "everyone = ['23071654', '23850664', '24801767', '23647558', '23777481', '23585888', '22464943', '24788808', '23827717', '22496909', '22803512', '23886958', '23617597', '21387016', '23825422', '22829899', '21909378', '22240459', '22896044', '21355664', '22367585', '19929331', '20578033', '20929535', '21368051', '21483666', '21808660', '22221004', '22551948', '22570723', '23028971', '23131615']"
   ]
  },
  {
   "cell_type": "code",
   "execution_count": 168,
   "metadata": {
    "collapsed": false
   },
   "outputs": [
    {
     "data": {
      "text/plain": [
       "u'/Users/ccarey/Documents/Projects/NAMI/rdoc/pdfs/20160205_rdoc_project'"
      ]
     },
     "execution_count": 168,
     "metadata": {},
     "output_type": "execute_result"
    }
   ],
   "source": [
    "# fixing TC\n",
    "%pwd"
   ]
  },
  {
   "cell_type": "code",
   "execution_count": 175,
   "metadata": {
    "collapsed": false
   },
   "outputs": [
    {
     "name": "stdout",
     "output_type": "stream",
     "text": [
      "['23071654', '23850664', '24801767', '23647558', '23777481', '23585888', '22464943', '24788808', '23827717', '22496909', '22803512', '23886958', '23617597', '21387016', '23825422', '22829899', '21909378', '22240459', '22896044', '21355664', '22367585', '19929331', '20578033', '20929535', '21368051', '21483666', '21808660', '22221004', '22551948', '22570723', '23028971', '23131615']\n",
      "32\n"
     ]
    }
   ],
   "source": [
    "def copy_to_annotator(files, annotator, suffix):\n",
    "    %mkdir {annotator}\n",
    "    %mkdir {annotator}/annotated\n",
    "    %mkdir {annotator}/irrelevant\n",
    "    for f in files:\n",
    "        f_dest = f.split('.')[0] + suffix\n",
    "        %cp {f} ./{annotator}/{f_dest}\n",
    "\n",
    "print(everyone)\n",
    "print(len(everyone))\n",
    "everyone_files = [glob.glob('*' + e + '.pdf') for e in everyone]"
   ]
  },
  {
   "cell_type": "code",
   "execution_count": 179,
   "metadata": {
    "collapsed": false
   },
   "outputs": [],
   "source": [
    "# pmids # all pmids for batch 05\n",
    "mk_files = glob.glob('/Users/ccarey/Documents/Projects/NAMI/rdoc/pdfs/20160205_rdoc_project/out_20160205/mk_/*.pdf')\n",
    "mk_files = [os.path.basename(mk) for mk in mk_files]\n",
    "mk_ids = [p.search(pdf).group() for pdf in mk_files if p.search(pdf)]\n",
    "to_be_assigned = [pmid for pmid in pmids if pmid not in mk_ids and pmid not in everyone]"
   ]
  },
  {
   "cell_type": "code",
   "execution_count": 182,
   "metadata": {
    "collapsed": false
   },
   "outputs": [],
   "source": [
    "len(to_be_assigned)\n",
    "random.shuffle(to_be_assigned)"
   ]
  },
  {
   "cell_type": "markdown",
   "metadata": {},
   "source": [
    "76 unassigned pmids, assign 38 to TC, assign 38 to CC\n",
    "to_be_assigned"
   ]
  },
  {
   "cell_type": "code",
   "execution_count": 185,
   "metadata": {
    "collapsed": false
   },
   "outputs": [],
   "source": [
    "to_be_assigned_files = [glob.glob('*' + t + '.pdf') for t in to_be_assigned]"
   ]
  },
  {
   "cell_type": "code",
   "execution_count": 186,
   "metadata": {
    "collapsed": true
   },
   "outputs": [],
   "source": [
    "# flatten list of list (each inner list was a single pdf)\n",
    "everyone_files = [item for e in everyone_files for item in e]\n",
    "to_be_assigned_files = [item for t in to_be_assigned_files for item in t]"
   ]
  },
  {
   "cell_type": "code",
   "execution_count": 161,
   "metadata": {
    "collapsed": false
   },
   "outputs": [],
   "source": [
    "to_be_assigned_files = [item for t in to_be_assigned_files for item in t]"
   ]
  },
  {
   "cell_type": "code",
   "execution_count": 190,
   "metadata": {
    "collapsed": false
   },
   "outputs": [],
   "source": [
    "tc_uniq = to_be_assigned_files[0:38]\n",
    "cc_uniq = to_be_assigned_files[38:76]"
   ]
  },
  {
   "cell_type": "code",
   "execution_count": 191,
   "metadata": {
    "collapsed": false
   },
   "outputs": [
    {
     "name": "stdout",
     "output_type": "stream",
     "text": [
      "mkdir: tc_: File exists\n",
      "mkdir: tc_/annotated: File exists\n",
      "mkdir: tc_/irrelevant: File exists\n",
      "mkdir: tc_: File exists\n",
      "mkdir: tc_/annotated: File exists\n",
      "mkdir: tc_/irrelevant: File exists\n"
     ]
    }
   ],
   "source": [
    "copy_to_annotator(everyone_files, 'tc_', '_tc.pdf')\n",
    "copy_to_annotator(tc_uniq, 'tc_', '_tc.pdf')"
   ]
  },
  {
   "cell_type": "code",
   "execution_count": 192,
   "metadata": {
    "collapsed": false
   },
   "outputs": [
    {
     "name": "stdout",
     "output_type": "stream",
     "text": [
      "mkdir: cc_: File exists\n",
      "mkdir: cc_/annotated: File exists\n",
      "mkdir: cc_/irrelevant: File exists\n"
     ]
    }
   ],
   "source": [
    "copy_to_annotator(everyone_files, 'cc_', '_cc.pdf')\n",
    "copy_to_annotator(cc_uniq, 'cc_', '_cc.pdf')\n",
    "\n",
    "copy_to_annotator(everyone_files, 'jl_', '_jl.pdf')"
   ]
  },
  {
   "cell_type": "code",
   "execution_count": 58,
   "metadata": {
    "collapsed": false
   },
   "outputs": [
    {
     "name": "stdout",
     "output_type": "stream",
     "text": [
      "13\n",
      "['23193115', '23941878', '19929331', '20578033', '20929535', '21368051', '21483666', '21808660', '22221004', '22551948', '22570723', '23028971', '23131615']\n",
      "32\n"
     ]
    }
   ],
   "source": []
  },
  {
   "cell_type": "code",
   "execution_count": 20,
   "metadata": {
    "collapsed": false
   },
   "outputs": [
    {
     "name": "stdout",
     "output_type": "stream",
     "text": [
      "/Users/ccarey/Documents/Projects/NAMI/rdoc/pdfs/20160205_rdoc_project\n"
     ]
    },
    {
     "data": {
      "text/plain": [
       "Counter({'19929331': 3,\n",
       "         '20146608': 3,\n",
       "         '20541597': 3,\n",
       "         '20578033': 3,\n",
       "         '20633569': 3,\n",
       "         '20929535': 3,\n",
       "         '21131368': 3,\n",
       "         '21159322': 3,\n",
       "         '21196054': 3,\n",
       "         '21209201': 3,\n",
       "         '21233780': 3,\n",
       "         '21261633': 3,\n",
       "         '21355664': 3,\n",
       "         '21368051': 3,\n",
       "         '21387016': 3,\n",
       "         '21428515': 3,\n",
       "         '21483666': 3,\n",
       "         '21808660': 3,\n",
       "         '21909378': 3,\n",
       "         '21958655': 3,\n",
       "         '22087275': 3,\n",
       "         '22221004': 3,\n",
       "         '22240459': 3,\n",
       "         '22367585': 3,\n",
       "         '22371619': 3,\n",
       "         '22371621': 3,\n",
       "         '22390292': 3,\n",
       "         '22464943': 3,\n",
       "         '22496909': 3,\n",
       "         '22547804': 3,\n",
       "         '22551948': 3,\n",
       "         '22570723': 3,\n",
       "         '22628458': 3,\n",
       "         '22803512': 3,\n",
       "         '22829899': 3,\n",
       "         '22885999': 3,\n",
       "         '22896044': 3,\n",
       "         '23028971': 3,\n",
       "         '23071654': 3,\n",
       "         '23131615': 3,\n",
       "         '23241212': 3,\n",
       "         '23301775': 3,\n",
       "         '23516340': 3,\n",
       "         '23527271': 3,\n",
       "         '23585888': 3,\n",
       "         '23616340': 3,\n",
       "         '23617597': 3,\n",
       "         '23647558': 3,\n",
       "         '23708059': 3,\n",
       "         '23777481': 3,\n",
       "         '23825422': 3,\n",
       "         '23827717': 3,\n",
       "         '23850664': 3,\n",
       "         '23886958': 3,\n",
       "         '23935931': 3,\n",
       "         '24003112': 3,\n",
       "         '24072639': 3,\n",
       "         '24239869': 3,\n",
       "         '24475030': 3,\n",
       "         '24478375': 3,\n",
       "         '24681354': 3,\n",
       "         '24711409': 3,\n",
       "         '24788808': 3,\n",
       "         '24801767': 3,\n",
       "         '24841996': 3,\n",
       "         '25245785': 3,\n",
       "         '25259525': 3,\n",
       "         '25342520': 3,\n",
       "         '25544613': 3,\n",
       "         '25710328': 3})"
      ]
     },
     "execution_count": 20,
     "metadata": {},
     "output_type": "execute_result"
    }
   ],
   "source": [
    "dest_dir = '/Users/ccarey/Documents/Projects/NAMI/rdoc/pdfs/20160205_rdoc_project'\n",
    "%cd {dest_dir}\n",
    "pdfs = glob.glob('out_20160205/*/*.pdf')\n",
    "pdfs = [os.path.basename(p) for p in pdfs]\n",
    "pattern = '([0-9]{8,8})'\n",
    "p = re.compile(pattern)\n",
    "temp_ids = [p.search(pdf).group() for pdf in pdfs if p.search(pdf)]\n",
    "counter=collections.Counter(temp_ids)\n",
    "# noting mistake, accidentally gave all the same to everyone.\n",
    "counter"
   ]
  }
 ],
 "metadata": {
  "kernelspec": {
   "display_name": "Python 2",
   "language": "python",
   "name": "python2"
  },
  "language_info": {
   "codemirror_mode": {
    "name": "ipython",
    "version": 2
   },
   "file_extension": ".py",
   "mimetype": "text/x-python",
   "name": "python",
   "nbconvert_exporter": "python",
   "pygments_lexer": "ipython2",
   "version": "2.7.10"
  }
 },
 "nbformat": 4,
 "nbformat_minor": 0
}
