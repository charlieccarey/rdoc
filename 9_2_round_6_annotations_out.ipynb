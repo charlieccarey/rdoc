{
 "cells": [
  {
   "cell_type": "markdown",
   "metadata": {},
   "source": [
    "# Select and distribute additional Agency articles for phrase annotation"
   ]
  },
  {
   "cell_type": "markdown",
   "metadata": {},
   "source": [
    "## Goal is another topic.\n",
    "- A good number of annotations on this topic.\n",
    "- Phrase based annotation so we can be most flexible and assess at higher levels.\n",
    "\n",
    "Don't think we need replication across annotators. Just go for depth. We do have annotator cross validation pretty well covered for sleep / arousal / auditory perception terms."
   ]
  },
  {
   "cell_type": "code",
   "execution_count": 1,
   "metadata": {
    "collapsed": false
   },
   "outputs": [
    {
     "name": "stdout",
     "output_type": "stream",
     "text": [
      "mkdir: /Users/ccarey/Documents/Projects/NAMI/rdoc/pdfs/20160212_rdoc_project: File exists\n",
      "/Users/ccarey/Documents/Projects/NAMI/rdoc/pdfs/20160212_rdoc_project\n"
     ]
    }
   ],
   "source": [
    "dest_dir = '/Users/ccarey/Documents/Projects/NAMI/rdoc/pdfs/20160212_rdoc_project'\n",
    "%mkdir {dest_dir}\n",
    "%cd {dest_dir}"
   ]
  },
  {
   "cell_type": "markdown",
   "metadata": {},
   "source": [
    "### Get a list of all our previous pubmed ids used for agency.\n",
    "We'll only omit for annotation those that have been previously annotated for agency."
   ]
  },
  {
   "cell_type": "code",
   "execution_count": 2,
   "metadata": {
    "collapsed": false
   },
   "outputs": [
    {
     "name": "stdout",
     "output_type": "stream",
     "text": [
      "6 total PDFS\n"
     ]
    },
    {
     "data": {
      "text/plain": [
       "['02_AG00_01_NA1_jl_IRRELEVANT.pdf',\n",
       " '02_AG00_01_NA1_mk_IRRELEVANT.pdf',\n",
       " '02_AG00_05_NA5_cc_IRRELEVANT.pdf',\n",
       " '02_AG05_01_23928891_mk_ANNOTATED.pdf',\n",
       " '02_AG05_02_23744445_jl_ANNOTATED.pdf',\n",
       " '02_AG05_02_23744445_mk_ANNOTATED.pdf']"
      ]
     },
     "execution_count": 2,
     "metadata": {},
     "output_type": "execute_result"
    }
   ],
   "source": [
    "from __future__ import print_function\n",
    "import glob\n",
    "import os\n",
    "import re\n",
    "\n",
    "# annotated and processed previously(before our most recent 2 batches)\n",
    "prev_annotated_pdfs_dir = '/Users/ccarey/Documents/Projects/NAMI/rdoc/pdfs/all_pdfs_annotated_pmid_names/[0-9][0-9]_AG*.pdf'\n",
    "pdfs = glob.glob(prev_annotated_pdfs_dir)\n",
    "pdfs = [os.path.basename(pdf) for pdf in pdfs]\n",
    "print('{} total PDFS'.format(len(pdfs)))\n",
    "pdfs"
   ]
  },
  {
   "cell_type": "code",
   "execution_count": 3,
   "metadata": {
    "collapsed": false
   },
   "outputs": [
    {
     "name": "stdout",
     "output_type": "stream",
     "text": [
      "3 Total exisiting PMIDS\n",
      "2 Unique exisiting PMIDS\n"
     ]
    }
   ],
   "source": [
    "pattern = '([0-9]{6,9})'\n",
    "p = re.compile(pattern)\n",
    "prev_pmids = [p.search(pdf).group() for pdf in pdfs if p.search(pdf)]\n",
    "print('{} Total exisiting PMIDS'.format(len(prev_pmids)))\n",
    "prev_pmids = set(prev_pmids)\n",
    "print('{} Unique exisiting PMIDS'.format(len(prev_pmids)))\n",
    "#print(prev_pmids)"
   ]
  },
  {
   "cell_type": "markdown",
   "metadata": {
    "collapsed": false
   },
   "source": [
    "['23928891', '23744445']"
   ]
  },
  {
   "cell_type": "markdown",
   "metadata": {},
   "source": [
    "## Get new lists of pmids specific to topic"
   ]
  },
  {
   "cell_type": "code",
   "execution_count": 4,
   "metadata": {
    "collapsed": true
   },
   "outputs": [],
   "source": [
    "#from __future__ import print_function\n",
    "from Bio import Entrez\n",
    "from subprocess import check_call\n",
    "from shutil import copy2\n",
    "#import glob\n",
    "import time\n",
    "import imp\n",
    "import os\n",
    "url2p = imp.load_source('Url2PubmedPmcPdf', '/Users/ccarey/Documents/Projects/NAMI/rdoc/scripts/Url2PubmedPmcPdf.py')\n",
    "Entrez.email = \"charlieccarey@gmail.com\"\n",
    "\n",
    "def narrow_id_list(found_ids, omit_ids):\n",
    "    found_but_omit = list(set(found_ids) & set(omit_ids))\n",
    "    found_and_keep = list(set(found_ids) - set(omit_ids))\n",
    "    print('Removed this many ids: {}'.format(len(found_but_omit)))\n",
    "    return(found_and_keep)\n",
    "\n",
    "def pubmed_central_search_to_pubmed_id(search_string, retmax=20):\n",
    "    # verify how many records match\n",
    "    handle = Entrez.egquery(term=search_string)\n",
    "    record = Entrez.read(handle)\n",
    "    # maybe useful if we are dealing with 100s of ids and don't want to overwhelm server?\n",
    "    for row in record[\"eGQueryResult\"]:\n",
    "        if row[\"DbName\"] == \"pubmed\":\n",
    "            print(row[\"Count\"])\n",
    "    # fetch the ids for those records\n",
    "    handle = Entrez.esearch(db=\"pubmed\", retmax=retmax, term=search_string)\n",
    "    record = Entrez.read(handle)\n",
    "    pubmed_ids = record[\"IdList\"]\n",
    "    return(pubmed_ids)\n",
    "\n",
    "def fetch_pdfs(pubmed_ids, stub_name):\n",
    "    u = url2p.Url2PubmedPmcPdf(pubmed_ids)\n",
    "    urls = u.get_urls()\n",
    "    found = []\n",
    "    for url in urls:\n",
    "        if url['url'] is not None:\n",
    "            cmd = 'curl -L {} -o {}.pdf'.format(url['url'], stub_name + url['pubmed'])\n",
    "            # print(cmd)\n",
    "            check_call(cmd, shell = True)\n",
    "            time.sleep(10)\n",
    "            found.append(url['pubmed'])\n",
    "    return(found)\n",
    "\n",
    "# def copy_pdf_append_initials(initials):\n",
    "#     pdfs = glob.glob('*.pdf')\n",
    "#     for i in initials:\n",
    "#         os.mkdir(i)\n",
    "#         for p in pdfs:\n",
    "#             pi = p.replace('.pdf', '_' + i + '.pdf')\n",
    "#             copy2(p, os.path.join(i, pi))\n",
    "\n",
    "def search_and_summarize(search_name, query, omit_ids):\n",
    "    ids = pubmed_central_search_to_pubmed_id(query, retmax=1000000)\n",
    "    new_ids = narrow_id_list(ids, omit_ids)\n",
    "    print('{} search of pubmed found {} ids of which {} are new'.format(search_name, len(ids), len(new_ids)))\n",
    "    return(new_ids)"
   ]
  },
  {
   "cell_type": "markdown",
   "metadata": {},
   "source": [
    "### Desire to send out more articles. up to 60 per person.\n",
    "180 - 240 total articles desired.\n",
    "#### define new search terms as old ones from Aurelien's helper were mostly not good.\n",
    "control helplessness valence depression schizophrenia illusions volition\n",
    "moral framing experience control choice sense of control\n",
    "\n",
    "Paradigms:\n",
    "- Ford Corollary Discharge Paradigm \n",
    "- Identification of one’s own biological motion \n",
    "- illusions of will \n",
    "- Joy Stick manipulation (decoupling motor and sensory feedback)\n",
    "- Reality Monitoring \n",
    "\n",
    "\n",
    "common to all, use as suffix\n",
    "\n",
    "- ' AND (\"humans\"[MeSH Terms] OR \"humans\"[All Fields] OR \"human\"[All Fields]) AND \"loattrfree full text\"[sb] AND (\"2011/01/31\"[PDAT] : \"2016/01/29\"[PDAT])'\n",
    "\n",
    "pubmed => \"illusion of will\" (phrase not found)\n",
    "\n",
    "returns:\n",
    "- (\"illusions\"[MeSH Terms] OR \"illusions\"[All Fields] OR \"illusion\"[All Fields]) AND (\"volition\"[MeSH Terms] OR \"volition\"[All Fields] OR \"will\"[All Fields]))\n",
    "\n",
    "reality monitoring\n",
    "\n",
    "- \"Reality Monitoring\"[All Fields]\n",
    "\n",
    "corollary discharge paradigm\n",
    "\n",
    "- \"corollary discharge\"[All Fields] AND (\"hallucinations\"[MeSH Terms] OR \"hallucinations\"[All Fields] OR \"hallucination\"[All Fields])\n",
    "\n",
    "- \"corollary discharge\"[All Fields] AND (\"schizophrenia\"[MeSH Terms] OR \"schizophrenia\"[All Fields])\n",
    "\n",
    "- (\"humans\"[MeSH Terms] OR \"humans\"[All Fields] OR \"human\"[All Fields]) AND (Corollary[All Fields] AND \"discharge\"[All Fields]) OR (\"corollary discharge\"[All Fields]) AND Paradigm[All Fields])) AND \"loattrfree full text\"[sb]\n",
    "\n",
    "more genearl using volition\n",
    "\n",
    "- AND \"agency\"[All Fields] AND ((\"volition\"[MeSH Terms] OR \"volition\"[All Fields]) AND (\"psychology\"[Subheading] OR \"psychology\"[All Fields] OR \"psychology\"[MeSH Terms]))\n",
    "\n",
    "Trying to get more general agency\n",
    "- \"perception\"[MeSH Terms] AND agency[All Fields]"
   ]
  },
  {
   "cell_type": "code",
   "execution_count": null,
   "metadata": {
    "collapsed": true
   },
   "outputs": [],
   "source": [
    "# These were from preliminary work by Aurelien etc but mostly no good.\n",
    "# AG00 = '\"agency\"[All Fields] AND (\"loattrfree full text\"[sb] AND \"2010/06/24\"[PDat] : \"2015/06/22\"[PDat] AND \"humans\"[MeSH Terms])'\n",
    "# AG01 = '((\"scalp\"[MeSH Terms] OR \"scalp\"[All Fields]) AND motor[All Fields] AND potentials[All Fields]) AND \"agency\"[All Fields] AND (\"loattrfree full text\"[sb] AND \"2010/06/24\"[PDat] : \"2015/06/22\"[PDat] AND \"humans\"[MeSH Terms])'\n",
    "# AG02 = '(perpetual[All Fields] AND aberration[All Fields] AND (\"weights and measures\"[MeSH Terms] OR (\"weights\"[All Fields] AND \"measures\"[All Fields]) OR \"weights and measures\"[All Fields] OR \"scale\"[All Fields])) AND \"agency\"[All Fields] AND (\"loattrfree full text\"[sb] AND \"2010/06/24\"[PDat] : \"2015/06/22\"[PDat] AND \"humans\"[MeSH Terms])'\n",
    "# AG03 = '((\"identification (psychology)\"[MeSH Terms] OR (\"identification\"[All Fields] AND \"(psychology)\"[All Fields]) OR \"identification (psychology)\"[All Fields] OR \"identification\"[All Fields]) AND one's[All Fields] AND own[All Fields] AND (\"biology\"[MeSH Terms] OR \"biology\"[All Fields] OR \"biological\"[All Fields]) AND (\"motion\"[MeSH Terms] OR \"motion\"[All Fields])) AND \"agency\"[All Fields] AND (\"loattrfree full text\"[sb] AND \"2010/06/24\"[PDat] : \"2015/06/22\"[PDat] AND \"humans\"[MeSH Terms])'\n",
    "# AG04 = '(Joy[All Fields] AND Stick[All Fields] AND manipulation[All Fields]) AND \"agency\"[All Fields] AND (\"loattrfree full text\"[sb] AND \"2010/06/24\"[PDat] : \"2015/06/22\"[PDat] AND \"humans\"[MeSH Terms])'\n",
    "# AG05 = '((\"illusions\"[MeSH Terms] OR \"illusions\"[All Fields]) AND (\"volition\"[MeSH Terms] OR \"volition\"[All Fields] OR \"will\"[All Fields])) AND \"agency\"[All Fields] AND (\"loattrfree full text\"[sb] AND \"2010/06/24\"[PDat] : \"2015/06/22\"[PDat] AND \"humans\"[MeSH Terms])'\n",
    "# AG06 = '(Ford[All Fields] AND Corollary[All Fields] AND (\"patient discharge\"[MeSH Terms] OR (\"patient\"[All Fields] AND \"discharge\"[All Fields]) OR \"patient discharge\"[All Fields] OR \"discharge\"[All Fields]) AND Paradigm[All Fields]) AND \"agency\"[All Fields] AND (\"loattrfree full text\"[sb] AND \"2010/06/24\"[PDat] : \"2015/06/22\"[PDat] AND \"humans\"[MeSH Terms])'\n",
    "# AG07 = '\"reality monitoring\"[All Fields] AND \"agency\"[All Fields] AND (\"loattrfree full text\"[sb] AND \"2010/06/24\"[PDat] : \"2015/06/22\"[PDat] AND \"humans\"[MeSH Terms])'"
   ]
  },
  {
   "cell_type": "code",
   "execution_count": 5,
   "metadata": {
    "collapsed": true
   },
   "outputs": [],
   "source": [
    "search_filter = '(\"humans\"[MeSH Terms] OR \"humans\"[All Fields] OR \"human\"[All Fields]) AND \"loattrfree full text\"[sb] AND (\"2011/01/31\"[PDAT] : \"2016/01/29\"[PDAT]) AND '\n",
    "\n",
    "AG08 = search_filter + '(\"illusions\"[MeSH Terms] OR \"illusions\"[All Fields] OR \"illusion\"[All Fields]) AND (\"volition\"[MeSH Terms] OR \"volition\"[All Fields] OR \"will\"[All Fields])'\n",
    "AG09 = search_filter + '\"Reality Monitoring\"[All Fields]'\n",
    "AG10 = search_filter + '\"corollary discharge\"[All Fields] AND (\"hallucinations\"[MeSH Terms] OR \"hallucinations\"[All Fields] OR \"hallucination\"[All Fields])'\n",
    "AG11 = search_filter + '\"corollary discharge\"[All Fields] AND (\"schizophrenia\"[MeSH Terms] OR \"schizophrenia\"[All Fields])'\n",
    "AG12 = search_filter + '(Corollary[All Fields] AND \"discharge\"[All Fields]) OR (\"corollary discharge\"[All Fields] AND Paradigm[All Fields])'\n",
    "AG13 = search_filter + '\"agency\"[All Fields] AND ((\"volition\"[MeSH Terms] OR \"volition\"[All Fields]) AND (\"psychology\"[Subheading] OR \"psychology\"[All Fields] OR \"psychology\"[MeSH Terms]))'\n",
    "AG14 = search_filter + '\"perception\"[MeSH Terms] AND agency[All Fields]'"
   ]
  },
  {
   "cell_type": "code",
   "execution_count": 6,
   "metadata": {
    "collapsed": false,
    "scrolled": true
   },
   "outputs": [
    {
     "name": "stdout",
     "output_type": "stream",
     "text": [
      "27\n",
      "Removed this many ids: 2\n",
      "AG08 search of pubmed found 27 ids of which 25 are new\n",
      "8\n",
      "Removed this many ids: 0\n",
      "AG09 search of pubmed found 8 ids of which 8 are new\n",
      "3\n",
      "Removed this many ids: 0\n",
      "AG10 search of pubmed found 3 ids of which 3 are new\n",
      "13\n",
      "Removed this many ids: 0\n",
      "AG11 search of pubmed found 13 ids of which 13 are new\n",
      "44\n",
      "Removed this many ids: 0\n",
      "AG12 search of pubmed found 44 ids of which 44 are new\n",
      "4\n",
      "Removed this many ids: 0\n",
      "AG13 search of pubmed found 4 ids of which 4 are new\n",
      "86\n",
      "Removed this many ids: 2\n",
      "AG14 search of pubmed found 86 ids of which 84 are new\n"
     ]
    }
   ],
   "source": [
    "AG08_ids = search_and_summarize(search_name='AG08', query=AG08, omit_ids=prev_pmids)\n",
    "AG09_ids = search_and_summarize(search_name='AG09', query=AG09, omit_ids=prev_pmids)\n",
    "AG10_ids = search_and_summarize(search_name='AG10', query=AG10, omit_ids=prev_pmids)\n",
    "AG11_ids = search_and_summarize(search_name='AG11', query=AG11, omit_ids=prev_pmids)\n",
    "AG12_ids = search_and_summarize(search_name='AG12', query=AG12, omit_ids=prev_pmids)\n",
    "AG13_ids = search_and_summarize(search_name='AG13', query=AG13, omit_ids=prev_pmids)\n",
    "AG14_ids = search_and_summarize(search_name='AG14', query=AG14, omit_ids=prev_pmids)"
   ]
  },
  {
   "cell_type": "raw",
   "metadata": {},
   "source": [
    "27\n",
    "Removed this many ids: 2\n",
    "AG08 search of pubmed found 27 ids of which 25 are new\n",
    "8\n",
    "Removed this many ids: 0\n",
    "AG09 search of pubmed found 8 ids of which 8 are new\n",
    "3\n",
    "Removed this many ids: 0\n",
    "AG10 search of pubmed found 3 ids of which 3 are new\n",
    "13\n",
    "Removed this many ids: 0\n",
    "AG11 search of pubmed found 13 ids of which 13 are new\n",
    "43\n",
    "Removed this many ids: 0\n",
    "AG12 search of pubmed found 43 ids of which 43 are new\n",
    "4\n",
    "Removed this many ids: 0\n",
    "AG13 search of pubmed found 4 ids of which 4 are new\n",
    "86\n",
    "Removed this many ids: 2\n",
    "AG14 search of pubmed found 86 ids of which 84 are new"
   ]
  },
  {
   "cell_type": "markdown",
   "metadata": {},
   "source": [
    "Found 180 new ids, 163 uniquely."
   ]
  },
  {
   "cell_type": "code",
   "execution_count": 7,
   "metadata": {
    "collapsed": false
   },
   "outputs": [
    {
     "name": "stdout",
     "output_type": "stream",
     "text": [
      "total new pmids found across all searches : 181\n",
      "duplicate pmids found across all searches : ['26156994', '22970130', '23155183', '21890745', '21959054', '21543355', '24786597', '24695696', '22242165', '22079494', '23754836', '21993915', '21972276', '20418446']\n",
      "unique new pmids found across all searches : 164\n",
      "Ids that are not 8 digits long : ['3783224', '9167517']\n"
     ]
    }
   ],
   "source": [
    "import collections\n",
    "\n",
    "ids = [AG08_ids, AG09_ids, AG10_ids, AG11_ids, AG12_ids, AG13_ids, AG14_ids]\n",
    "ids = [pmid for pmids in ids for pmid in pmids]\n",
    "print('total new pmids found across all searches : {}'.format(len(ids)))\n",
    "\n",
    "dups = [item for item, count in collections.Counter(ids).items() if count > 1]\n",
    "print('duplicate pmids found across all searches : {}'.format(dups))\n",
    "\n",
    "ids = set(ids)\n",
    "print('unique new pmids found across all searches : {}'.format(len(ids)))\n",
    "\n",
    "print('Ids that are not 8 digits long : {}'.format([id for id in ids if len(id) < 8 or len(id) > 8]))"
   ]
  },
  {
   "cell_type": "markdown",
   "metadata": {},
   "source": [
    "### Found plenty new articles\n",
    "\n",
    "- total new pmids found across all but most general searches : \n",
    "  - 180\n",
    "- total unique pmids across :\n",
    "  - 163\n",
    "- total retrieved as pdfs :\n",
    "  - 134\n",
    "- total unique pdfs by pmid retrieved (removing alphanumerically last ones) :\n",
    "  - 117 (118 but 1 not downloadable as pdf)"
   ]
  },
  {
   "cell_type": "markdown",
   "metadata": {},
   "source": [
    "### Attempt to fetch the pdfs for each search term."
   ]
  },
  {
   "cell_type": "code",
   "execution_count": 8,
   "metadata": {
    "collapsed": false
   },
   "outputs": [
    {
     "data": {
      "text/plain": [
       "u'/Users/ccarey/Documents/Projects/NAMI/rdoc/pdfs/20160212_rdoc_project'"
      ]
     },
     "execution_count": 8,
     "metadata": {},
     "output_type": "execute_result"
    }
   ],
   "source": [
    "%pwd"
   ]
  },
  {
   "cell_type": "code",
   "execution_count": null,
   "metadata": {
    "collapsed": false
   },
   "outputs": [],
   "source": [
    "batch = '06'\n",
    "fetch_pdfs(AG08_ids, batch + '_AG08_')\n",
    "fetch_pdfs(AG09_ids, batch + '_AG09_')\n",
    "fetch_pdfs(AG10_ids, batch + '_AG10_')\n",
    "fetch_pdfs(AG11_ids, batch + '_AG11_')\n",
    "fetch_pdfs(AG12_ids, batch + '_AG12_')\n",
    "fetch_pdfs(AG13_ids, batch + '_AG13_')\n",
    "fetch_pdfs(AG14_ids, batch + '_AG14_')\n"
   ]
  },
  {
   "cell_type": "markdown",
   "metadata": {},
   "source": [
    "I then listed the possible duplicate IDs and removed the later occuring duplicates. i.e. if ID occurred in AP01 and AP04 I only kept the AP01 version."
   ]
  },
  {
   "cell_type": "code",
   "execution_count": null,
   "metadata": {
    "collapsed": false
   },
   "outputs": [],
   "source": [
    "all_found = glob.glob( './*.pdf')\n",
    "print('total pdfs downloaded : {}'.format(len(all_found)))\n",
    "p = re.compile('[0-9]{7,8}')\n",
    "pmids_found = [p.search(pdf).group() for pdf in all_found if p.search(pdf)]\n",
    "print('total unique pdfs downloaded by pmid : {}'.format(len(set(pmids_found))))\n",
    "dups_found = [(item, count) for item, count in collections.Counter(pmids_found).items() if count > 1]\n",
    "print('Duplicate pmids downloaded : {}'.format(dups_found))\n",
    "p = re.compile('.*([0-9]{7,8}).*')\n",
    "dups = []\n",
    "to_remove = []\n",
    "for pmid_count in dups_found:\n",
    "    files = glob.glob('*' + pmid_count[0] + '.*pdf')\n",
    "    dups.append(files)\n",
    "    to_remove.append(files[1:])\n",
    "print('duplicate pmids : ')\n",
    "for d in dups:\n",
    "    print(d)\n",
    "print('removing alphanumerically last of duplicate which are : ')\n",
    "for r in to_remove:\n",
    "    r_str = ' '.join(r)\n",
    "    #print(r_str)\n",
    "    %rm {r_str}"
   ]
  },
  {
   "cell_type": "code",
   "execution_count": null,
   "metadata": {
    "collapsed": false
   },
   "outputs": [],
   "source": [
    "# verify count after removal\n",
    "all_found = glob.glob( './*.pdf')\n",
    "p = re.compile('[0-9]{7,8}')\n",
    "pmids_found = [p.search(pdf).group() for pdf in all_found if p.search(pdf)]\n",
    "print('total unique pdfs downloaded by pmid : {}'.format(len(set(pmids_found))))\n",
    "dups_found = [(item, count) for item, count in collections.Counter(pmids_found).items() if count > 1]\n",
    "print('Duplicate pmids downloaded : {}'.format(dups_found))"
   ]
  },
  {
   "cell_type": "markdown",
   "metadata": {},
   "source": [
    "## Manually scan all pdfs for broken pdfs\n",
    "Seems to happen with some journals for which you have to go to journal website to obtain the full pdf.\n",
    "\n",
    "These were broken and manually refetched:\n",
    "- 06_AG09_24125858.pdf\n",
    "- 06_AG10_21972276.pdf\n",
    "- 06_AG12_19776364.pdf\n",
    "- 06_AG12_23986562.pdf\n",
    "- 06_AG13_21920777.pdf\n",
    "- 06_AG14_22178504.pdf\n",
    "- 06_AG14_24333539.pdf\n",
    "- 06_AG14_24555983.pdf\n",
    "- ( Only paywall found, and irrelevant so discarding:  \n",
    "  06_AG14_26356380.pdf )"
   ]
  },
  {
   "cell_type": "code",
   "execution_count": 9,
   "metadata": {
    "collapsed": false
   },
   "outputs": [
    {
     "data": {
      "text/plain": [
       "206"
      ]
     },
     "execution_count": 9,
     "metadata": {},
     "output_type": "execute_result"
    }
   ],
   "source": [
    "# Confirm remaining\n",
    "len(glob.glob( './*.pdf'))"
   ]
  },
  {
   "cell_type": "code",
   "execution_count": null,
   "metadata": {
    "collapsed": true
   },
   "outputs": [],
   "source": [
    "%rm 06_AG14_26356380.pdf"
   ]
  },
  {
   "cell_type": "code",
   "execution_count": null,
   "metadata": {
    "collapsed": false
   },
   "outputs": [],
   "source": [
    "# 30 identical for each of 3 annotators\n",
    "# 30, 30, 29 unique to each of 3 annotators.\n",
    "import random\n",
    "random.seed(0)\n",
    "files = glob.glob('06_AG*.pdf')\n",
    "idxs = range(len(files))\n",
    "random.shuffle(idxs)\n",
    "\n",
    "everyone = [files[idx] for idx in idxs[0:30]]\n",
    "mk = [files[idx] for idx in idxs[30:60]]\n",
    "tc = [files[idx] for idx in idxs[60:89]]\n",
    "cc = [files[idx] for idx in idxs[89:117]]"
   ]
  },
  {
   "cell_type": "code",
   "execution_count": null,
   "metadata": {
    "collapsed": false
   },
   "outputs": [],
   "source": [
    "def copy_to_annotator(files, annotator, suffix):\n",
    "    %mkdir {annotator}\n",
    "    %mkdir {annotator}/annotated\n",
    "    %mkdir {annotator}/irrelevant\n",
    "    for f in files:\n",
    "        f_dest = f.split('.')[0] + suffix\n",
    "        %cp {f} ./{annotator}/{f_dest}\n",
    "\n",
    "copy_to_annotator(everyone, 'mk_', '_mk.pdf')\n",
    "copy_to_annotator(mk, 'mk_', '_mk.pdf')\n",
    "\n",
    "copy_to_annotator(everyone, 'tc_', '_tc.pdf')\n",
    "copy_to_annotator(tc, 'tc_', '_tc.pdf')\n",
    "\n",
    "copy_to_annotator(everyone, 'cc_', '_cc.pdf')\n",
    "copy_to_annotator(cc, 'cc_', '_cc.pdf')"
   ]
  },
  {
   "cell_type": "markdown",
   "metadata": {},
   "source": [
    "### Also add to Tara's her previously broken pdfs\n",
    "- 05_AP04_22786953_tc.pdf\n",
    "- 05_AP05_22592306_tc.pdf\n",
    "- 05_AP07_25231612_tc.pdf\n",
    "- 05_AP09_21945789_tc.pdf"
   ]
  },
  {
   "cell_type": "markdown",
   "metadata": {},
   "source": [
    "## TODO: Add the new abstracts to our medic database\n",
    "Insert fails if any are already in db.\n",
    "Update will overwrite previous records."
   ]
  },
  {
   "cell_type": "code",
   "execution_count": null,
   "metadata": {
    "collapsed": false
   },
   "outputs": [],
   "source": [
    "print(len(files))\n",
    "#print(files)\n",
    "print(len(ids))\n",
    "print(len(set(ids)))\n",
    "# print(len(prev_pmids)) # 2\n",
    "print('----')\n",
    "prev_pmids = list(prev_pmids)\n",
    "prev_pmids.extend(ids)\n",
    "print(len(set(prev_pmids)))"
   ]
  },
  {
   "cell_type": "markdown",
   "metadata": {},
   "source": [
    "## add a few additional agency searches proposed by MK\n",
    "1. \"Sense of Agency\"\n",
    "\n",
    "2. \"Illusion of Ownership\"\n",
    "\n",
    "3. \"Feeling of Myness\"\n",
    "\n",
    "4. \"Feeling of Agency\"\n",
    "\n",
    "Do not include if already attempted. (Note modified prev_pmids to include the AG08-AG14 searches.)\n",
    "\n",
    "Matt later identified additional terms we are not extracting to pdfs here:\n",
    "\n",
    "- asomatognosia\n",
    "- proprioceptive drift"
   ]
  },
  {
   "cell_type": "code",
   "execution_count": 10,
   "metadata": {
    "collapsed": false
   },
   "outputs": [],
   "source": [
    "AG15 = search_filter + '\"sense of agency\"[All Fields]'\n",
    "\n",
    "AG16 = search_filter + '\"illusion of ownership\"[All Fields]'\n",
    "AG17 = search_filter + '\"illusion\"[All Fields] AND \"ownership\"[All Fields]\"'\n",
    "\n",
    "AG18 = search_filter + '\"feeling of myness\"[All Fields]'\n",
    "AG19 = search_filter + '\"feeling\"[All Fields] AND \"myness\"[All Fields]'\n",
    "\n",
    "AG20 = search_filter + '\"feeling of agency\"[All Fields]'\n",
    "AG21 = search_filter + '\"feeling\"[All Fields] AND \"agency\"[All Fields]'\n",
    "\n",
    "AG22 = search_filter + '\"asomatognosia\"[All Fields]'\n",
    "AG23 = search_filter + '\"proprioceptive drift\"[All Fields]'"
   ]
  },
  {
   "cell_type": "code",
   "execution_count": null,
   "metadata": {
    "collapsed": false
   },
   "outputs": [],
   "source": [
    "new_ids = {}\n",
    "all_new_ids = []\n",
    "\n",
    "AG15_ids = search_and_summarize(search_name='AG15', query=AG15, omit_ids=prev_pmids)\n",
    "new_ids['AG15_ids'] = AG15_ids\n",
    "all_new_ids.extend(set(AG15_ids))\n",
    "\n",
    "AG16_ids = search_and_summarize(search_name='AG16', query=AG16, omit_ids=prev_pmids)\n",
    "new_ids['AG16_ids'] = narrow_id_list(AG16_ids, all_new_ids)\n",
    "all_new_ids.extend(set(AG16_ids))\n",
    "\n",
    "AG17_ids = search_and_summarize(search_name='AG17', query=AG17, omit_ids=prev_pmids)\n",
    "new_ids['AG17_ids'] = narrow_id_list(AG17_ids, all_new_ids)\n",
    "all_new_ids.extend(set(AG17_ids))\n",
    "\n",
    "AG18_ids = search_and_summarize(search_name='AG18', query=AG18, omit_ids=prev_pmids)\n",
    "new_ids['AG18_ids'] = narrow_id_list(AG18_ids, all_new_ids)\n",
    "all_new_ids.extend(set(AG18_ids))\n",
    "\n",
    "AG19_ids = search_and_summarize(search_name='AG19', query=AG19, omit_ids=prev_pmids)\n",
    "new_ids['AG19_ids'] = narrow_id_list(AG19_ids, all_new_ids)\n",
    "all_new_ids.extend(set(AG19_ids))\n",
    "\n",
    "AG20_ids = search_and_summarize(search_name='AG20', query=AG20, omit_ids=prev_pmids)\n",
    "new_ids['AG20_ids'] = narrow_id_list(AG20_ids, all_new_ids)\n",
    "all_new_ids.extend(set(AG20_ids))\n",
    "\n",
    "AG21_ids = search_and_summarize(search_name='AG21', query=AG21, omit_ids=prev_pmids)\n",
    "new_ids['AG21_ids'] = narrow_id_list(AG21_ids, all_new_ids)\n",
    "all_new_ids.extend(set(AG21_ids))\n",
    "\n",
    "# after we were done, matt suggested following 2 searches.\n",
    "\n",
    "other_new_ids = {}\n",
    "other_all_new_ids = list(all_new_ids)\n",
    "\n",
    "AG22_ids = search_and_summarize(search_name='AG22', query=AG22, omit_ids=prev_pmids)\n",
    "other_new_ids['AG22_ids'] = narrow_id_list(AG22_ids, all_new_ids)\n",
    "other_all_new_ids.extend(set(AG22_ids))\n",
    "\n",
    "AG23_ids = search_and_summarize(search_name='AG23', query=AG23, omit_ids=prev_pmids)\n",
    "other_new_ids['AG23_ids'] = narrow_id_list(AG23_ids, all_new_ids)\n",
    "other_all_new_ids.extend(set(AG23_ids))"
   ]
  },
  {
   "cell_type": "raw",
   "metadata": {},
   "source": [
    "65\n",
    "Removed this many ids: 19\n",
    "AG15 search of pubmed found 65 ids of which 46 are new\n",
    "0\n",
    "Removed this many ids: 0\n",
    "AG16 search of pubmed found 0 ids of which 0 are new\n",
    "58\n",
    "Removed this many ids: 6\n",
    "AG17 search of pubmed found 58 ids of which 52 are new\n",
    "0\n",
    "Removed this many ids: 0\n",
    "AG18 search of pubmed found 0 ids of which 0 are new\n",
    "1\n",
    "Removed this many ids: 1\n",
    "AG19 search of pubmed found 1 ids of which 0 are new\n",
    "1\n",
    "Removed this many ids: 0\n",
    "AG20 search of pubmed found 1 ids of which 1 are new\n",
    "31\n",
    "Removed this many ids: 11\n",
    "AG21 search of pubmed found 31 ids of which 20 are new\n",
    "1\n",
    "Removed this many ids: 0\n",
    "AG22 search of pubmed found 1 ids of which 1 are new\n",
    "Removed this many ids: 1\n",
    "13\n",
    "Removed this many ids: 0\n",
    "AG23 search of pubmed found 13 ids of which 13 are new\n",
    "Removed this many ids: 11"
   ]
  },
  {
   "cell_type": "code",
   "execution_count": null,
   "metadata": {
    "collapsed": false
   },
   "outputs": [],
   "source": [
    "temp = [AG15_ids, AG16_ids, AG17_ids, AG18_ids, AG19_ids, AG20_ids, AG21_ids]\n",
    "temp = [pmid for pmids in temp for pmid in pmids]\n",
    "print('total new pmids found across all searches : {}'.format(len(temp)))\n",
    "print('total new pmids found across all_new_ids searches : {}'.format(len(all_new_ids)))\n",
    "print('unique new pmids found across all searches : {}'.format(len(set(all_new_ids))))\n",
    "dups = [item for item, count in collections.Counter(all_new_ids).items() if count > 1]\n",
    "print('duplicates across sets : {}'.format(dups))\n",
    "print([(k, len(v)) for k,v in sorted(new_ids.items())])"
   ]
  },
  {
   "cell_type": "raw",
   "metadata": {},
   "source": [
    "total new pmids found across all searches : 119\n",
    "total new pmids found across all_new_ids searches : 119\n",
    "unique new pmids found across all searches : 107\n",
    "duplicates across sets : ['22510529', '26270552', '24860486', '25518726', '24332794', '25473014', '22194878', '25191256', '23285293', '25295000', '24987350'] # all were in AG21 vs. other sets.\n",
    "[('AG15_ids', 46), ('AG16_ids', 0), ('AG17_ids', 52), ('AG18_ids', 0), ('AG19_ids', 0), ('AG20_ids', 0), ('AG21_ids', 9)]"
   ]
  },
  {
   "cell_type": "code",
   "execution_count": 253,
   "metadata": {
    "collapsed": false
   },
   "outputs": [
    {
     "data": {
      "text/plain": [
       "u'/Users/ccarey/Documents/Projects/NAMI/rdoc/pdfs/20160212_rdoc_project'"
      ]
     },
     "execution_count": 253,
     "metadata": {},
     "output_type": "execute_result"
    }
   ],
   "source": [
    "%pwd"
   ]
  },
  {
   "cell_type": "code",
   "execution_count": 254,
   "metadata": {
    "collapsed": false
   },
   "outputs": [
    {
     "data": {
      "text/plain": [
       "['26180556',\n",
       " '23619067',\n",
       " '21140173',\n",
       " '25971400',\n",
       " '23256901',\n",
       " '22737114',\n",
       " '21371392']"
      ]
     },
     "execution_count": 254,
     "metadata": {},
     "output_type": "execute_result"
    }
   ],
   "source": [
    "fetch_pdfs(new_ids['AG15_ids'], batch + '_AG15_')\n",
    "fetch_pdfs(new_ids['AG17_ids'], batch + '_AG17_')\n",
    "fetch_pdfs(new_ids['AG21_ids'], batch + '_AG21_')"
   ]
  },
  {
   "cell_type": "code",
   "execution_count": null,
   "metadata": {
    "collapsed": true
   },
   "outputs": [],
   "source": [
    "newest_found_pdfs = {}\n",
    "newest_found_pdfs['AG15'] = glob.glob('06_AG15_*')\n",
    "newest_found_pdfs['AG17'] = glob.glob('06_AG17_*')\n",
    "newest_found_pdfs['AG21'] = glob.glob('06_AG21_*')\n",
    "print([(k,len(v)) for k, v in newest_found_pdfs.items()])\n",
    "print(newest_found_pdfs)"
   ]
  },
  {
   "cell_type": "markdown",
   "metadata": {},
   "source": [
    "[('AG17', 46), ('AG15', 36), ('AG21', 7)]\n",
    "{'AG17': ['06_AG17_21208964.pdf', '06_AG17_21451023.pdf', '06_AG17_21521765.pdf', '06_AG17_21633503.pdf', '06_AG17_21687453.pdf', '06_AG17_21738756.pdf', '06_AG17_22073126.pdf', '06_AG17_22399451.pdf', '06_AG17_22658684.pdf', '06_AG17_22829891.pdf', '06_AG17_23123685.pdf', '06_AG17_23144814.pdf', '06_AG17_23209824.pdf', '06_AG17_23226375.pdf', '06_AG17_23285026.pdf', '06_AG17_23300992.pdf', '06_AG17_23416066.pdf', '06_AG17_23680793.pdf', '06_AG17_23682688.pdf', '06_AG17_23690859.pdf', '06_AG17_23720537.pdf', '06_AG17_23804622.pdf', '06_AG17_23858436.pdf', '06_AG17_23964067.pdf', '06_AG17_23980141.pdf', '06_AG17_24060991.pdf', '06_AG17_24073701.pdf', '06_AG17_24260454.pdf', '06_AG17_24268410.pdf', '06_AG17_24385970.pdf', '06_AG17_24465671.pdf', '06_AG17_24465698.pdf', '06_AG17_24498012.pdf', '06_AG17_24671172.pdf', '06_AG17_24699795.pdf', '06_AG17_24782721.pdf', '06_AG17_24806404.pdf', '06_AG17_24959128.pdf', '06_AG17_25210738.pdf', '06_AG17_25285620.pdf', '06_AG17_25295527.pdf', '06_AG17_25338780.pdf', '06_AG17_25583608.pdf', '06_AG17_25658822.pdf', '06_AG17_25775041.pdf', '06_AG17_25906330.pdf'], 'AG15': ['06_AG15_21295497.pdf', '06_AG15_21302161.pdf', '06_AG15_22129483.pdf', '06_AG15_22194878.pdf', '06_AG15_22326304.pdf', '06_AG15_22375891.pdf', '06_AG15_22383963.pdf', '06_AG15_22451482.pdf', '06_AG15_22529796.pdf', '06_AG15_22813429.pdf', '06_AG15_22871335.pdf', '06_AG15_23086590.pdf', '06_AG15_23143153.pdf', '06_AG15_23227017.pdf', '06_AG15_23285293.pdf', '06_AG15_23372562.pdf', '06_AG15_23445715.pdf', '06_AG15_23494975.pdf', '06_AG15_23823467.pdf', '06_AG15_23977268.pdf', '06_AG15_24009575.pdf', '06_AG15_24019932.pdf', '06_AG15_24093017.pdf', '06_AG15_24367303.pdf', '06_AG15_24443662.pdf', '06_AG15_24860486.pdf', '06_AG15_24987350.pdf', '06_AG15_25007276.pdf', '06_AG15_25191256.pdf', '06_AG15_25228869.pdf', '06_AG15_25295000.pdf', '06_AG15_25339886.pdf', '06_AG15_25473014.pdf', '06_AG15_25518726.pdf', '06_AG15_25904779.pdf', '06_AG15_26270552.pdf'], 'AG21': ['06_AG21_21140173.pdf', '06_AG21_21371392.pdf', '06_AG21_22737114.pdf', '06_AG21_23256901.pdf', '06_AG21_23619067.pdf', '06_AG21_25971400.pdf', '06_AG21_26180556.pdf']}"
   ]
  },
  {
   "cell_type": "markdown",
   "metadata": {},
   "source": [
    "### 1/2 of new pdfs to MK\n",
    "89 new pdfs, 1/2 of which is 45\n",
    "\n",
    "These were broken, downloaded manually\n",
    "\n",
    "    06_AG15_21295497\n",
    "    06_AG15_22813429\n",
    "    06_AG15_23143153\n",
    "    06_AG17_24268410\n",
    "    06_AG17_25583608"
   ]
  },
  {
   "cell_type": "code",
   "execution_count": 269,
   "metadata": {
    "collapsed": false
   },
   "outputs": [
    {
     "name": "stdout",
     "output_type": "stream",
     "text": [
      "89\n"
     ]
    }
   ],
   "source": [
    "random.seed(0)\n",
    "files = [pdf for pdfs in newest_found_pdfs.values() for pdf in pdfs]\n",
    "print(len(files))\n",
    "\n",
    "idxs = range(len(files))\n",
    "random.shuffle(idxs)\n",
    "mk = [files[idx] for idx in idxs[0:45]]\n",
    "tc_maybe = [files[idx] for idx in idxs[45:89]]"
   ]
  },
  {
   "cell_type": "code",
   "execution_count": 270,
   "metadata": {
    "collapsed": false
   },
   "outputs": [],
   "source": [
    "copy_to_annotator(mk, 'mk_', '_mk.pdf')\n",
    "# copy_to_annotator(tc_maybe, 'tc_', '_tc.pdf')"
   ]
  },
  {
   "cell_type": "code",
   "execution_count": null,
   "metadata": {
    "collapsed": true
   },
   "outputs": [],
   "source": [
    "print(mk)\n",
    "print(tc_maybe)"
   ]
  },
  {
   "cell_type": "markdown",
   "metadata": {},
   "source": [
    "['06_AG15_22129483.pdf', '06_AG17_21687453.pdf', '06_AG17_23690859.pdf', '06_AG21_23256901.pdf', '06_AG15_24367303.pdf', '06_AG21_23619067.pdf', '06_AG15_24019932.pdf', '06_AG15_26270552.pdf', '06_AG15_22375891.pdf', '06_AG15_22529796.pdf', '06_AG17_24782721.pdf', '06_AG17_24060991.pdf', '06_AG15_25191256.pdf', '06_AG17_21451023.pdf', '06_AG17_22399451.pdf', '06_AG17_24385970.pdf', '06_AG15_23143153.pdf', '06_AG15_25007276.pdf', '06_AG17_24498012.pdf', '06_AG17_21738756.pdf', '06_AG17_23209824.pdf', '06_AG15_23227017.pdf', '06_AG17_23226375.pdf', '06_AG17_23123685.pdf', '06_AG17_25775041.pdf', '06_AG15_23445715.pdf', '06_AG17_24073701.pdf', '06_AG17_23300992.pdf', '06_AG17_25338780.pdf', '06_AG17_23416066.pdf', '06_AG15_24093017.pdf', '06_AG21_21371392.pdf', '06_AG17_21633503.pdf', '06_AG15_25339886.pdf', '06_AG15_23372562.pdf', '06_AG15_24987350.pdf', '06_AG17_21521765.pdf', '06_AG17_23680793.pdf', '06_AG17_24465698.pdf', '06_AG21_22737114.pdf', '06_AG17_22829891.pdf', '06_AG15_21302161.pdf', '06_AG17_22658684.pdf', '06_AG15_22383963.pdf', '06_AG15_22871335.pdf']\n",
    "['06_AG17_23144814.pdf', '06_AG17_25295527.pdf', '06_AG17_23964067.pdf', '06_AG15_22451482.pdf', '06_AG17_24671172.pdf', '06_AG17_25583608.pdf', '06_AG17_23720537.pdf', '06_AG15_25904779.pdf', '06_AG17_21208964.pdf', '06_AG15_23823467.pdf', '06_AG21_21140173.pdf', '06_AG17_23285026.pdf', '06_AG15_22326304.pdf', '06_AG17_24268410.pdf', '06_AG15_25473014.pdf', '06_AG15_22813429.pdf', '06_AG17_24959128.pdf', '06_AG17_24260454.pdf', '06_AG17_22073126.pdf', '06_AG17_24465671.pdf', '06_AG17_25906330.pdf', '06_AG15_23285293.pdf', '06_AG15_22194878.pdf', '06_AG15_25295000.pdf', '06_AG15_23494975.pdf', '06_AG21_26180556.pdf', '06_AG15_24443662.pdf', '06_AG21_25971400.pdf', '06_AG17_23682688.pdf', '06_AG15_25518726.pdf', '06_AG15_23086590.pdf', '06_AG17_23804622.pdf', '06_AG17_25285620.pdf', '06_AG15_24860486.pdf', '06_AG15_21295497.pdf', '06_AG17_25210738.pdf', '06_AG17_23980141.pdf', '06_AG15_23977268.pdf', '06_AG17_24699795.pdf', '06_AG17_25658822.pdf', '06_AG17_23858436.pdf', '06_AG17_24806404.pdf', '06_AG15_24009575.pdf', '06_AG15_25228869.pdf']"
   ]
  },
  {
   "cell_type": "markdown",
   "metadata": {},
   "source": [
    "## Add ids to medic db for which we have corresponding pdfs\n",
    "- 206 pmids written to batch_06_AG_pmids and medic db."
   ]
  },
  {
   "cell_type": "code",
   "execution_count": 43,
   "metadata": {
    "collapsed": false
   },
   "outputs": [
    {
     "name": "stdout",
     "output_type": "stream",
     "text": [
      "/Users/ccarey/Documents/Projects/NAMI/rdoc/pdfs/20160212_rdoc_project\n"
     ]
    }
   ],
   "source": [
    "%cd /Users/ccarey/Documents/Projects/NAMI/rdoc/pdfs/20160212_rdoc_project\n",
    "all_found = glob.glob('06_AG*.pdf')\n",
    "all_found.extend(mk)\n",
    "all_found.extend(tc_maybe)"
   ]
  },
  {
   "cell_type": "code",
   "execution_count": 44,
   "metadata": {
    "collapsed": false
   },
   "outputs": [],
   "source": [
    "pattern = '([0-9]{6,9})'\n",
    "s = re.compile(pattern).search\n",
    "medic_ids = set([pmid.group(1) for pmid in map(s, all_found) if pmid])"
   ]
  },
  {
   "cell_type": "code",
   "execution_count": 47,
   "metadata": {
    "collapsed": false
   },
   "outputs": [
    {
     "name": "stdout",
     "output_type": "stream",
     "text": [
      "Writing 206 putative Agency ids to /Users/ccarey/Documents/Projects/NAMI/rdoc/tasks/task_data_temp/batch_06_AG_pmids.\n"
     ]
    }
   ],
   "source": [
    "fname = '/Users/ccarey/Documents/Projects/NAMI/rdoc/tasks/task_data_temp/batch_06_AG_pmids'\n",
    "print('Writing {} putative Agency ids to {}.'.format(len(medic_ids), fname))\n",
    "\n",
    "with open(fname, 'w') as f:\n",
    "    f.write('\\n'.join(medic_ids))\n",
    "    f.write('\\n')"
   ]
  },
  {
   "cell_type": "code",
   "execution_count": 48,
   "metadata": {
    "collapsed": false
   },
   "outputs": [
    {
     "name": "stdout",
     "output_type": "stream",
     "text": [
      "     206\r\n"
     ]
    }
   ],
   "source": [
    "!medic update --pmid-list {fname} 2> /dev/null\n",
    "!medic --format tsv write --pmid-list {fname} 2> /dev/null | wc -l"
   ]
  }
 ],
 "metadata": {
  "kernelspec": {
   "display_name": "Python 2",
   "language": "python",
   "name": "python2"
  },
  "language_info": {
   "codemirror_mode": {
    "name": "ipython",
    "version": 2
   },
   "file_extension": ".py",
   "mimetype": "text/x-python",
   "name": "python",
   "nbconvert_exporter": "python",
   "pygments_lexer": "ipython2",
   "version": "2.7.10"
  }
 },
 "nbformat": 4,
 "nbformat_minor": 0
}
